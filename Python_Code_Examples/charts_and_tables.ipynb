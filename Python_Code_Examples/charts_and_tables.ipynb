{
 "cells": [
  {
   "cell_type": "markdown",
   "metadata": {},
   "source": [
    "# Charts and Tables\n",
    "\n",
    "`matplotlib` can be used to create simple charts (histograms, line charts, etc.). See: https://matplotlib.org/\n",
    "\n",
    "`pandas` can be used for data frames (tables).\n",
    "\n",
    "## Create some data"
   ]
  },
  {
   "cell_type": "code",
   "execution_count": 93,
   "metadata": {
    "scrolled": false
   },
   "outputs": [
    {
     "data": {
      "text/html": [
       "<div>\n",
       "<style scoped>\n",
       "    .dataframe tbody tr th:only-of-type {\n",
       "        vertical-align: middle;\n",
       "    }\n",
       "\n",
       "    .dataframe tbody tr th {\n",
       "        vertical-align: top;\n",
       "    }\n",
       "\n",
       "    .dataframe thead th {\n",
       "        text-align: right;\n",
       "    }\n",
       "</style>\n",
       "<table border=\"1\" class=\"dataframe\">\n",
       "  <thead>\n",
       "    <tr style=\"text-align: right;\">\n",
       "      <th></th>\n",
       "      <th>agent 1</th>\n",
       "      <th>agent 2</th>\n",
       "      <th>agent 3</th>\n",
       "    </tr>\n",
       "  </thead>\n",
       "  <tbody>\n",
       "    <tr>\n",
       "      <th>0</th>\n",
       "      <td>7.325704</td>\n",
       "      <td>2.369879</td>\n",
       "      <td>2.933792</td>\n",
       "    </tr>\n",
       "    <tr>\n",
       "      <th>1</th>\n",
       "      <td>6.780901</td>\n",
       "      <td>12.205694</td>\n",
       "      <td>0.199503</td>\n",
       "    </tr>\n",
       "    <tr>\n",
       "      <th>2</th>\n",
       "      <td>12.116726</td>\n",
       "      <td>6.581299</td>\n",
       "      <td>13.199310</td>\n",
       "    </tr>\n",
       "    <tr>\n",
       "      <th>3</th>\n",
       "      <td>21.086132</td>\n",
       "      <td>6.377929</td>\n",
       "      <td>27.416541</td>\n",
       "    </tr>\n",
       "    <tr>\n",
       "      <th>4</th>\n",
       "      <td>2.713940</td>\n",
       "      <td>4.315841</td>\n",
       "      <td>8.608246</td>\n",
       "    </tr>\n",
       "    <tr>\n",
       "      <th>...</th>\n",
       "      <td>...</td>\n",
       "      <td>...</td>\n",
       "      <td>...</td>\n",
       "    </tr>\n",
       "    <tr>\n",
       "      <th>95</th>\n",
       "      <td>85.322586</td>\n",
       "      <td>361.609354</td>\n",
       "      <td>65.482891</td>\n",
       "    </tr>\n",
       "    <tr>\n",
       "      <th>96</th>\n",
       "      <td>101.404656</td>\n",
       "      <td>378.664585</td>\n",
       "      <td>59.282787</td>\n",
       "    </tr>\n",
       "    <tr>\n",
       "      <th>97</th>\n",
       "      <td>98.368277</td>\n",
       "      <td>400.994916</td>\n",
       "      <td>73.614638</td>\n",
       "    </tr>\n",
       "    <tr>\n",
       "      <th>98</th>\n",
       "      <td>99.682389</td>\n",
       "      <td>369.203484</td>\n",
       "      <td>66.784909</td>\n",
       "    </tr>\n",
       "    <tr>\n",
       "      <th>99</th>\n",
       "      <td>77.462768</td>\n",
       "      <td>401.155531</td>\n",
       "      <td>44.608475</td>\n",
       "    </tr>\n",
       "  </tbody>\n",
       "</table>\n",
       "<p>100 rows × 3 columns</p>\n",
       "</div>"
      ],
      "text/plain": [
       "       agent 1     agent 2    agent 3\n",
       "0     7.325704    2.369879   2.933792\n",
       "1     6.780901   12.205694   0.199503\n",
       "2    12.116726    6.581299  13.199310\n",
       "3    21.086132    6.377929  27.416541\n",
       "4     2.713940    4.315841   8.608246\n",
       "..         ...         ...        ...\n",
       "95   85.322586  361.609354  65.482891\n",
       "96  101.404656  378.664585  59.282787\n",
       "97   98.368277  400.994916  73.614638\n",
       "98   99.682389  369.203484  66.784909\n",
       "99   77.462768  401.155531  44.608475\n",
       "\n",
       "[100 rows x 3 columns]"
      ]
     },
     "execution_count": 93,
     "metadata": {},
     "output_type": "execute_result"
    }
   ],
   "source": [
    "import numpy as np  \n",
    "import pandas as pd\n",
    "\n",
    "# create some artificial performance data for 3 agents and 100 runs of a O(n^2) algorithm \n",
    "# create data for problem size n = 1 .. 100.\n",
    "n_max = 100\n",
    "runtime = {\n",
    "    \"agent 1\" : np.abs(np.add(np.power(np.divide(range(n_max), 10), 2), \n",
    "                              np.random.normal(loc = 0, scale = 10, size = n_max))),\n",
    "    \"agent 2\" : np.abs(np.add(np.power(np.divide(range(n_max),  5), 2), \n",
    "                              np.random.normal(loc = 0 , scale = 10, size = n_max))),\n",
    "    \"agent 3\" : np.abs(np.add(np.power(np.divide(range(n_max), 12), 2), \n",
    "                              np.random.normal(loc = 0 , scale = 10, size = n_max)))\n",
    "}\n",
    "\n",
    "# show data as a data frame using pandas\n",
    "df = pd.DataFrame(runtime)\n",
    "df"
   ]
  },
  {
   "cell_type": "code",
   "execution_count": 94,
   "metadata": {},
   "outputs": [
    {
     "data": {
      "text/html": [
       "<div>\n",
       "<style scoped>\n",
       "    .dataframe tbody tr th:only-of-type {\n",
       "        vertical-align: middle;\n",
       "    }\n",
       "\n",
       "    .dataframe tbody tr th {\n",
       "        vertical-align: top;\n",
       "    }\n",
       "\n",
       "    .dataframe thead th {\n",
       "        text-align: right;\n",
       "    }\n",
       "</style>\n",
       "<table border=\"1\" class=\"dataframe\">\n",
       "  <thead>\n",
       "    <tr style=\"text-align: right;\">\n",
       "      <th></th>\n",
       "      <th>agent 1</th>\n",
       "      <th>agent 2</th>\n",
       "      <th>agent 3</th>\n",
       "    </tr>\n",
       "  </thead>\n",
       "  <tbody>\n",
       "    <tr>\n",
       "      <th>0</th>\n",
       "      <td>95.701239</td>\n",
       "      <td>94.498330</td>\n",
       "      <td>65.803503</td>\n",
       "    </tr>\n",
       "    <tr>\n",
       "      <th>1</th>\n",
       "      <td>99.922152</td>\n",
       "      <td>111.680400</td>\n",
       "      <td>73.300546</td>\n",
       "    </tr>\n",
       "    <tr>\n",
       "      <th>2</th>\n",
       "      <td>94.943873</td>\n",
       "      <td>96.132442</td>\n",
       "      <td>60.597104</td>\n",
       "    </tr>\n",
       "    <tr>\n",
       "      <th>3</th>\n",
       "      <td>94.591520</td>\n",
       "      <td>172.113261</td>\n",
       "      <td>73.057522</td>\n",
       "    </tr>\n",
       "    <tr>\n",
       "      <th>4</th>\n",
       "      <td>101.003509</td>\n",
       "      <td>122.482081</td>\n",
       "      <td>69.952804</td>\n",
       "    </tr>\n",
       "    <tr>\n",
       "      <th>...</th>\n",
       "      <td>...</td>\n",
       "      <td>...</td>\n",
       "      <td>...</td>\n",
       "    </tr>\n",
       "    <tr>\n",
       "      <th>95</th>\n",
       "      <td>89.719881</td>\n",
       "      <td>127.254909</td>\n",
       "      <td>69.913533</td>\n",
       "    </tr>\n",
       "    <tr>\n",
       "      <th>96</th>\n",
       "      <td>104.075988</td>\n",
       "      <td>120.870298</td>\n",
       "      <td>71.581537</td>\n",
       "    </tr>\n",
       "    <tr>\n",
       "      <th>97</th>\n",
       "      <td>94.970492</td>\n",
       "      <td>120.615228</td>\n",
       "      <td>64.948841</td>\n",
       "    </tr>\n",
       "    <tr>\n",
       "      <th>98</th>\n",
       "      <td>109.122426</td>\n",
       "      <td>118.313787</td>\n",
       "      <td>64.881135</td>\n",
       "    </tr>\n",
       "    <tr>\n",
       "      <th>99</th>\n",
       "      <td>92.849116</td>\n",
       "      <td>154.859361</td>\n",
       "      <td>68.588091</td>\n",
       "    </tr>\n",
       "  </tbody>\n",
       "</table>\n",
       "<p>100 rows × 3 columns</p>\n",
       "</div>"
      ],
      "text/plain": [
       "       agent 1     agent 2    agent 3\n",
       "0    95.701239   94.498330  65.803503\n",
       "1    99.922152  111.680400  73.300546\n",
       "2    94.943873   96.132442  60.597104\n",
       "3    94.591520  172.113261  73.057522\n",
       "4   101.003509  122.482081  69.952804\n",
       "..         ...         ...        ...\n",
       "95   89.719881  127.254909  69.913533\n",
       "96  104.075988  120.870298  71.581537\n",
       "97   94.970492  120.615228  64.948841\n",
       "98  109.122426  118.313787  64.881135\n",
       "99   92.849116  154.859361  68.588091\n",
       "\n",
       "[100 rows x 3 columns]"
      ]
     },
     "execution_count": 94,
     "metadata": {},
     "output_type": "execute_result"
    }
   ],
   "source": [
    "# create data for n = 10 and N = 100 replications, so we can compare distributions.\n",
    "N = 100\n",
    "performance = {\n",
    "    \"agent 1\" : np.add(100, np.random.normal(loc = 0, scale = 10, size = N)),\n",
    "    \"agent 2\" : np.add(120, np.random.normal(loc = 0, scale = 20, size = N)),\n",
    "    \"agent 3\" : np.add(70,  np.random.normal(loc = 0, scale =  5, size = N))\n",
    "}\n",
    "\n",
    "# show data as a data frame using pandas\n",
    "df = pd.DataFrame(performance)\n",
    "df"
   ]
  },
  {
   "cell_type": "markdown",
   "metadata": {},
   "source": [
    "## Charts \n",
    "\n",
    "### Line Charts\n",
    "\n",
    "Plot run time as a function of problem size $n = 1, ...$. This can be used to compare the runtime and look at scalability. In this example, the run time increase with n by $O(n^2)$. Often, you run each size $n$ several times and average the runtime."
   ]
  },
  {
   "cell_type": "code",
   "execution_count": 95,
   "metadata": {},
   "outputs": [],
   "source": [
    "import matplotlib.pyplot as plt\n",
    "\n",
    "# add a grid to the plots\n",
    "import seaborn as sns \n",
    "sns.set(style=\"whitegrid\")"
   ]
  },
  {
   "cell_type": "code",
   "execution_count": 96,
   "metadata": {},
   "outputs": [
    {
     "data": {
      "image/png": "[encoded data removed]",
      "text/plain": [
       "<Figure size 432x288 with 1 Axes>"
      ]
     },
     "metadata": {},
     "output_type": "display_data"
    }
   ],
   "source": [
    "x = range(N)\n",
    "plt.plot(x, runtime[\"agent 1\"], label = \"agent1\") \n",
    "plt.plot(x, runtime[\"agent 2\"], label = \"agent2\") \n",
    "plt.plot(x, runtime[\"agent 3\"], label = \"agent3\") \n",
    "plt.xlabel(\"Problem size\")\n",
    "plt.ylabel(\"Run time in seconds\")\n",
    "plt.legend()\n",
    "plt.show()"
   ]
  },
  {
   "cell_type": "markdown",
   "metadata": {},
   "source": [
    "### Scatter plots\n",
    "\n",
    "Compare $N$ runs of a fixed problem size of $n=10$. Here the runtimes of the two agents are not correlated (because I randomly generated the data). Most of the points are above the diagonal indicating that agent 2 has higher performance."
   ]
  },
  {
   "cell_type": "code",
   "execution_count": 97,
   "metadata": {
    "scrolled": true
   },
   "outputs": [
    {
     "data": {
      "image/png": "[encoded data removed]",
      "text/plain": [
       "<Figure size 432x288 with 1 Axes>"
      ]
     },
     "metadata": {},
     "output_type": "display_data"
    }
   ],
   "source": [
    "plt.scatter(performance[\"agent 1\"], performance[\"agent 2\"]) \n",
    "plt.xlabel(\"Performance agent 1\")\n",
    "plt.ylabel(\"Performance agent 2\")\n",
    "plt.plot([0, 180], [0, 180], \"--\", color = \"black\")\n",
    "plt.show()"
   ]
  },
  {
   "cell_type": "markdown",
   "metadata": {},
   "source": [
    "### Bar plots\n",
    "\n",
    "Compare the average performance performance."
   ]
  },
  {
   "cell_type": "code",
   "execution_count": 98,
   "metadata": {},
   "outputs": [
    {
     "name": "stdout",
     "output_type": "stream",
     "text": [
      "Mean performance: [ 98.19496411 117.98918475  70.2480007 ]\n"
     ]
    },
    {
     "data": {
      "image/png": "[encoded data removed]",
      "text/plain": [
       "<Figure size 432x288 with 1 Axes>"
      ]
     },
     "metadata": {},
     "output_type": "display_data"
    }
   ],
   "source": [
    "mean_performance = np.mean(list(performance.values()), axis = 1)\n",
    "\n",
    "print(f\"Mean performance: {mean_performance}\")\n",
    "\n",
    "plt.bar(performance.keys(), mean_performance)\n",
    "plt.ylabel(\"Mean performance\")\n",
    "plt.show()"
   ]
  },
  {
   "cell_type": "markdown",
   "metadata": {},
   "source": [
    "### Histograms\n",
    "\n",
    "Show the distribution of the performance for an agent."
   ]
  },
  {
   "cell_type": "code",
   "execution_count": 99,
   "metadata": {},
   "outputs": [
    {
     "data": {
      "image/png": "[encoded data removed]",
      "text/plain": [
       "<Figure size 432x288 with 1 Axes>"
      ]
     },
     "metadata": {},
     "output_type": "display_data"
    }
   ],
   "source": [
    "plt.hist(performance[\"agent 1\"], bins = 20)\n",
    "plt.xlabel(\"Performance of agent 1\")\n",
    "plt.ylabel(\"Frequency\")\n",
    "plt.show()"
   ]
  },
  {
   "cell_type": "markdown",
   "metadata": {},
   "source": [
    "Use histograms to compare the performance distribution between agents."
   ]
  },
  {
   "cell_type": "code",
   "execution_count": 100,
   "metadata": {},
   "outputs": [
    {
     "data": {
      "image/png": "[encoded data removed]",
      "text/plain": [
       "<Figure size 432x288 with 1 Axes>"
      ]
     },
     "metadata": {},
     "output_type": "display_data"
    }
   ],
   "source": [
    "plt.hist(performance[\"agent 1\"], bins = 20, alpha = .6, density=True)\n",
    "plt.hist(performance[\"agent 2\"], bins = 20, alpha = .6, density=True)\n",
    "plt.hist(performance[\"agent 3\"], bins = 20, alpha = .6, density=True)\n",
    "plt.xlabel(\"Performance\")\n",
    "plt.ylabel(\"Density\")\n",
    "plt.legend(labels = [\"agent 1\", \"agent 2\", \"agent 3\"])\n",
    "plt.show()"
   ]
  },
  {
   "cell_type": "markdown",
   "metadata": {},
   "source": [
    "### Boxplots\n",
    "\n",
    "Compares distributions using a simplified representation of the histogram as a box (containing the middle 50% of the data) with wiskers. The notches (cutouts) around the median show the 95% confidence interval around the median. If the notches between two boxes do not overlap, then one is significantly better than the other (at a p-value of 0.05). In this case, agent 2 is significantly better than agent 1. "
   ]
  },
  {
   "cell_type": "code",
   "execution_count": 101,
   "metadata": {},
   "outputs": [
    {
     "data": {
      "image/png": "[encoded data removed]",
      "text/plain": [
       "<Figure size 432x288 with 1 Axes>"
      ]
     },
     "metadata": {},
     "output_type": "display_data"
    }
   ],
   "source": [
    "bplot = plt.boxplot(list(performance.values()),\n",
    "                     notch = True,                 # show 95% confidence intervals around the median\n",
    "                     bootstrap = 1000,             # used to calculate the notches\n",
    "                     vert = True,                  # vertical box alignment\n",
    "                     patch_artist = True,          # fill with color\n",
    "                     labels = performance.keys())  # will be used to label x-ticks\n",
    "plt.ylabel(\"Performance\")\n",
    "plt.show()"
   ]
  },
  {
   "cell_type": "markdown",
   "metadata": {},
   "source": [
    "## Show Tables\n",
    "\n",
    "Markdown tables can be produced using markdown syntax (see https://www.markdownguide.org/extended-syntax/):\n",
    "\n",
    "```\n",
    "| x   | y    |\n",
    "| --- | ---- |\n",
    "| 1.1 | 12.3 |\n",
    "| 0.8 | 18.0 |\n",
    "```\n",
    "\n",
    "Here is the resulting table\n",
    "\n",
    "| x   | y    |\n",
    "| --- | ---- |\n",
    "| 1.1 | 12.3 |\n",
    "| 0.8 | 18.0 |"
   ]
  },
  {
   "cell_type": "markdown",
   "metadata": {},
   "source": [
    "Tables in code can be printed in several ways. The easiest is to use `pandas` dataframes. Unfortunately, it cannot print custom row names."
   ]
  },
  {
   "cell_type": "code",
   "execution_count": 102,
   "metadata": {},
   "outputs": [
    {
     "name": "stdout",
     "output_type": "stream",
     "text": [
      "[[1 2]\n",
      " [3 4]\n",
      " [5 6]]\n"
     ]
    }
   ],
   "source": [
    "import numpy as np\n",
    "\n",
    "data = np.array([[1, 2], [3 ,4], [5, 6]])\n",
    "\n",
    "print(data)\n",
    "\n"
   ]
  },
  {
   "cell_type": "code",
   "execution_count": 103,
   "metadata": {},
   "outputs": [
    {
     "data": {
      "text/html": [
       "<div>\n",
       "<style scoped>\n",
       "    .dataframe tbody tr th:only-of-type {\n",
       "        vertical-align: middle;\n",
       "    }\n",
       "\n",
       "    .dataframe tbody tr th {\n",
       "        vertical-align: top;\n",
       "    }\n",
       "\n",
       "    .dataframe thead th {\n",
       "        text-align: right;\n",
       "    }\n",
       "</style>\n",
       "<table border=\"1\" class=\"dataframe\">\n",
       "  <thead>\n",
       "    <tr style=\"text-align: right;\">\n",
       "      <th></th>\n",
       "      <th>x</th>\n",
       "      <th>y</th>\n",
       "    </tr>\n",
       "  </thead>\n",
       "  <tbody>\n",
       "    <tr>\n",
       "      <th>0</th>\n",
       "      <td>1</td>\n",
       "      <td>2</td>\n",
       "    </tr>\n",
       "    <tr>\n",
       "      <th>1</th>\n",
       "      <td>3</td>\n",
       "      <td>4</td>\n",
       "    </tr>\n",
       "    <tr>\n",
       "      <th>2</th>\n",
       "      <td>5</td>\n",
       "      <td>6</td>\n",
       "    </tr>\n",
       "  </tbody>\n",
       "</table>\n",
       "</div>"
      ],
      "text/plain": [
       "   x  y\n",
       "0  1  2\n",
       "1  3  4\n",
       "2  5  6"
      ]
     },
     "execution_count": 103,
     "metadata": {},
     "output_type": "execute_result"
    }
   ],
   "source": [
    "import pandas as pd\n",
    "pd.DataFrame(data, columns=[\"x\", \"y\"])"
   ]
  }
 ],
 "metadata": {
  "kernelspec": {
   "display_name": "Python 3",
   "language": "python",
   "name": "python3"
  },
  "language_info": {
   "codemirror_mode": {
    "name": "ipython",
    "version": 3
   },
   "file_extension": ".py",
   "mimetype": "text/x-python",
   "name": "python",
   "nbconvert_exporter": "python",
   "pygments_lexer": "ipython3",
   "version": "3.8.5"
  }
 },
 "nbformat": 4,
 "nbformat_minor": 4
}
