{
 "cells": [
  {
   "cell_type": "markdown",
   "metadata": {},
   "source": [
    "# Adversarial Search: Playing Connect 4\n",
    "\n",
    "\n",
    "## Instructions\n",
    "\n",
    "Total Points: Undegraduates 10, graduate students 11\n",
    "\n",
    "Complete this notebook and submit it. The notebook needs to be a complete project report with your implementation, documentation including a short discussion of how your implementation works and your design choices, and experimental results (e.g., tables and charts with simulation results) with a short discussion of what they mean. Use the provided notebook cells and insert additional code and markdown cells as needed.\n",
    "\n",
    "## Introduction\n",
    "\n",
    "You will implement different versions of agents that play Connect 4:\n",
    "\n",
    "> \"Connect 4 is a two-player connection board game, in which the players choose a color and then take turns dropping colored discs into a seven-column, six-row vertically suspended grid. The pieces fall straight down, occupying the lowest available space within the column. The objective of the game is to be the first to form a horizontal, vertical, or diagonal line of four of one's own discs.\" (see [Connect Four on Wikipedia](https://en.wikipedia.org/wiki/Connect_Four))"
   ]
  },
  {
   "cell_type": "markdown",
   "metadata": {},
   "source": [
    "## Task 1: Defining the Search Problem [1 point]\n",
    "\n",
    "Define the components of the search problem:\n",
    "\n",
    "* Initial state\n",
    "* Actions\n",
    "* Transition model\n",
    "* Goal state"
   ]
  },
  {
   "cell_type": "markdown",
   "metadata": {},
   "source": [
    "\n",
    "* Initial state\n",
    " * Empty board and it is marked as someones turn.\n",
    "* Actions\n",
    " * Either player can play in either column, as long as there isn't 6 pieces in that column.\n",
    "* Transition model\n",
    " * Given a state and an action, the next state is the same board with one more piece on the lowest availble space of the chosen action.\n",
    "* Goal state\n",
    " * Goal States for both players is all states with 4 or more in a diagonal ."
   ]
  },
  {
   "cell_type": "markdown",
   "metadata": {},
   "source": [
    "How big is the search space?"
   ]
  },
  {
   "cell_type": "code",
   "execution_count": 1,
   "metadata": {},
   "outputs": [],
   "source": [
    "# Your code/ answer goes here."
   ]
  },
  {
   "cell_type": "markdown",
   "metadata": {},
   "source": [
    "__Note:__ The search space for a $6 \\times 7$ board is large. You can experiment with smaller boards (the smallest is $4 times \\4$) and/or changing the winning rule to connect 3 instead of 4."
   ]
  },
  {
   "cell_type": "markdown",
   "metadata": {},
   "source": [
    "## Task 2: Game Environment and Random Agent [2 point]\n",
    "\n",
    "Use a numpy character array as the board."
   ]
  },
  {
   "cell_type": "markdown",
   "metadata": {},
   "source": [
    "Implement the board and helper functions for:\n",
    "\n",
    "* The transition model (result).\n",
    "* The utility function.\n",
    "* Check for terminal states.\n",
    "* A check for available actions.\n",
    "* A function to visualize the board.\n",
    "\n",
    "Make sure that all these functions work with boards of different sizes.\n",
    "\n",
    "Implement an agent that plays randomly and let two random agents play against each other 1000 times. How often does each player win? Is the result expected? "
   ]
  },
  {
   "cell_type": "code",
   "execution_count": 2,
   "metadata": {},
   "outputs": [
    {
     "name": "stdout",
     "output_type": "stream",
     "text": [
      "| | | | | | | |\n",
      "| | | | | | | |\n",
      "| | | | | | | |\n",
      "| | | | | | | |\n",
      "| | | | | | | |\n",
      "| | | | | | | |\n",
      "_______________\n"
     ]
    }
   ],
   "source": [
    "import numpy as np\n",
    "import math\n",
    "def empty_board(shape=(6, 7)):\n",
    "    return np.full(shape=shape, fill_value=' ')\n",
    "\n",
    "def show_board(board):\n",
    "    for row in board:\n",
    "        line = '|'\n",
    "        for char in row:\n",
    "            line += char +  '|'\n",
    "        print(line)\n",
    "    print('_' * (2*len(board[0]) + 1))\n",
    "show_board(empty_board())"
   ]
  },
  {
   "cell_type": "markdown",
   "metadata": {},
   "source": [
    "Instead of colors for the players use 'x' and 'o' to represent the players. Make sure that your agent functions all have the from: `agent_type(board, player = 'x')`, where board is the current board position and player is the player whose next move it is and who the agent should play."
   ]
  },
  {
   "cell_type": "code",
   "execution_count": 3,
   "metadata": {},
   "outputs": [],
   "source": [
    "import random\n",
    "def to_move(board, player, move):\n",
    "    new_board = board.copy()\n",
    "    for row in reversed(new_board):\n",
    "        if row[move] == ' ':\n",
    "            row[move] = player\n",
    "            return new_board\n",
    "    return board\n",
    "#helper for utility functions\n",
    "def diagonal_rows(arr):\n",
    "    rows = []\n",
    "    num_rows = len(arr)\n",
    "    num_cols = len(arr[0])\n",
    "    arr = np.asarray(arr)\n",
    "    arr2 = arr.copy()\n",
    "    arr2 = np.fliplr(arr2)\n",
    "    for i in range((-1)*max(num_cols,num_rows),max(num_cols,num_rows)):\n",
    "        possible_arr = np.diagonal(arr,i,axis1=0,axis2=1)\n",
    "        if len(possible_arr) != 0:\n",
    "            rows.append(possible_arr)\n",
    "        possible_arr = np.diagonal(arr2,i,axis1=0,axis2=1)\n",
    "        if len(possible_arr) != 0:\n",
    "            rows.append(possible_arr)\n",
    "    return rows\n",
    "def switch_player(player):\n",
    "    if player == 'x':\n",
    "        return 'o'\n",
    "    else:\n",
    "        return 'x'\n",
    "\n",
    "def utility(board, player):\n",
    "    opponent = switch_player(player)\n",
    "    #check if there is a horizonatal winner\n",
    "    for row in board:\n",
    "        for x in range(0, len(row) - 3):\n",
    "            if row[x] == player and row[x + 1] == player and row[x + 2] == player and row[x + 3] == player:\n",
    "                return 1\n",
    "            if row[x] == opponent and row[x + 1] == opponent and row[x + 2] == opponent and row[x + 3] == opponent:\n",
    "                return -1\n",
    "    #check if there is a vertical winner\n",
    "    vertical_board = board.copy()\n",
    "    vertical_board = np.rot90(vertical_board)\n",
    "    for row in vertical_board:\n",
    "        for x in range(0, len(row) - 3):\n",
    "            if row[x] == player and row[x + 1] == player and row[x + 2] == player and row[x + 3] == player:\n",
    "                return 1\n",
    "            if row[x] == opponent and row[x + 1] == opponent and row[x + 2] == opponent and row[x + 3] == opponent:\n",
    "                return -1\n",
    "    rows = len(board)\n",
    "    columns = len(board[0])\n",
    "    #check diagonal\n",
    "    for row in diagonal_rows(board):\n",
    "        for x in range(0, len(row) - 3):\n",
    "            if row[x] == player and row[x + 1] == player and row[x + 2] == player and row[x + 3] == player:\n",
    "                return 1\n",
    "            if row[x] == opponent and row[x + 1] == opponent and row[x + 2] == opponent and row[x + 3] == opponent:\n",
    "                return -1\n",
    "    if len(actions(board))==0:\n",
    "        return 0\n",
    "    return None\n",
    "\n",
    "def actions(board):\n",
    "    options = []\n",
    "    for i in range(0,len(board[0])):\n",
    "        if board[0][i] == ' ':\n",
    "            options.append(i)\n",
    "    return options\n",
    "\n"
   ]
  },
  {
   "cell_type": "code",
   "execution_count": 4,
   "metadata": {},
   "outputs": [],
   "source": [
    "import random as rand\n",
    "class random_agent:\n",
    "    def __init__(self,character):\n",
    "        self.character = character\n",
    "    \n",
    "    def act(self, board):\n",
    "        moves = actions(board)\n",
    "        move_int = rand.choice(moves)\n",
    "        return to_move(board, self.character,move_int)"
   ]
  },
  {
   "cell_type": "code",
   "execution_count": 5,
   "metadata": {},
   "outputs": [
    {
     "name": "stdout",
     "output_type": "stream",
     "text": [
      "| | | | | | | |\n",
      "| | | | | | | |\n",
      "| | | | | | | |\n",
      "| | | | | | | |\n",
      "| | | | | | | |\n",
      "| | | | | | | |\n",
      "_______________\n",
      "| | | | | | | |\n",
      "| | | | | | | |\n",
      "| | | | | | | |\n",
      "| | | | | | | |\n",
      "| | | | | | | |\n",
      "|x| | | | | | |\n",
      "_______________\n",
      "None\n",
      "| | | | | | | |\n",
      "| | | | | | | |\n",
      "|x| | | | | | |\n",
      "|x| | | | | | |\n",
      "|x| | | | | | |\n",
      "|x| | | | | | |\n",
      "_______________\n",
      "1\n",
      "| | | | | | | |\n",
      "| | | | | | | |\n",
      "| | | | | | | |\n",
      "|x| | | | | | |\n",
      "|x| | | | | | |\n",
      "|x|o|o|o|o| | |\n",
      "_______________\n",
      "-1\n",
      "| | | | | | | |\n",
      "| | | | | | | |\n",
      "| | | |x| | | |\n",
      "|x| |x|o| | | |\n",
      "|x|x|o|o| | | |\n",
      "|x|o|o|o| | | |\n",
      "_______________\n",
      "1\n"
     ]
    }
   ],
   "source": [
    "#Testing some of these functions\n",
    "\n",
    "\n",
    "board = empty_board()\n",
    "show_board(board)\n",
    "board = to_move(board,'x',0)\n",
    "show_board(board)\n",
    "print(utility(board,'x'))\n",
    "board = to_move(board,'x',0)\n",
    "board = to_move(board,'x',0)\n",
    "board2 = to_move(board,'x',0)\n",
    "show_board(board2)\n",
    "print(utility(board2,'x'))\n",
    "\n",
    "\n",
    "board = to_move(board,'o',1)\n",
    "board = to_move(board,'o',2)\n",
    "board = to_move(board,'o',3)\n",
    "board3 = to_move(board,'o',4)\n",
    "show_board(board3)\n",
    "print(utility(board3,'x'))\n",
    "\n",
    "board = to_move(board,'x',1)\n",
    "board = to_move(board,'o',2)\n",
    "board = to_move(board,'x',2)\n",
    "board = to_move(board,'o',3)\n",
    "board = to_move(board,'o',3)\n",
    "board4 = to_move(board,'x',3)\n",
    "show_board(board4)\n",
    "print(utility(board4,'x'))"
   ]
  },
  {
   "cell_type": "code",
   "execution_count": 6,
   "metadata": {},
   "outputs": [],
   "source": [
    "def run_randoms(n,shape=(6,7),print_boards=False):\n",
    "    x_wins = 0\n",
    "    o_wins = 0\n",
    "    draws = 0\n",
    "    for i in range(0,n):\n",
    "        board = empty_board(shape=shape)\n",
    "        agent1 = random_agent('x')\n",
    "        agent2 = random_agent('o')\n",
    "        winner = ' '\n",
    "        while winner == ' ':\n",
    "            board = agent1.act(board)\n",
    "            if utility(board, agent1.character) == 1:\n",
    "                winner = agent1.character\n",
    "                x_wins = x_wins + 1\n",
    "            if winner == ' ':\n",
    "                board = agent2.act(board)\n",
    "            if utility(board, agent2.character) == 1:\n",
    "                winner = agent2.character\n",
    "                o_wins = o_wins + 1\n",
    "            if len(actions(board)) == 0:\n",
    "                winner = 'd'\n",
    "                draws = draws + 1\n",
    "        if print_boards:\n",
    "            print(board)\n",
    "    return (x_wins, o_wins, draws)"
   ]
  },
  {
   "cell_type": "code",
   "execution_count": 7,
   "metadata": {},
   "outputs": [
    {
     "name": "stdout",
     "output_type": "stream",
     "text": [
      "Wall time: 36.8 s\n"
     ]
    },
    {
     "data": {
      "text/plain": [
       "(5533, 4447, 25)"
      ]
     },
     "execution_count": 7,
     "metadata": {},
     "output_type": "execute_result"
    }
   ],
   "source": [
    "%%time\n",
    "run_randoms(10000)"
   ]
  },
  {
   "cell_type": "markdown",
   "metadata": {},
   "source": [
    "\n",
    "## Task 3: Minimax Search with Alpha-Beta Pruning [4 points]\n",
    "\n",
    "### Implement the search starting from a given board and specifying the player."
   ]
  },
  {
   "cell_type": "code",
   "execution_count": 9,
   "metadata": {},
   "outputs": [],
   "source": [
    "# global variables\n",
    "DEBUG = 1 # 1 ... count nodes, 2 ... debug each node\n",
    "COUNT = 0\n",
    "\n",
    "def alpha_beta_search(board, player = 'x'):\n",
    "    \"\"\"start the search.\"\"\"\n",
    "    global DEBUG, COUNT\n",
    "    COUNT = 0\n",
    "    \n",
    "    value, move = max_value_ab(board, player, -math.inf, +math.inf)\n",
    "    \n",
    "    if DEBUG >= 1: print(f\"Number of nodes searched: {COUNT}\") \n",
    "    \n",
    "    return value, move\n",
    "\n",
    "def max_value_ab(state, player, alpha, beta):\n",
    "    \"\"\"player's best move.\"\"\"\n",
    "    global DEBUG, COUNT\n",
    "    COUNT += 1\n",
    "       \n",
    "    # return utility of state is a terminal state\n",
    "    v = utility(state, player)\n",
    "    if DEBUG >= 2: print(\"max: \" + str(state) + str([alpha, beta, v]) ) \n",
    "    if v is not None: return v, None\n",
    "        \n",
    "    v, move = -math.inf, None\n",
    "\n",
    "    # check all possible actions in the state, update alpha and return move with the largest value\n",
    "    for a in actions(state):\n",
    "        v2, a2 = min_value_ab(to_move(state, player, a), player, alpha, beta)\n",
    "        if v2 > v:\n",
    "            v, move = v2, a\n",
    "            alpha = max(alpha, v)\n",
    "        if v >= beta: return v, move\n",
    "    \n",
    "    return v, move\n",
    "\n",
    "def min_value_ab(state, player, alpha, beta):\n",
    "    \"\"\"opponent's best response.\"\"\"\n",
    "    global DEBUG, COUNT\n",
    "    COUNT += 1\n",
    "    \n",
    "    # return utility of state is a terminal state\n",
    "    v = utility(state, player)\n",
    "    if DEBUG >= 2: print(\"min: \" + str(state) + str([alpha, beta, v]) ) \n",
    "    if v is not None: return v, None\n",
    "    \n",
    "    v, move = +math.inf, None\n",
    "\n",
    "    # check all possible actions in the state, update beta and return move with the smallest value\n",
    "    for a in actions(state):\n",
    "        v2, a2 = max_value_ab(to_move(state, switch_player(player), a), player, alpha, beta)\n",
    "        if v2 < v:\n",
    "            v, move = v2, a\n",
    "            beta = min(beta, v)\n",
    "        if v <= alpha: return v, move\n",
    "    \n",
    "    return v, move"
   ]
  },
  {
   "cell_type": "markdown",
   "metadata": {},
   "source": [
    "How long does it take to make a move? Start with a smaller board with 4 columns and make the board larger by adding columns."
   ]
  },
  {
   "cell_type": "code",
   "execution_count": 9,
   "metadata": {},
   "outputs": [
    {
     "name": "stdout",
     "output_type": "stream",
     "text": [
      "Number of nodes searched: 62889\n",
      "Wall time: 5.6 s\n"
     ]
    }
   ],
   "source": [
    "%%time\n",
    "board = empty_board((4,4))\n",
    "move = alpha_beta_search(board, player = 'x')"
   ]
  },
  {
   "cell_type": "markdown",
   "metadata": {},
   "source": [
    "Experiment with some manually created boards (at least 5) to check if the agent spots wining opportunities."
   ]
  },
  {
   "cell_type": "code",
   "execution_count": 10,
   "metadata": {},
   "outputs": [
    {
     "name": "stdout",
     "output_type": "stream",
     "text": [
      "|o|o|o| | |\n",
      "|o|o|o| |x|\n",
      "|x|x|x| |o|\n",
      "|o|o|o| |o|\n",
      "|x|x|x| |o|\n",
      "___________\n",
      "Number of nodes searched: 10\n",
      "(1, 3)\n",
      "|o|o|o| | |\n",
      "|o|o|o| |x|\n",
      "|x|x|x| |o|\n",
      "|o|o|o| |o|\n",
      "|x|x|x|x|o|\n",
      "___________\n",
      "Number of nodes searched: 1\n",
      "(-1, None)\n",
      "Wall time: 2 ms\n"
     ]
    }
   ],
   "source": [
    "%%time\n",
    "board = empty_board((5,5))\n",
    "board[4][0] = 'x'\n",
    "board[4][1] = 'x'\n",
    "board[4][2] = 'x'\n",
    "board[3][0] = 'o'\n",
    "board[3][1] = 'o'\n",
    "board[3][2] = 'o'\n",
    "board[2][0] = 'x'\n",
    "board[2][1] = 'x'\n",
    "board[2][2] = 'x'\n",
    "board[1][0] = 'o'\n",
    "board[1][1] = 'o'\n",
    "board[1][2] = 'o'\n",
    "board[0][0] = 'o'\n",
    "board[0][1] = 'o'\n",
    "board[0][2] = 'o'\n",
    "board[4][4] = 'o'\n",
    "board[3][4] = 'o'\n",
    "board[2][4] = 'o'\n",
    "board[1][4] = 'x'\n",
    "show_board(board)\n",
    "move = alpha_beta_search(board, player = 'o')\n",
    "print(move)\n",
    "board = to_move(board,'x',move[1])\n",
    "show_board(board)\n",
    "move = alpha_beta_search(board, player = 'o')\n",
    "print(move)"
   ]
  },
  {
   "cell_type": "code",
   "execution_count": 11,
   "metadata": {},
   "outputs": [
    {
     "name": "stdout",
     "output_type": "stream",
     "text": [
      "| | | | | |\n",
      "| | | | | |\n",
      "|x|x|o| |o|\n",
      "|o|o|x| |o|\n",
      "|x|x|o| |o|\n",
      "___________\n",
      "Number of nodes searched: 24203\n",
      "| | | | | |\n",
      "|o| | | | |\n",
      "|x|x|o| |o|\n",
      "|o|o|x| |o|\n",
      "|x|x|o| |o|\n",
      "___________\n",
      "Wall time: 3.06 s\n"
     ]
    }
   ],
   "source": [
    "%%time\n",
    "board = empty_board((5,5))\n",
    "board[4][0] = 'x'\n",
    "board[4][1] = 'x'\n",
    "board[4][2] = 'o'\n",
    "board[3][0] = 'o'\n",
    "board[3][1] = 'o'\n",
    "board[3][2] = 'x'\n",
    "board[2][0] = 'x'\n",
    "board[2][1] = 'x'\n",
    "board[2][2] = 'o'\n",
    "board[4][4] = 'o'\n",
    "board[3][4] = 'o'\n",
    "board[2][4] = 'o'\n",
    "show_board(board)\n",
    "move = alpha_beta_search(board, player = 'o')\n",
    "board = to_move(board, 'o', move[1])\n",
    "show_board(board)"
   ]
  },
  {
   "cell_type": "markdown",
   "metadata": {},
   "source": [
    "Something looks off about 'o's move.  We are going to investigate this path"
   ]
  },
  {
   "cell_type": "code",
   "execution_count": 12,
   "metadata": {},
   "outputs": [
    {
     "name": "stdout",
     "output_type": "stream",
     "text": [
      "Starting board\n",
      "| | | | | |\n",
      "| | | | | |\n",
      "|x|x|o| |o|\n",
      "|o|o|x| |o|\n",
      "|x|x|o| |o|\n",
      "___________\n",
      "Number of nodes searched: 24203\n",
      "o moves in space 0\n",
      "Number of nodes searched: 23716\n",
      "x moves in space 0\n",
      "Number of nodes searched: 1613\n",
      "o moves in space 2\n",
      "Number of nodes searched: 291\n",
      "x moves in space 1\n",
      "Number of nodes searched: 76\n",
      "o moves in space 1\n",
      "Number of nodes searched: 41\n",
      "x moves in space 2\n",
      "Number of nodes searched: 14\n",
      "o moves in space 3\n",
      "Number of nodes searched: 12\n",
      "x moves in space 3\n",
      "Number of nodes searched: 3\n",
      "o moves in space 3\n",
      "o has won the game\n",
      "|x|o|x| | |\n",
      "|o|x|o| | |\n",
      "|x|x|o|o|o|\n",
      "|o|o|x|x|o|\n",
      "|x|x|o|o|o|\n",
      "___________\n",
      "Wall time: 6.37 s\n"
     ]
    }
   ],
   "source": [
    "%%time\n",
    "board = empty_board((5,5))\n",
    "board[4][0] = 'x'\n",
    "board[4][1] = 'x'\n",
    "board[4][2] = 'o'\n",
    "board[3][0] = 'o'\n",
    "board[3][1] = 'o'\n",
    "board[3][2] = 'x'\n",
    "board[2][0] = 'x'\n",
    "board[2][1] = 'x'\n",
    "board[2][2] = 'o'\n",
    "board[4][4] = 'o'\n",
    "board[3][4] = 'o'\n",
    "board[2][4] = 'o'\n",
    "def finish_game_ab(board, start_player,show_all_boards=True):\n",
    "    player = start_player\n",
    "    end_game = utility(board, player) != None\n",
    "    game_board = board.copy()\n",
    "    print('Starting board')\n",
    "    show_board(game_board)\n",
    "    while end_game == False:\n",
    "        move = alpha_beta_search(game_board, player = player)\n",
    "        print(player, 'moves in space', move[1])\n",
    "        game_board = to_move(game_board,player, move[1])\n",
    "        if show_all_boards: show_board(game_board)\n",
    "        end_game = utility(game_board, player) != None\n",
    "        if end_game:\n",
    "            print(player, 'has won the game')\n",
    "            if not show_all_boards: show_board(game_board)\n",
    "        player = switch_player(player)\n",
    "finish_game_ab(board,'o',show_all_boards=False)"
   ]
  },
  {
   "cell_type": "markdown",
   "metadata": {},
   "source": [
    "It still won in the end.  We are going to do some other tests.  The problem we are experiencing with MiniMax is MiniMax is a depth first search, and does not find the fastest solution, but a solution might be to change the move ordering to check if there is a winning in the array of possible moves.  In the end I conjecture this will only save one layer of lookup, but in a case like this it is important."
   ]
  },
  {
   "cell_type": "code",
   "execution_count": 13,
   "metadata": {},
   "outputs": [
    {
     "name": "stdout",
     "output_type": "stream",
     "text": [
      "Starting board\n",
      "| | |x| | |\n",
      "| | |o| | |\n",
      "| | |x| | |\n",
      "| |x|o|o| |\n",
      "| |o|x|x| |\n",
      "___________\n",
      "Number of nodes searched: 88962\n",
      "o moves in space 1\n",
      "| | |x| | |\n",
      "| | |o| | |\n",
      "| |o|x| | |\n",
      "| |x|o|o| |\n",
      "| |o|x|x| |\n",
      "___________\n",
      "Number of nodes searched: 48493\n",
      "x moves in space 0\n",
      "| | |x| | |\n",
      "| | |o| | |\n",
      "| |o|x| | |\n",
      "| |x|o|o| |\n",
      "|x|o|x|x| |\n",
      "___________\n",
      "Number of nodes searched: 5332\n",
      "o moves in space 1\n",
      "| | |x| | |\n",
      "| |o|o| | |\n",
      "| |o|x| | |\n",
      "| |x|o|o| |\n",
      "|x|o|x|x| |\n",
      "___________\n",
      "Number of nodes searched: 2775\n",
      "x moves in space 0\n",
      "| | |x| | |\n",
      "| |o|o| | |\n",
      "| |o|x| | |\n",
      "|x|x|o|o| |\n",
      "|x|o|x|x| |\n",
      "___________\n",
      "Number of nodes searched: 769\n",
      "o moves in space 1\n",
      "| |o|x| | |\n",
      "| |o|o| | |\n",
      "| |o|x| | |\n",
      "|x|x|o|o| |\n",
      "|x|o|x|x| |\n",
      "___________\n",
      "Number of nodes searched: 294\n",
      "x moves in space 0\n",
      "| |o|x| | |\n",
      "| |o|o| | |\n",
      "|x|o|x| | |\n",
      "|x|x|o|o| |\n",
      "|x|o|x|x| |\n",
      "___________\n",
      "Number of nodes searched: 52\n",
      "o moves in space 0\n",
      "| |o|x| | |\n",
      "|o|o|o| | |\n",
      "|x|o|x| | |\n",
      "|x|x|o|o| |\n",
      "|x|o|x|x| |\n",
      "___________\n",
      "Number of nodes searched: 47\n",
      "x moves in space 0\n",
      "|x|o|x| | |\n",
      "|o|o|o| | |\n",
      "|x|o|x| | |\n",
      "|x|x|o|o| |\n",
      "|x|o|x|x| |\n",
      "___________\n",
      "Number of nodes searched: 22\n",
      "o moves in space 4\n",
      "|x|o|x| | |\n",
      "|o|o|o| | |\n",
      "|x|o|x| | |\n",
      "|x|x|o|o| |\n",
      "|x|o|x|x|o|\n",
      "___________\n",
      "Number of nodes searched: 19\n",
      "x moves in space 3\n",
      "|x|o|x| | |\n",
      "|o|o|o| | |\n",
      "|x|o|x|x| |\n",
      "|x|x|o|o| |\n",
      "|x|o|x|x|o|\n",
      "___________\n",
      "Number of nodes searched: 4\n",
      "o moves in space 3\n",
      "|x|o|x| | |\n",
      "|o|o|o|o| |\n",
      "|x|o|x|x| |\n",
      "|x|x|o|o| |\n",
      "|x|o|x|x|o|\n",
      "___________\n",
      "o has won the game\n",
      "Wall time: 18.2 s\n"
     ]
    }
   ],
   "source": [
    "%%time\n",
    "#Here is a bigger example, granted we filled in quite a few nodes, but this board is more like \n",
    "#the real board the algorithm will have to compete in.\n",
    "board = empty_board((5,5))\n",
    "board = to_move(board,'x',2)\n",
    "board = to_move(board,'o',2)\n",
    "board = to_move(board,'x',2)\n",
    "board = to_move(board,'o',2)\n",
    "board = to_move(board,'x',2)\n",
    "board = to_move(board,'o',1)\n",
    "board = to_move(board,'x',3)\n",
    "board = to_move(board,'o',3)\n",
    "board = to_move(board,'x',1)\n",
    "finish_game_ab(board,'o')"
   ]
  },
  {
   "cell_type": "markdown",
   "metadata": {},
   "source": [
    "### Move ordering\n",
    "\n",
    "Describe and implement a simple move ordering strategy. How does this strategy influence the time it takes to \n",
    "make a move?\n",
    "So that we can test multiple move ordering we are going to redo the search fucntion to take a paramter for which function to use."
   ]
  },
  {
   "cell_type": "code",
   "execution_count": 14,
   "metadata": {},
   "outputs": [],
   "source": [
    "import random\n",
    "def ordering_original(board, player):\n",
    "    options = []\n",
    "    for i in range(0,len(board[0])):\n",
    "        if board[0][i] == ' ':\n",
    "            options.append(i)\n",
    "    return options\n",
    "def ordering_middle(board, player):\n",
    "    options_orig = ordering_original(board, player)\n",
    "    options = []\n",
    "    num_cols = len(board[0]) \n",
    "    if num_cols // 2 in options_orig:\n",
    "        options.append(num_cols // 2)\n",
    "    for i in range(1, (num_cols // 2) + 1):\n",
    "        if (num_cols // 2 - i) in options_orig:\n",
    "            options.append(num_cols // 2 - i)\n",
    "        if (num_cols // 2 + i) in options_orig:\n",
    "            options.append(num_cols // 2 + i)\n",
    "    return options\n",
    "def ordering_middle_reverse(board, player):\n",
    "    return ordering_middle(board, player)[::-1]\n",
    "def ordering_random(board, player):\n",
    "    options = ordering_original(board, player)\n",
    "    random.shuffle(options)\n",
    "    return options"
   ]
  },
  {
   "cell_type": "code",
   "execution_count": 15,
   "metadata": {},
   "outputs": [
    {
     "name": "stdout",
     "output_type": "stream",
     "text": [
      "[0, 1, 2, 3, 4, 5]\n",
      "[3, 2, 4, 1, 5, 0]\n",
      "[0, 5, 1, 4, 2, 3]\n",
      "[0, 3, 5, 2, 1, 4]\n",
      "[0, 1, 2, 3, 4, 5, 6]\n",
      "[3, 2, 4, 1, 5, 0, 6]\n",
      "[6, 0, 5, 1, 4, 2, 3]\n",
      "[4, 3, 0, 2, 1, 5, 6]\n"
     ]
    }
   ],
   "source": [
    "board = empty_board(shape=(6,6))\n",
    "print(ordering_original(board,'x'))\n",
    "print(ordering_middle(board,'x'))\n",
    "print(ordering_middle_reverse(board,'x'))\n",
    "print(ordering_random(board,'x'))\n",
    "board = empty_board(shape=(6,7))\n",
    "print(ordering_original(board,'x'))\n",
    "print(ordering_middle(board,'x'))\n",
    "print(ordering_middle_reverse(board,'x'))\n",
    "print(ordering_random(board,'x'))"
   ]
  },
  {
   "cell_type": "code",
   "execution_count": 16,
   "metadata": {},
   "outputs": [],
   "source": [
    "# global variables\n",
    "DEBUG = 1 # 1 ... count nodes, 2 ... debug each node\n",
    "COUNT = 0\n",
    "def alpha_beta_search_ordering(board, player = 'x', ordering=ordering_original):\n",
    "    \"\"\"start the search.\"\"\"\n",
    "    global DEBUG, COUNT\n",
    "    COUNT = 0\n",
    "    \n",
    "    value, move = max_value_ab_ordering(board, player,ordering, -math.inf, +math.inf)\n",
    "    \n",
    "    if DEBUG >= 1: print(f\"Number of nodes searched {ordering.__name__}: {COUNT}\") \n",
    "    \n",
    "    return value, move\n",
    "\n",
    "def max_value_ab_ordering(state, player,ordering, alpha, beta):\n",
    "    \"\"\"player's best move.\"\"\"\n",
    "    global DEBUG, COUNT\n",
    "    COUNT += 1\n",
    "       \n",
    "    # return utility of state is a terminal state\n",
    "    v = utility(state, player)\n",
    "    if DEBUG >= 2: print(\"max: \" + str(state) + str([alpha, beta, v]) ) \n",
    "    if v is not None: return v, None\n",
    "        \n",
    "    v, move = -math.inf, None\n",
    "\n",
    "    # check all possible actions in the state, update alpha and return move with the largest value\n",
    "    for a in ordering(state,player):\n",
    "        v2, a2 = min_value_ab_ordering(to_move(state, player, a), player,ordering, alpha, beta)\n",
    "        if v2 > v:\n",
    "            v, move = v2, a\n",
    "            alpha = max(alpha, v)\n",
    "        if v >= beta: return v, move\n",
    "    \n",
    "    return v, move\n",
    "\n",
    "def min_value_ab_ordering(state, player,ordering, alpha, beta):\n",
    "    \"\"\"opponent's best response.\"\"\"\n",
    "    global DEBUG, COUNT\n",
    "    COUNT += 1\n",
    "    \n",
    "    # return utility of state is a terminal state\n",
    "    v = utility(state, player)\n",
    "    if DEBUG >= 2: print(\"min: \" + str(state) + str([alpha, beta, v]) ) \n",
    "    if v is not None: return v, None\n",
    "    \n",
    "    v, move = +math.inf, None\n",
    "\n",
    "    # check all possible actions in the state, update beta and return move with the smallest value\n",
    "    for a in ordering(state,switch_player(player)):\n",
    "        v2, a2 = max_value_ab_ordering(to_move(state, switch_player(player), a), player,ordering, alpha, beta)\n",
    "        if v2 < v:\n",
    "            v, move = v2, a\n",
    "            beta = min(beta, v)\n",
    "        if v <= alpha: return v, move\n",
    "    \n",
    "    return v, move"
   ]
  },
  {
   "cell_type": "code",
   "execution_count": 17,
   "metadata": {},
   "outputs": [
    {
     "name": "stdout",
     "output_type": "stream",
     "text": [
      "| | | | | |\n",
      "| | | | |x|\n",
      "|x| | | |o|\n",
      "|o|x|o| |o|\n",
      "|x|x|o| |o|\n",
      "___________\n",
      "Number of nodes searched ordering_original: 22235\n",
      "(1, 2)\n",
      "Number of nodes searched ordering_middle: 7412\n",
      "(1, 2)\n",
      "Number of nodes searched ordering_middle_reverse: 482105\n",
      "(1, 2)\n",
      "Number of nodes searched ordering_random: 25151\n",
      "(1, 2)\n",
      "Number of nodes searched ordering_random: 43232\n",
      "(1, 2)\n",
      "Number of nodes searched ordering_random: 42368\n",
      "(1, 2)\n",
      "Number of nodes searched ordering_random: 29833\n",
      "(1, 2)\n",
      "Number of nodes searched ordering_random: 50614\n",
      "(1, 2)\n",
      "Wall time: 1min 28s\n"
     ]
    }
   ],
   "source": [
    "%%time\n",
    "board = empty_board((5,5))\n",
    "board[4][0] = 'x'\n",
    "board[4][1] = 'x'\n",
    "board[4][2] = 'o'\n",
    "board[3][0] = 'o'\n",
    "board[3][1] = 'x'\n",
    "board[3][2] = 'o'\n",
    "board[2][0] = 'x'\n",
    "board[4][4] = 'o'\n",
    "board[3][4] = 'o'\n",
    "board[2][4] = 'o'\n",
    "board[1][4] = 'x'\n",
    "show_board(board)\n",
    "print(alpha_beta_search_ordering(board, player = 'o', ordering=ordering_original))\n",
    "print(alpha_beta_search_ordering(board, player = 'o', ordering=ordering_middle))\n",
    "print(alpha_beta_search_ordering(board, player = 'o', ordering=ordering_middle_reverse))\n",
    "print(alpha_beta_search_ordering(board, player = 'o', ordering=ordering_random))\n",
    "print(alpha_beta_search_ordering(board, player = 'o', ordering=ordering_random))\n",
    "print(alpha_beta_search_ordering(board, player = 'o', ordering=ordering_random))\n",
    "print(alpha_beta_search_ordering(board, player = 'o', ordering=ordering_random))\n",
    "print(alpha_beta_search_ordering(board, player = 'o', ordering=ordering_random))"
   ]
  },
  {
   "cell_type": "markdown",
   "metadata": {},
   "source": [
    "Something truly interesting about this run of data is the comparison between the middle ordering and the reverse middle ordering.  This seems to be the best compared to the worst, and what is common with most games.  Futher than this I think we can add a little bit to the middle out ordering to perform just a little bit better."
   ]
  },
  {
   "cell_type": "code",
   "execution_count": 18,
   "metadata": {},
   "outputs": [
    {
     "data": {
      "text/plain": [
       "[2, 1, 3, 0, 4]"
      ]
     },
     "execution_count": 18,
     "metadata": {},
     "output_type": "execute_result"
    }
   ],
   "source": [
    "def ordering_middle_winner(board, player):\n",
    "    orders_middle = ordering_middle(board,player)\n",
    "    ordering_won = []\n",
    "    ordering_lost = []\n",
    "    ordering_none = []\n",
    "    for o in orders_middle:\n",
    "        new_board = to_move(board,player,o)\n",
    "        util = utility(board, player)\n",
    "        if util == 1:\n",
    "            ordering_won.append(o)\n",
    "        elif util == -1:\n",
    "            ordering_lost.append(o)\n",
    "        else:\n",
    "            ordering_none.append(o)\n",
    "    return ordering_won + ordering_none + ordering_lost\n",
    "ordering_middle_winner(board, 'o')"
   ]
  },
  {
   "cell_type": "code",
   "execution_count": 48,
   "metadata": {},
   "outputs": [
    {
     "name": "stdout",
     "output_type": "stream",
     "text": [
      "| | | | | |\n",
      "| | | | | |\n",
      "| | | | | |\n",
      "| | | | | |\n",
      "___________\n",
      "Number of nodes searched ordering_middle: 7692028\n",
      "(0, 2)\n",
      "Number of nodes searched ordering_middle_winner: 7692028\n",
      "(0, 2)\n",
      "Wall time: 45min 7s\n"
     ]
    }
   ],
   "source": [
    "%%time\n",
    "board = empty_board((4,5))\n",
    "show_board(board)\n",
    "print(alpha_beta_search_ordering(board, player = 'o', ordering=ordering_middle))\n",
    "print(alpha_beta_search_ordering(board, player = 'o', ordering=ordering_middle_winner))"
   ]
  },
  {
   "cell_type": "code",
   "execution_count": 19,
   "metadata": {},
   "outputs": [],
   "source": [
    "class alpha_beta_search_ordering_agent:\n",
    "    def __init__(self,character, ordering):\n",
    "        self.character = character\n",
    "        self.ordering = ordering\n",
    "    \n",
    "    def act(self, board):\n",
    "        win, move_int = alpha_beta_search_ordering(board, self.character, self.ordering)\n",
    "        return to_move(board, self.character,move_int)"
   ]
  },
  {
   "cell_type": "markdown",
   "metadata": {},
   "source": [
    "### Playtime\n",
    "\n",
    "Let the Minimax Search agent play a random agent on a small board. Analyze wins, losses and draws."
   ]
  },
  {
   "cell_type": "code",
   "execution_count": 20,
   "metadata": {},
   "outputs": [],
   "source": [
    "global DEBUG\n",
    "DEBUG = 0"
   ]
  },
  {
   "cell_type": "code",
   "execution_count": 405,
   "metadata": {
    "scrolled": true
   },
   "outputs": [
    {
     "ename": "KeyboardInterrupt",
     "evalue": "",
     "output_type": "error",
     "traceback": [
      "\u001b[1;31m---------------------------------------------------------------------------\u001b[0m",
      "\u001b[1;31mKeyboardInterrupt\u001b[0m                         Traceback (most recent call last)",
      "\u001b[1;32m<timed exec>\u001b[0m in \u001b[0;36m<module>\u001b[1;34m\u001b[0m\n",
      "\u001b[1;32m<timed exec>\u001b[0m in \u001b[0;36mplay_vs_random\u001b[1;34m(N, shape, print_boards)\u001b[0m\n",
      "\u001b[1;32m<ipython-input-19-b0ad61214f46>\u001b[0m in \u001b[0;36mact\u001b[1;34m(self, board)\u001b[0m\n\u001b[0;32m      5\u001b[0m \u001b[1;33m\u001b[0m\u001b[0m\n\u001b[0;32m      6\u001b[0m     \u001b[1;32mdef\u001b[0m \u001b[0mact\u001b[0m\u001b[1;33m(\u001b[0m\u001b[0mself\u001b[0m\u001b[1;33m,\u001b[0m \u001b[0mboard\u001b[0m\u001b[1;33m)\u001b[0m\u001b[1;33m:\u001b[0m\u001b[1;33m\u001b[0m\u001b[1;33m\u001b[0m\u001b[0m\n\u001b[1;32m----> 7\u001b[1;33m         \u001b[0mwin\u001b[0m\u001b[1;33m,\u001b[0m \u001b[0mmove_int\u001b[0m \u001b[1;33m=\u001b[0m \u001b[0malpha_beta_search_ordering\u001b[0m\u001b[1;33m(\u001b[0m\u001b[0mboard\u001b[0m\u001b[1;33m,\u001b[0m \u001b[0mself\u001b[0m\u001b[1;33m.\u001b[0m\u001b[0mcharacter\u001b[0m\u001b[1;33m,\u001b[0m \u001b[0mself\u001b[0m\u001b[1;33m.\u001b[0m\u001b[0mordering\u001b[0m\u001b[1;33m)\u001b[0m\u001b[1;33m\u001b[0m\u001b[1;33m\u001b[0m\u001b[0m\n\u001b[0m\u001b[0;32m      8\u001b[0m         \u001b[1;32mreturn\u001b[0m \u001b[0mto_move\u001b[0m\u001b[1;33m(\u001b[0m\u001b[0mboard\u001b[0m\u001b[1;33m,\u001b[0m \u001b[0mself\u001b[0m\u001b[1;33m.\u001b[0m\u001b[0mcharacter\u001b[0m\u001b[1;33m,\u001b[0m\u001b[0mmove_int\u001b[0m\u001b[1;33m)\u001b[0m\u001b[1;33m\u001b[0m\u001b[1;33m\u001b[0m\u001b[0m\n",
      "\u001b[1;32m<ipython-input-16-244f6da6871a>\u001b[0m in \u001b[0;36malpha_beta_search_ordering\u001b[1;34m(board, player, ordering)\u001b[0m\n\u001b[0;32m      7\u001b[0m     \u001b[0mCOUNT\u001b[0m \u001b[1;33m=\u001b[0m \u001b[1;36m0\u001b[0m\u001b[1;33m\u001b[0m\u001b[1;33m\u001b[0m\u001b[0m\n\u001b[0;32m      8\u001b[0m \u001b[1;33m\u001b[0m\u001b[0m\n\u001b[1;32m----> 9\u001b[1;33m     \u001b[0mvalue\u001b[0m\u001b[1;33m,\u001b[0m \u001b[0mmove\u001b[0m \u001b[1;33m=\u001b[0m \u001b[0mmax_value_ab_ordering\u001b[0m\u001b[1;33m(\u001b[0m\u001b[0mboard\u001b[0m\u001b[1;33m,\u001b[0m \u001b[0mplayer\u001b[0m\u001b[1;33m,\u001b[0m\u001b[0mordering\u001b[0m\u001b[1;33m,\u001b[0m \u001b[1;33m-\u001b[0m\u001b[0mmath\u001b[0m\u001b[1;33m.\u001b[0m\u001b[0minf\u001b[0m\u001b[1;33m,\u001b[0m \u001b[1;33m+\u001b[0m\u001b[0mmath\u001b[0m\u001b[1;33m.\u001b[0m\u001b[0minf\u001b[0m\u001b[1;33m)\u001b[0m\u001b[1;33m\u001b[0m\u001b[1;33m\u001b[0m\u001b[0m\n\u001b[0m\u001b[0;32m     10\u001b[0m \u001b[1;33m\u001b[0m\u001b[0m\n\u001b[0;32m     11\u001b[0m     \u001b[1;32mif\u001b[0m \u001b[0mDEBUG\u001b[0m \u001b[1;33m>=\u001b[0m \u001b[1;36m1\u001b[0m\u001b[1;33m:\u001b[0m \u001b[0mprint\u001b[0m\u001b[1;33m(\u001b[0m\u001b[1;34mf\"Number of nodes searched {ordering.__name__}: {COUNT}\"\u001b[0m\u001b[1;33m)\u001b[0m\u001b[1;33m\u001b[0m\u001b[1;33m\u001b[0m\u001b[0m\n",
      "\u001b[1;32m<ipython-input-16-244f6da6871a>\u001b[0m in \u001b[0;36mmax_value_ab_ordering\u001b[1;34m(state, player, ordering, alpha, beta)\u001b[0m\n\u001b[0;32m     27\u001b[0m     \u001b[1;31m# check all possible actions in the state, update alpha and return move with the largest value\u001b[0m\u001b[1;33m\u001b[0m\u001b[1;33m\u001b[0m\u001b[1;33m\u001b[0m\u001b[0m\n\u001b[0;32m     28\u001b[0m     \u001b[1;32mfor\u001b[0m \u001b[0ma\u001b[0m \u001b[1;32min\u001b[0m \u001b[0mordering\u001b[0m\u001b[1;33m(\u001b[0m\u001b[0mstate\u001b[0m\u001b[1;33m,\u001b[0m\u001b[0mplayer\u001b[0m\u001b[1;33m)\u001b[0m\u001b[1;33m:\u001b[0m\u001b[1;33m\u001b[0m\u001b[1;33m\u001b[0m\u001b[0m\n\u001b[1;32m---> 29\u001b[1;33m         \u001b[0mv2\u001b[0m\u001b[1;33m,\u001b[0m \u001b[0ma2\u001b[0m \u001b[1;33m=\u001b[0m \u001b[0mmin_value_ab_ordering\u001b[0m\u001b[1;33m(\u001b[0m\u001b[0mto_move\u001b[0m\u001b[1;33m(\u001b[0m\u001b[0mstate\u001b[0m\u001b[1;33m,\u001b[0m \u001b[0mplayer\u001b[0m\u001b[1;33m,\u001b[0m \u001b[0ma\u001b[0m\u001b[1;33m)\u001b[0m\u001b[1;33m,\u001b[0m \u001b[0mplayer\u001b[0m\u001b[1;33m,\u001b[0m\u001b[0mordering\u001b[0m\u001b[1;33m,\u001b[0m \u001b[0malpha\u001b[0m\u001b[1;33m,\u001b[0m \u001b[0mbeta\u001b[0m\u001b[1;33m)\u001b[0m\u001b[1;33m\u001b[0m\u001b[1;33m\u001b[0m\u001b[0m\n\u001b[0m\u001b[0;32m     30\u001b[0m         \u001b[1;32mif\u001b[0m \u001b[0mv2\u001b[0m \u001b[1;33m>\u001b[0m \u001b[0mv\u001b[0m\u001b[1;33m:\u001b[0m\u001b[1;33m\u001b[0m\u001b[1;33m\u001b[0m\u001b[0m\n\u001b[0;32m     31\u001b[0m             \u001b[0mv\u001b[0m\u001b[1;33m,\u001b[0m \u001b[0mmove\u001b[0m \u001b[1;33m=\u001b[0m \u001b[0mv2\u001b[0m\u001b[1;33m,\u001b[0m \u001b[0ma\u001b[0m\u001b[1;33m\u001b[0m\u001b[1;33m\u001b[0m\u001b[0m\n",
      "\u001b[1;32m<ipython-input-16-244f6da6871a>\u001b[0m in \u001b[0;36mmin_value_ab_ordering\u001b[1;34m(state, player, ordering, alpha, beta)\u001b[0m\n\u001b[0;32m     49\u001b[0m     \u001b[1;31m# check all possible actions in the state, update beta and return move with the smallest value\u001b[0m\u001b[1;33m\u001b[0m\u001b[1;33m\u001b[0m\u001b[1;33m\u001b[0m\u001b[0m\n\u001b[0;32m     50\u001b[0m     \u001b[1;32mfor\u001b[0m \u001b[0ma\u001b[0m \u001b[1;32min\u001b[0m \u001b[0mordering\u001b[0m\u001b[1;33m(\u001b[0m\u001b[0mstate\u001b[0m\u001b[1;33m,\u001b[0m\u001b[0mswitch_player\u001b[0m\u001b[1;33m(\u001b[0m\u001b[0mplayer\u001b[0m\u001b[1;33m)\u001b[0m\u001b[1;33m)\u001b[0m\u001b[1;33m:\u001b[0m\u001b[1;33m\u001b[0m\u001b[1;33m\u001b[0m\u001b[0m\n\u001b[1;32m---> 51\u001b[1;33m         \u001b[0mv2\u001b[0m\u001b[1;33m,\u001b[0m \u001b[0ma2\u001b[0m \u001b[1;33m=\u001b[0m \u001b[0mmax_value_ab_ordering\u001b[0m\u001b[1;33m(\u001b[0m\u001b[0mto_move\u001b[0m\u001b[1;33m(\u001b[0m\u001b[0mstate\u001b[0m\u001b[1;33m,\u001b[0m \u001b[0mswitch_player\u001b[0m\u001b[1;33m(\u001b[0m\u001b[0mplayer\u001b[0m\u001b[1;33m)\u001b[0m\u001b[1;33m,\u001b[0m \u001b[0ma\u001b[0m\u001b[1;33m)\u001b[0m\u001b[1;33m,\u001b[0m \u001b[0mplayer\u001b[0m\u001b[1;33m,\u001b[0m\u001b[0mordering\u001b[0m\u001b[1;33m,\u001b[0m \u001b[0malpha\u001b[0m\u001b[1;33m,\u001b[0m \u001b[0mbeta\u001b[0m\u001b[1;33m)\u001b[0m\u001b[1;33m\u001b[0m\u001b[1;33m\u001b[0m\u001b[0m\n\u001b[0m\u001b[0;32m     52\u001b[0m         \u001b[1;32mif\u001b[0m \u001b[0mv2\u001b[0m \u001b[1;33m<\u001b[0m \u001b[0mv\u001b[0m\u001b[1;33m:\u001b[0m\u001b[1;33m\u001b[0m\u001b[1;33m\u001b[0m\u001b[0m\n\u001b[0;32m     53\u001b[0m             \u001b[0mv\u001b[0m\u001b[1;33m,\u001b[0m \u001b[0mmove\u001b[0m \u001b[1;33m=\u001b[0m \u001b[0mv2\u001b[0m\u001b[1;33m,\u001b[0m \u001b[0ma\u001b[0m\u001b[1;33m\u001b[0m\u001b[1;33m\u001b[0m\u001b[0m\n",
      "\u001b[1;32m<ipython-input-16-244f6da6871a>\u001b[0m in \u001b[0;36mmax_value_ab_ordering\u001b[1;34m(state, player, ordering, alpha, beta)\u001b[0m\n\u001b[0;32m     27\u001b[0m     \u001b[1;31m# check all possible actions in the state, update alpha and return move with the largest value\u001b[0m\u001b[1;33m\u001b[0m\u001b[1;33m\u001b[0m\u001b[1;33m\u001b[0m\u001b[0m\n\u001b[0;32m     28\u001b[0m     \u001b[1;32mfor\u001b[0m \u001b[0ma\u001b[0m \u001b[1;32min\u001b[0m \u001b[0mordering\u001b[0m\u001b[1;33m(\u001b[0m\u001b[0mstate\u001b[0m\u001b[1;33m,\u001b[0m\u001b[0mplayer\u001b[0m\u001b[1;33m)\u001b[0m\u001b[1;33m:\u001b[0m\u001b[1;33m\u001b[0m\u001b[1;33m\u001b[0m\u001b[0m\n\u001b[1;32m---> 29\u001b[1;33m         \u001b[0mv2\u001b[0m\u001b[1;33m,\u001b[0m \u001b[0ma2\u001b[0m \u001b[1;33m=\u001b[0m \u001b[0mmin_value_ab_ordering\u001b[0m\u001b[1;33m(\u001b[0m\u001b[0mto_move\u001b[0m\u001b[1;33m(\u001b[0m\u001b[0mstate\u001b[0m\u001b[1;33m,\u001b[0m \u001b[0mplayer\u001b[0m\u001b[1;33m,\u001b[0m \u001b[0ma\u001b[0m\u001b[1;33m)\u001b[0m\u001b[1;33m,\u001b[0m \u001b[0mplayer\u001b[0m\u001b[1;33m,\u001b[0m\u001b[0mordering\u001b[0m\u001b[1;33m,\u001b[0m \u001b[0malpha\u001b[0m\u001b[1;33m,\u001b[0m \u001b[0mbeta\u001b[0m\u001b[1;33m)\u001b[0m\u001b[1;33m\u001b[0m\u001b[1;33m\u001b[0m\u001b[0m\n\u001b[0m\u001b[0;32m     30\u001b[0m         \u001b[1;32mif\u001b[0m \u001b[0mv2\u001b[0m \u001b[1;33m>\u001b[0m \u001b[0mv\u001b[0m\u001b[1;33m:\u001b[0m\u001b[1;33m\u001b[0m\u001b[1;33m\u001b[0m\u001b[0m\n\u001b[0;32m     31\u001b[0m             \u001b[0mv\u001b[0m\u001b[1;33m,\u001b[0m \u001b[0mmove\u001b[0m \u001b[1;33m=\u001b[0m \u001b[0mv2\u001b[0m\u001b[1;33m,\u001b[0m \u001b[0ma\u001b[0m\u001b[1;33m\u001b[0m\u001b[1;33m\u001b[0m\u001b[0m\n",
      "\u001b[1;32m<ipython-input-16-244f6da6871a>\u001b[0m in \u001b[0;36mmin_value_ab_ordering\u001b[1;34m(state, player, ordering, alpha, beta)\u001b[0m\n\u001b[0;32m     49\u001b[0m     \u001b[1;31m# check all possible actions in the state, update beta and return move with the smallest value\u001b[0m\u001b[1;33m\u001b[0m\u001b[1;33m\u001b[0m\u001b[1;33m\u001b[0m\u001b[0m\n\u001b[0;32m     50\u001b[0m     \u001b[1;32mfor\u001b[0m \u001b[0ma\u001b[0m \u001b[1;32min\u001b[0m \u001b[0mordering\u001b[0m\u001b[1;33m(\u001b[0m\u001b[0mstate\u001b[0m\u001b[1;33m,\u001b[0m\u001b[0mswitch_player\u001b[0m\u001b[1;33m(\u001b[0m\u001b[0mplayer\u001b[0m\u001b[1;33m)\u001b[0m\u001b[1;33m)\u001b[0m\u001b[1;33m:\u001b[0m\u001b[1;33m\u001b[0m\u001b[1;33m\u001b[0m\u001b[0m\n\u001b[1;32m---> 51\u001b[1;33m         \u001b[0mv2\u001b[0m\u001b[1;33m,\u001b[0m \u001b[0ma2\u001b[0m \u001b[1;33m=\u001b[0m \u001b[0mmax_value_ab_ordering\u001b[0m\u001b[1;33m(\u001b[0m\u001b[0mto_move\u001b[0m\u001b[1;33m(\u001b[0m\u001b[0mstate\u001b[0m\u001b[1;33m,\u001b[0m \u001b[0mswitch_player\u001b[0m\u001b[1;33m(\u001b[0m\u001b[0mplayer\u001b[0m\u001b[1;33m)\u001b[0m\u001b[1;33m,\u001b[0m \u001b[0ma\u001b[0m\u001b[1;33m)\u001b[0m\u001b[1;33m,\u001b[0m \u001b[0mplayer\u001b[0m\u001b[1;33m,\u001b[0m\u001b[0mordering\u001b[0m\u001b[1;33m,\u001b[0m \u001b[0malpha\u001b[0m\u001b[1;33m,\u001b[0m \u001b[0mbeta\u001b[0m\u001b[1;33m)\u001b[0m\u001b[1;33m\u001b[0m\u001b[1;33m\u001b[0m\u001b[0m\n\u001b[0m\u001b[0;32m     52\u001b[0m         \u001b[1;32mif\u001b[0m \u001b[0mv2\u001b[0m \u001b[1;33m<\u001b[0m \u001b[0mv\u001b[0m\u001b[1;33m:\u001b[0m\u001b[1;33m\u001b[0m\u001b[1;33m\u001b[0m\u001b[0m\n\u001b[0;32m     53\u001b[0m             \u001b[0mv\u001b[0m\u001b[1;33m,\u001b[0m \u001b[0mmove\u001b[0m \u001b[1;33m=\u001b[0m \u001b[0mv2\u001b[0m\u001b[1;33m,\u001b[0m \u001b[0ma\u001b[0m\u001b[1;33m\u001b[0m\u001b[1;33m\u001b[0m\u001b[0m\n",
      "\u001b[1;32m<ipython-input-16-244f6da6871a>\u001b[0m in \u001b[0;36mmax_value_ab_ordering\u001b[1;34m(state, player, ordering, alpha, beta)\u001b[0m\n\u001b[0;32m     27\u001b[0m     \u001b[1;31m# check all possible actions in the state, update alpha and return move with the largest value\u001b[0m\u001b[1;33m\u001b[0m\u001b[1;33m\u001b[0m\u001b[1;33m\u001b[0m\u001b[0m\n\u001b[0;32m     28\u001b[0m     \u001b[1;32mfor\u001b[0m \u001b[0ma\u001b[0m \u001b[1;32min\u001b[0m \u001b[0mordering\u001b[0m\u001b[1;33m(\u001b[0m\u001b[0mstate\u001b[0m\u001b[1;33m,\u001b[0m\u001b[0mplayer\u001b[0m\u001b[1;33m)\u001b[0m\u001b[1;33m:\u001b[0m\u001b[1;33m\u001b[0m\u001b[1;33m\u001b[0m\u001b[0m\n\u001b[1;32m---> 29\u001b[1;33m         \u001b[0mv2\u001b[0m\u001b[1;33m,\u001b[0m \u001b[0ma2\u001b[0m \u001b[1;33m=\u001b[0m \u001b[0mmin_value_ab_ordering\u001b[0m\u001b[1;33m(\u001b[0m\u001b[0mto_move\u001b[0m\u001b[1;33m(\u001b[0m\u001b[0mstate\u001b[0m\u001b[1;33m,\u001b[0m \u001b[0mplayer\u001b[0m\u001b[1;33m,\u001b[0m \u001b[0ma\u001b[0m\u001b[1;33m)\u001b[0m\u001b[1;33m,\u001b[0m \u001b[0mplayer\u001b[0m\u001b[1;33m,\u001b[0m\u001b[0mordering\u001b[0m\u001b[1;33m,\u001b[0m \u001b[0malpha\u001b[0m\u001b[1;33m,\u001b[0m \u001b[0mbeta\u001b[0m\u001b[1;33m)\u001b[0m\u001b[1;33m\u001b[0m\u001b[1;33m\u001b[0m\u001b[0m\n\u001b[0m\u001b[0;32m     30\u001b[0m         \u001b[1;32mif\u001b[0m \u001b[0mv2\u001b[0m \u001b[1;33m>\u001b[0m \u001b[0mv\u001b[0m\u001b[1;33m:\u001b[0m\u001b[1;33m\u001b[0m\u001b[1;33m\u001b[0m\u001b[0m\n\u001b[0;32m     31\u001b[0m             \u001b[0mv\u001b[0m\u001b[1;33m,\u001b[0m \u001b[0mmove\u001b[0m \u001b[1;33m=\u001b[0m \u001b[0mv2\u001b[0m\u001b[1;33m,\u001b[0m \u001b[0ma\u001b[0m\u001b[1;33m\u001b[0m\u001b[1;33m\u001b[0m\u001b[0m\n",
      "\u001b[1;32m<ipython-input-16-244f6da6871a>\u001b[0m in \u001b[0;36mmin_value_ab_ordering\u001b[1;34m(state, player, ordering, alpha, beta)\u001b[0m\n\u001b[0;32m     49\u001b[0m     \u001b[1;31m# check all possible actions in the state, update beta and return move with the smallest value\u001b[0m\u001b[1;33m\u001b[0m\u001b[1;33m\u001b[0m\u001b[1;33m\u001b[0m\u001b[0m\n\u001b[0;32m     50\u001b[0m     \u001b[1;32mfor\u001b[0m \u001b[0ma\u001b[0m \u001b[1;32min\u001b[0m \u001b[0mordering\u001b[0m\u001b[1;33m(\u001b[0m\u001b[0mstate\u001b[0m\u001b[1;33m,\u001b[0m\u001b[0mswitch_player\u001b[0m\u001b[1;33m(\u001b[0m\u001b[0mplayer\u001b[0m\u001b[1;33m)\u001b[0m\u001b[1;33m)\u001b[0m\u001b[1;33m:\u001b[0m\u001b[1;33m\u001b[0m\u001b[1;33m\u001b[0m\u001b[0m\n\u001b[1;32m---> 51\u001b[1;33m         \u001b[0mv2\u001b[0m\u001b[1;33m,\u001b[0m \u001b[0ma2\u001b[0m \u001b[1;33m=\u001b[0m \u001b[0mmax_value_ab_ordering\u001b[0m\u001b[1;33m(\u001b[0m\u001b[0mto_move\u001b[0m\u001b[1;33m(\u001b[0m\u001b[0mstate\u001b[0m\u001b[1;33m,\u001b[0m \u001b[0mswitch_player\u001b[0m\u001b[1;33m(\u001b[0m\u001b[0mplayer\u001b[0m\u001b[1;33m)\u001b[0m\u001b[1;33m,\u001b[0m \u001b[0ma\u001b[0m\u001b[1;33m)\u001b[0m\u001b[1;33m,\u001b[0m \u001b[0mplayer\u001b[0m\u001b[1;33m,\u001b[0m\u001b[0mordering\u001b[0m\u001b[1;33m,\u001b[0m \u001b[0malpha\u001b[0m\u001b[1;33m,\u001b[0m \u001b[0mbeta\u001b[0m\u001b[1;33m)\u001b[0m\u001b[1;33m\u001b[0m\u001b[1;33m\u001b[0m\u001b[0m\n\u001b[0m\u001b[0;32m     52\u001b[0m         \u001b[1;32mif\u001b[0m \u001b[0mv2\u001b[0m \u001b[1;33m<\u001b[0m \u001b[0mv\u001b[0m\u001b[1;33m:\u001b[0m\u001b[1;33m\u001b[0m\u001b[1;33m\u001b[0m\u001b[0m\n\u001b[0;32m     53\u001b[0m             \u001b[0mv\u001b[0m\u001b[1;33m,\u001b[0m \u001b[0mmove\u001b[0m \u001b[1;33m=\u001b[0m \u001b[0mv2\u001b[0m\u001b[1;33m,\u001b[0m \u001b[0ma\u001b[0m\u001b[1;33m\u001b[0m\u001b[1;33m\u001b[0m\u001b[0m\n",
      "\u001b[1;32m<ipython-input-16-244f6da6871a>\u001b[0m in \u001b[0;36mmax_value_ab_ordering\u001b[1;34m(state, player, ordering, alpha, beta)\u001b[0m\n\u001b[0;32m     27\u001b[0m     \u001b[1;31m# check all possible actions in the state, update alpha and return move with the largest value\u001b[0m\u001b[1;33m\u001b[0m\u001b[1;33m\u001b[0m\u001b[1;33m\u001b[0m\u001b[0m\n\u001b[0;32m     28\u001b[0m     \u001b[1;32mfor\u001b[0m \u001b[0ma\u001b[0m \u001b[1;32min\u001b[0m \u001b[0mordering\u001b[0m\u001b[1;33m(\u001b[0m\u001b[0mstate\u001b[0m\u001b[1;33m,\u001b[0m\u001b[0mplayer\u001b[0m\u001b[1;33m)\u001b[0m\u001b[1;33m:\u001b[0m\u001b[1;33m\u001b[0m\u001b[1;33m\u001b[0m\u001b[0m\n\u001b[1;32m---> 29\u001b[1;33m         \u001b[0mv2\u001b[0m\u001b[1;33m,\u001b[0m \u001b[0ma2\u001b[0m \u001b[1;33m=\u001b[0m \u001b[0mmin_value_ab_ordering\u001b[0m\u001b[1;33m(\u001b[0m\u001b[0mto_move\u001b[0m\u001b[1;33m(\u001b[0m\u001b[0mstate\u001b[0m\u001b[1;33m,\u001b[0m \u001b[0mplayer\u001b[0m\u001b[1;33m,\u001b[0m \u001b[0ma\u001b[0m\u001b[1;33m)\u001b[0m\u001b[1;33m,\u001b[0m \u001b[0mplayer\u001b[0m\u001b[1;33m,\u001b[0m\u001b[0mordering\u001b[0m\u001b[1;33m,\u001b[0m \u001b[0malpha\u001b[0m\u001b[1;33m,\u001b[0m \u001b[0mbeta\u001b[0m\u001b[1;33m)\u001b[0m\u001b[1;33m\u001b[0m\u001b[1;33m\u001b[0m\u001b[0m\n\u001b[0m\u001b[0;32m     30\u001b[0m         \u001b[1;32mif\u001b[0m \u001b[0mv2\u001b[0m \u001b[1;33m>\u001b[0m \u001b[0mv\u001b[0m\u001b[1;33m:\u001b[0m\u001b[1;33m\u001b[0m\u001b[1;33m\u001b[0m\u001b[0m\n\u001b[0;32m     31\u001b[0m             \u001b[0mv\u001b[0m\u001b[1;33m,\u001b[0m \u001b[0mmove\u001b[0m \u001b[1;33m=\u001b[0m \u001b[0mv2\u001b[0m\u001b[1;33m,\u001b[0m \u001b[0ma\u001b[0m\u001b[1;33m\u001b[0m\u001b[1;33m\u001b[0m\u001b[0m\n",
      "\u001b[1;32m<ipython-input-16-244f6da6871a>\u001b[0m in \u001b[0;36mmin_value_ab_ordering\u001b[1;34m(state, player, ordering, alpha, beta)\u001b[0m\n\u001b[0;32m     49\u001b[0m     \u001b[1;31m# check all possible actions in the state, update beta and return move with the smallest value\u001b[0m\u001b[1;33m\u001b[0m\u001b[1;33m\u001b[0m\u001b[1;33m\u001b[0m\u001b[0m\n\u001b[0;32m     50\u001b[0m     \u001b[1;32mfor\u001b[0m \u001b[0ma\u001b[0m \u001b[1;32min\u001b[0m \u001b[0mordering\u001b[0m\u001b[1;33m(\u001b[0m\u001b[0mstate\u001b[0m\u001b[1;33m,\u001b[0m\u001b[0mswitch_player\u001b[0m\u001b[1;33m(\u001b[0m\u001b[0mplayer\u001b[0m\u001b[1;33m)\u001b[0m\u001b[1;33m)\u001b[0m\u001b[1;33m:\u001b[0m\u001b[1;33m\u001b[0m\u001b[1;33m\u001b[0m\u001b[0m\n\u001b[1;32m---> 51\u001b[1;33m         \u001b[0mv2\u001b[0m\u001b[1;33m,\u001b[0m \u001b[0ma2\u001b[0m \u001b[1;33m=\u001b[0m \u001b[0mmax_value_ab_ordering\u001b[0m\u001b[1;33m(\u001b[0m\u001b[0mto_move\u001b[0m\u001b[1;33m(\u001b[0m\u001b[0mstate\u001b[0m\u001b[1;33m,\u001b[0m \u001b[0mswitch_player\u001b[0m\u001b[1;33m(\u001b[0m\u001b[0mplayer\u001b[0m\u001b[1;33m)\u001b[0m\u001b[1;33m,\u001b[0m \u001b[0ma\u001b[0m\u001b[1;33m)\u001b[0m\u001b[1;33m,\u001b[0m \u001b[0mplayer\u001b[0m\u001b[1;33m,\u001b[0m\u001b[0mordering\u001b[0m\u001b[1;33m,\u001b[0m \u001b[0malpha\u001b[0m\u001b[1;33m,\u001b[0m \u001b[0mbeta\u001b[0m\u001b[1;33m)\u001b[0m\u001b[1;33m\u001b[0m\u001b[1;33m\u001b[0m\u001b[0m\n\u001b[0m\u001b[0;32m     52\u001b[0m         \u001b[1;32mif\u001b[0m \u001b[0mv2\u001b[0m \u001b[1;33m<\u001b[0m \u001b[0mv\u001b[0m\u001b[1;33m:\u001b[0m\u001b[1;33m\u001b[0m\u001b[1;33m\u001b[0m\u001b[0m\n\u001b[0;32m     53\u001b[0m             \u001b[0mv\u001b[0m\u001b[1;33m,\u001b[0m \u001b[0mmove\u001b[0m \u001b[1;33m=\u001b[0m \u001b[0mv2\u001b[0m\u001b[1;33m,\u001b[0m \u001b[0ma\u001b[0m\u001b[1;33m\u001b[0m\u001b[1;33m\u001b[0m\u001b[0m\n",
      "\u001b[1;32m<ipython-input-16-244f6da6871a>\u001b[0m in \u001b[0;36mmax_value_ab_ordering\u001b[1;34m(state, player, ordering, alpha, beta)\u001b[0m\n\u001b[0;32m     27\u001b[0m     \u001b[1;31m# check all possible actions in the state, update alpha and return move with the largest value\u001b[0m\u001b[1;33m\u001b[0m\u001b[1;33m\u001b[0m\u001b[1;33m\u001b[0m\u001b[0m\n\u001b[0;32m     28\u001b[0m     \u001b[1;32mfor\u001b[0m \u001b[0ma\u001b[0m \u001b[1;32min\u001b[0m \u001b[0mordering\u001b[0m\u001b[1;33m(\u001b[0m\u001b[0mstate\u001b[0m\u001b[1;33m,\u001b[0m\u001b[0mplayer\u001b[0m\u001b[1;33m)\u001b[0m\u001b[1;33m:\u001b[0m\u001b[1;33m\u001b[0m\u001b[1;33m\u001b[0m\u001b[0m\n\u001b[1;32m---> 29\u001b[1;33m         \u001b[0mv2\u001b[0m\u001b[1;33m,\u001b[0m \u001b[0ma2\u001b[0m \u001b[1;33m=\u001b[0m \u001b[0mmin_value_ab_ordering\u001b[0m\u001b[1;33m(\u001b[0m\u001b[0mto_move\u001b[0m\u001b[1;33m(\u001b[0m\u001b[0mstate\u001b[0m\u001b[1;33m,\u001b[0m \u001b[0mplayer\u001b[0m\u001b[1;33m,\u001b[0m \u001b[0ma\u001b[0m\u001b[1;33m)\u001b[0m\u001b[1;33m,\u001b[0m \u001b[0mplayer\u001b[0m\u001b[1;33m,\u001b[0m\u001b[0mordering\u001b[0m\u001b[1;33m,\u001b[0m \u001b[0malpha\u001b[0m\u001b[1;33m,\u001b[0m \u001b[0mbeta\u001b[0m\u001b[1;33m)\u001b[0m\u001b[1;33m\u001b[0m\u001b[1;33m\u001b[0m\u001b[0m\n\u001b[0m\u001b[0;32m     30\u001b[0m         \u001b[1;32mif\u001b[0m \u001b[0mv2\u001b[0m \u001b[1;33m>\u001b[0m \u001b[0mv\u001b[0m\u001b[1;33m:\u001b[0m\u001b[1;33m\u001b[0m\u001b[1;33m\u001b[0m\u001b[0m\n\u001b[0;32m     31\u001b[0m             \u001b[0mv\u001b[0m\u001b[1;33m,\u001b[0m \u001b[0mmove\u001b[0m \u001b[1;33m=\u001b[0m \u001b[0mv2\u001b[0m\u001b[1;33m,\u001b[0m \u001b[0ma\u001b[0m\u001b[1;33m\u001b[0m\u001b[1;33m\u001b[0m\u001b[0m\n",
      "\u001b[1;32m<ipython-input-16-244f6da6871a>\u001b[0m in \u001b[0;36mmin_value_ab_ordering\u001b[1;34m(state, player, ordering, alpha, beta)\u001b[0m\n\u001b[0;32m     49\u001b[0m     \u001b[1;31m# check all possible actions in the state, update beta and return move with the smallest value\u001b[0m\u001b[1;33m\u001b[0m\u001b[1;33m\u001b[0m\u001b[1;33m\u001b[0m\u001b[0m\n\u001b[0;32m     50\u001b[0m     \u001b[1;32mfor\u001b[0m \u001b[0ma\u001b[0m \u001b[1;32min\u001b[0m \u001b[0mordering\u001b[0m\u001b[1;33m(\u001b[0m\u001b[0mstate\u001b[0m\u001b[1;33m,\u001b[0m\u001b[0mswitch_player\u001b[0m\u001b[1;33m(\u001b[0m\u001b[0mplayer\u001b[0m\u001b[1;33m)\u001b[0m\u001b[1;33m)\u001b[0m\u001b[1;33m:\u001b[0m\u001b[1;33m\u001b[0m\u001b[1;33m\u001b[0m\u001b[0m\n\u001b[1;32m---> 51\u001b[1;33m         \u001b[0mv2\u001b[0m\u001b[1;33m,\u001b[0m \u001b[0ma2\u001b[0m \u001b[1;33m=\u001b[0m \u001b[0mmax_value_ab_ordering\u001b[0m\u001b[1;33m(\u001b[0m\u001b[0mto_move\u001b[0m\u001b[1;33m(\u001b[0m\u001b[0mstate\u001b[0m\u001b[1;33m,\u001b[0m \u001b[0mswitch_player\u001b[0m\u001b[1;33m(\u001b[0m\u001b[0mplayer\u001b[0m\u001b[1;33m)\u001b[0m\u001b[1;33m,\u001b[0m \u001b[0ma\u001b[0m\u001b[1;33m)\u001b[0m\u001b[1;33m,\u001b[0m \u001b[0mplayer\u001b[0m\u001b[1;33m,\u001b[0m\u001b[0mordering\u001b[0m\u001b[1;33m,\u001b[0m \u001b[0malpha\u001b[0m\u001b[1;33m,\u001b[0m \u001b[0mbeta\u001b[0m\u001b[1;33m)\u001b[0m\u001b[1;33m\u001b[0m\u001b[1;33m\u001b[0m\u001b[0m\n\u001b[0m\u001b[0;32m     52\u001b[0m         \u001b[1;32mif\u001b[0m \u001b[0mv2\u001b[0m \u001b[1;33m<\u001b[0m \u001b[0mv\u001b[0m\u001b[1;33m:\u001b[0m\u001b[1;33m\u001b[0m\u001b[1;33m\u001b[0m\u001b[0m\n\u001b[0;32m     53\u001b[0m             \u001b[0mv\u001b[0m\u001b[1;33m,\u001b[0m \u001b[0mmove\u001b[0m \u001b[1;33m=\u001b[0m \u001b[0mv2\u001b[0m\u001b[1;33m,\u001b[0m \u001b[0ma\u001b[0m\u001b[1;33m\u001b[0m\u001b[1;33m\u001b[0m\u001b[0m\n",
      "\u001b[1;32m<ipython-input-16-244f6da6871a>\u001b[0m in \u001b[0;36mmax_value_ab_ordering\u001b[1;34m(state, player, ordering, alpha, beta)\u001b[0m\n\u001b[0;32m     27\u001b[0m     \u001b[1;31m# check all possible actions in the state, update alpha and return move with the largest value\u001b[0m\u001b[1;33m\u001b[0m\u001b[1;33m\u001b[0m\u001b[1;33m\u001b[0m\u001b[0m\n\u001b[0;32m     28\u001b[0m     \u001b[1;32mfor\u001b[0m \u001b[0ma\u001b[0m \u001b[1;32min\u001b[0m \u001b[0mordering\u001b[0m\u001b[1;33m(\u001b[0m\u001b[0mstate\u001b[0m\u001b[1;33m,\u001b[0m\u001b[0mplayer\u001b[0m\u001b[1;33m)\u001b[0m\u001b[1;33m:\u001b[0m\u001b[1;33m\u001b[0m\u001b[1;33m\u001b[0m\u001b[0m\n\u001b[1;32m---> 29\u001b[1;33m         \u001b[0mv2\u001b[0m\u001b[1;33m,\u001b[0m \u001b[0ma2\u001b[0m \u001b[1;33m=\u001b[0m \u001b[0mmin_value_ab_ordering\u001b[0m\u001b[1;33m(\u001b[0m\u001b[0mto_move\u001b[0m\u001b[1;33m(\u001b[0m\u001b[0mstate\u001b[0m\u001b[1;33m,\u001b[0m \u001b[0mplayer\u001b[0m\u001b[1;33m,\u001b[0m \u001b[0ma\u001b[0m\u001b[1;33m)\u001b[0m\u001b[1;33m,\u001b[0m \u001b[0mplayer\u001b[0m\u001b[1;33m,\u001b[0m\u001b[0mordering\u001b[0m\u001b[1;33m,\u001b[0m \u001b[0malpha\u001b[0m\u001b[1;33m,\u001b[0m \u001b[0mbeta\u001b[0m\u001b[1;33m)\u001b[0m\u001b[1;33m\u001b[0m\u001b[1;33m\u001b[0m\u001b[0m\n\u001b[0m\u001b[0;32m     30\u001b[0m         \u001b[1;32mif\u001b[0m \u001b[0mv2\u001b[0m \u001b[1;33m>\u001b[0m \u001b[0mv\u001b[0m\u001b[1;33m:\u001b[0m\u001b[1;33m\u001b[0m\u001b[1;33m\u001b[0m\u001b[0m\n\u001b[0;32m     31\u001b[0m             \u001b[0mv\u001b[0m\u001b[1;33m,\u001b[0m \u001b[0mmove\u001b[0m \u001b[1;33m=\u001b[0m \u001b[0mv2\u001b[0m\u001b[1;33m,\u001b[0m \u001b[0ma\u001b[0m\u001b[1;33m\u001b[0m\u001b[1;33m\u001b[0m\u001b[0m\n",
      "\u001b[1;32m<ipython-input-16-244f6da6871a>\u001b[0m in \u001b[0;36mmin_value_ab_ordering\u001b[1;34m(state, player, ordering, alpha, beta)\u001b[0m\n\u001b[0;32m     49\u001b[0m     \u001b[1;31m# check all possible actions in the state, update beta and return move with the smallest value\u001b[0m\u001b[1;33m\u001b[0m\u001b[1;33m\u001b[0m\u001b[1;33m\u001b[0m\u001b[0m\n\u001b[0;32m     50\u001b[0m     \u001b[1;32mfor\u001b[0m \u001b[0ma\u001b[0m \u001b[1;32min\u001b[0m \u001b[0mordering\u001b[0m\u001b[1;33m(\u001b[0m\u001b[0mstate\u001b[0m\u001b[1;33m,\u001b[0m\u001b[0mswitch_player\u001b[0m\u001b[1;33m(\u001b[0m\u001b[0mplayer\u001b[0m\u001b[1;33m)\u001b[0m\u001b[1;33m)\u001b[0m\u001b[1;33m:\u001b[0m\u001b[1;33m\u001b[0m\u001b[1;33m\u001b[0m\u001b[0m\n\u001b[1;32m---> 51\u001b[1;33m         \u001b[0mv2\u001b[0m\u001b[1;33m,\u001b[0m \u001b[0ma2\u001b[0m \u001b[1;33m=\u001b[0m \u001b[0mmax_value_ab_ordering\u001b[0m\u001b[1;33m(\u001b[0m\u001b[0mto_move\u001b[0m\u001b[1;33m(\u001b[0m\u001b[0mstate\u001b[0m\u001b[1;33m,\u001b[0m \u001b[0mswitch_player\u001b[0m\u001b[1;33m(\u001b[0m\u001b[0mplayer\u001b[0m\u001b[1;33m)\u001b[0m\u001b[1;33m,\u001b[0m \u001b[0ma\u001b[0m\u001b[1;33m)\u001b[0m\u001b[1;33m,\u001b[0m \u001b[0mplayer\u001b[0m\u001b[1;33m,\u001b[0m\u001b[0mordering\u001b[0m\u001b[1;33m,\u001b[0m \u001b[0malpha\u001b[0m\u001b[1;33m,\u001b[0m \u001b[0mbeta\u001b[0m\u001b[1;33m)\u001b[0m\u001b[1;33m\u001b[0m\u001b[1;33m\u001b[0m\u001b[0m\n\u001b[0m\u001b[0;32m     52\u001b[0m         \u001b[1;32mif\u001b[0m \u001b[0mv2\u001b[0m \u001b[1;33m<\u001b[0m \u001b[0mv\u001b[0m\u001b[1;33m:\u001b[0m\u001b[1;33m\u001b[0m\u001b[1;33m\u001b[0m\u001b[0m\n\u001b[0;32m     53\u001b[0m             \u001b[0mv\u001b[0m\u001b[1;33m,\u001b[0m \u001b[0mmove\u001b[0m \u001b[1;33m=\u001b[0m \u001b[0mv2\u001b[0m\u001b[1;33m,\u001b[0m \u001b[0ma\u001b[0m\u001b[1;33m\u001b[0m\u001b[1;33m\u001b[0m\u001b[0m\n",
      "\u001b[1;32m<ipython-input-16-244f6da6871a>\u001b[0m in \u001b[0;36mmax_value_ab_ordering\u001b[1;34m(state, player, ordering, alpha, beta)\u001b[0m\n\u001b[0;32m     27\u001b[0m     \u001b[1;31m# check all possible actions in the state, update alpha and return move with the largest value\u001b[0m\u001b[1;33m\u001b[0m\u001b[1;33m\u001b[0m\u001b[1;33m\u001b[0m\u001b[0m\n\u001b[0;32m     28\u001b[0m     \u001b[1;32mfor\u001b[0m \u001b[0ma\u001b[0m \u001b[1;32min\u001b[0m \u001b[0mordering\u001b[0m\u001b[1;33m(\u001b[0m\u001b[0mstate\u001b[0m\u001b[1;33m,\u001b[0m\u001b[0mplayer\u001b[0m\u001b[1;33m)\u001b[0m\u001b[1;33m:\u001b[0m\u001b[1;33m\u001b[0m\u001b[1;33m\u001b[0m\u001b[0m\n\u001b[1;32m---> 29\u001b[1;33m         \u001b[0mv2\u001b[0m\u001b[1;33m,\u001b[0m \u001b[0ma2\u001b[0m \u001b[1;33m=\u001b[0m \u001b[0mmin_value_ab_ordering\u001b[0m\u001b[1;33m(\u001b[0m\u001b[0mto_move\u001b[0m\u001b[1;33m(\u001b[0m\u001b[0mstate\u001b[0m\u001b[1;33m,\u001b[0m \u001b[0mplayer\u001b[0m\u001b[1;33m,\u001b[0m \u001b[0ma\u001b[0m\u001b[1;33m)\u001b[0m\u001b[1;33m,\u001b[0m \u001b[0mplayer\u001b[0m\u001b[1;33m,\u001b[0m\u001b[0mordering\u001b[0m\u001b[1;33m,\u001b[0m \u001b[0malpha\u001b[0m\u001b[1;33m,\u001b[0m \u001b[0mbeta\u001b[0m\u001b[1;33m)\u001b[0m\u001b[1;33m\u001b[0m\u001b[1;33m\u001b[0m\u001b[0m\n\u001b[0m\u001b[0;32m     30\u001b[0m         \u001b[1;32mif\u001b[0m \u001b[0mv2\u001b[0m \u001b[1;33m>\u001b[0m \u001b[0mv\u001b[0m\u001b[1;33m:\u001b[0m\u001b[1;33m\u001b[0m\u001b[1;33m\u001b[0m\u001b[0m\n\u001b[0;32m     31\u001b[0m             \u001b[0mv\u001b[0m\u001b[1;33m,\u001b[0m \u001b[0mmove\u001b[0m \u001b[1;33m=\u001b[0m \u001b[0mv2\u001b[0m\u001b[1;33m,\u001b[0m \u001b[0ma\u001b[0m\u001b[1;33m\u001b[0m\u001b[1;33m\u001b[0m\u001b[0m\n",
      "\u001b[1;32m<ipython-input-16-244f6da6871a>\u001b[0m in \u001b[0;36mmin_value_ab_ordering\u001b[1;34m(state, player, ordering, alpha, beta)\u001b[0m\n\u001b[0;32m     49\u001b[0m     \u001b[1;31m# check all possible actions in the state, update beta and return move with the smallest value\u001b[0m\u001b[1;33m\u001b[0m\u001b[1;33m\u001b[0m\u001b[1;33m\u001b[0m\u001b[0m\n\u001b[0;32m     50\u001b[0m     \u001b[1;32mfor\u001b[0m \u001b[0ma\u001b[0m \u001b[1;32min\u001b[0m \u001b[0mordering\u001b[0m\u001b[1;33m(\u001b[0m\u001b[0mstate\u001b[0m\u001b[1;33m,\u001b[0m\u001b[0mswitch_player\u001b[0m\u001b[1;33m(\u001b[0m\u001b[0mplayer\u001b[0m\u001b[1;33m)\u001b[0m\u001b[1;33m)\u001b[0m\u001b[1;33m:\u001b[0m\u001b[1;33m\u001b[0m\u001b[1;33m\u001b[0m\u001b[0m\n\u001b[1;32m---> 51\u001b[1;33m         \u001b[0mv2\u001b[0m\u001b[1;33m,\u001b[0m \u001b[0ma2\u001b[0m \u001b[1;33m=\u001b[0m \u001b[0mmax_value_ab_ordering\u001b[0m\u001b[1;33m(\u001b[0m\u001b[0mto_move\u001b[0m\u001b[1;33m(\u001b[0m\u001b[0mstate\u001b[0m\u001b[1;33m,\u001b[0m \u001b[0mswitch_player\u001b[0m\u001b[1;33m(\u001b[0m\u001b[0mplayer\u001b[0m\u001b[1;33m)\u001b[0m\u001b[1;33m,\u001b[0m \u001b[0ma\u001b[0m\u001b[1;33m)\u001b[0m\u001b[1;33m,\u001b[0m \u001b[0mplayer\u001b[0m\u001b[1;33m,\u001b[0m\u001b[0mordering\u001b[0m\u001b[1;33m,\u001b[0m \u001b[0malpha\u001b[0m\u001b[1;33m,\u001b[0m \u001b[0mbeta\u001b[0m\u001b[1;33m)\u001b[0m\u001b[1;33m\u001b[0m\u001b[1;33m\u001b[0m\u001b[0m\n\u001b[0m\u001b[0;32m     52\u001b[0m         \u001b[1;32mif\u001b[0m \u001b[0mv2\u001b[0m \u001b[1;33m<\u001b[0m \u001b[0mv\u001b[0m\u001b[1;33m:\u001b[0m\u001b[1;33m\u001b[0m\u001b[1;33m\u001b[0m\u001b[0m\n\u001b[0;32m     53\u001b[0m             \u001b[0mv\u001b[0m\u001b[1;33m,\u001b[0m \u001b[0mmove\u001b[0m \u001b[1;33m=\u001b[0m \u001b[0mv2\u001b[0m\u001b[1;33m,\u001b[0m \u001b[0ma\u001b[0m\u001b[1;33m\u001b[0m\u001b[1;33m\u001b[0m\u001b[0m\n",
      "\u001b[1;32m<ipython-input-16-244f6da6871a>\u001b[0m in \u001b[0;36mmax_value_ab_ordering\u001b[1;34m(state, player, ordering, alpha, beta)\u001b[0m\n\u001b[0;32m     27\u001b[0m     \u001b[1;31m# check all possible actions in the state, update alpha and return move with the largest value\u001b[0m\u001b[1;33m\u001b[0m\u001b[1;33m\u001b[0m\u001b[1;33m\u001b[0m\u001b[0m\n\u001b[0;32m     28\u001b[0m     \u001b[1;32mfor\u001b[0m \u001b[0ma\u001b[0m \u001b[1;32min\u001b[0m \u001b[0mordering\u001b[0m\u001b[1;33m(\u001b[0m\u001b[0mstate\u001b[0m\u001b[1;33m,\u001b[0m\u001b[0mplayer\u001b[0m\u001b[1;33m)\u001b[0m\u001b[1;33m:\u001b[0m\u001b[1;33m\u001b[0m\u001b[1;33m\u001b[0m\u001b[0m\n\u001b[1;32m---> 29\u001b[1;33m         \u001b[0mv2\u001b[0m\u001b[1;33m,\u001b[0m \u001b[0ma2\u001b[0m \u001b[1;33m=\u001b[0m \u001b[0mmin_value_ab_ordering\u001b[0m\u001b[1;33m(\u001b[0m\u001b[0mto_move\u001b[0m\u001b[1;33m(\u001b[0m\u001b[0mstate\u001b[0m\u001b[1;33m,\u001b[0m \u001b[0mplayer\u001b[0m\u001b[1;33m,\u001b[0m \u001b[0ma\u001b[0m\u001b[1;33m)\u001b[0m\u001b[1;33m,\u001b[0m \u001b[0mplayer\u001b[0m\u001b[1;33m,\u001b[0m\u001b[0mordering\u001b[0m\u001b[1;33m,\u001b[0m \u001b[0malpha\u001b[0m\u001b[1;33m,\u001b[0m \u001b[0mbeta\u001b[0m\u001b[1;33m)\u001b[0m\u001b[1;33m\u001b[0m\u001b[1;33m\u001b[0m\u001b[0m\n\u001b[0m\u001b[0;32m     30\u001b[0m         \u001b[1;32mif\u001b[0m \u001b[0mv2\u001b[0m \u001b[1;33m>\u001b[0m \u001b[0mv\u001b[0m\u001b[1;33m:\u001b[0m\u001b[1;33m\u001b[0m\u001b[1;33m\u001b[0m\u001b[0m\n\u001b[0;32m     31\u001b[0m             \u001b[0mv\u001b[0m\u001b[1;33m,\u001b[0m \u001b[0mmove\u001b[0m \u001b[1;33m=\u001b[0m \u001b[0mv2\u001b[0m\u001b[1;33m,\u001b[0m \u001b[0ma\u001b[0m\u001b[1;33m\u001b[0m\u001b[1;33m\u001b[0m\u001b[0m\n",
      "\u001b[1;32m<ipython-input-16-244f6da6871a>\u001b[0m in \u001b[0;36mmin_value_ab_ordering\u001b[1;34m(state, player, ordering, alpha, beta)\u001b[0m\n\u001b[0;32m     49\u001b[0m     \u001b[1;31m# check all possible actions in the state, update beta and return move with the smallest value\u001b[0m\u001b[1;33m\u001b[0m\u001b[1;33m\u001b[0m\u001b[1;33m\u001b[0m\u001b[0m\n\u001b[0;32m     50\u001b[0m     \u001b[1;32mfor\u001b[0m \u001b[0ma\u001b[0m \u001b[1;32min\u001b[0m \u001b[0mordering\u001b[0m\u001b[1;33m(\u001b[0m\u001b[0mstate\u001b[0m\u001b[1;33m,\u001b[0m\u001b[0mswitch_player\u001b[0m\u001b[1;33m(\u001b[0m\u001b[0mplayer\u001b[0m\u001b[1;33m)\u001b[0m\u001b[1;33m)\u001b[0m\u001b[1;33m:\u001b[0m\u001b[1;33m\u001b[0m\u001b[1;33m\u001b[0m\u001b[0m\n\u001b[1;32m---> 51\u001b[1;33m         \u001b[0mv2\u001b[0m\u001b[1;33m,\u001b[0m \u001b[0ma2\u001b[0m \u001b[1;33m=\u001b[0m \u001b[0mmax_value_ab_ordering\u001b[0m\u001b[1;33m(\u001b[0m\u001b[0mto_move\u001b[0m\u001b[1;33m(\u001b[0m\u001b[0mstate\u001b[0m\u001b[1;33m,\u001b[0m \u001b[0mswitch_player\u001b[0m\u001b[1;33m(\u001b[0m\u001b[0mplayer\u001b[0m\u001b[1;33m)\u001b[0m\u001b[1;33m,\u001b[0m \u001b[0ma\u001b[0m\u001b[1;33m)\u001b[0m\u001b[1;33m,\u001b[0m \u001b[0mplayer\u001b[0m\u001b[1;33m,\u001b[0m\u001b[0mordering\u001b[0m\u001b[1;33m,\u001b[0m \u001b[0malpha\u001b[0m\u001b[1;33m,\u001b[0m \u001b[0mbeta\u001b[0m\u001b[1;33m)\u001b[0m\u001b[1;33m\u001b[0m\u001b[1;33m\u001b[0m\u001b[0m\n\u001b[0m\u001b[0;32m     52\u001b[0m         \u001b[1;32mif\u001b[0m \u001b[0mv2\u001b[0m \u001b[1;33m<\u001b[0m \u001b[0mv\u001b[0m\u001b[1;33m:\u001b[0m\u001b[1;33m\u001b[0m\u001b[1;33m\u001b[0m\u001b[0m\n\u001b[0;32m     53\u001b[0m             \u001b[0mv\u001b[0m\u001b[1;33m,\u001b[0m \u001b[0mmove\u001b[0m \u001b[1;33m=\u001b[0m \u001b[0mv2\u001b[0m\u001b[1;33m,\u001b[0m \u001b[0ma\u001b[0m\u001b[1;33m\u001b[0m\u001b[1;33m\u001b[0m\u001b[0m\n",
      "\u001b[1;32m<ipython-input-3-86c419e95300>\u001b[0m in \u001b[0;36mto_move\u001b[1;34m(board, player, move)\u001b[0m\n\u001b[0;32m      1\u001b[0m \u001b[1;32mimport\u001b[0m \u001b[0mrandom\u001b[0m\u001b[1;33m\u001b[0m\u001b[1;33m\u001b[0m\u001b[0m\n\u001b[0;32m      2\u001b[0m \u001b[1;32mdef\u001b[0m \u001b[0mto_move\u001b[0m\u001b[1;33m(\u001b[0m\u001b[0mboard\u001b[0m\u001b[1;33m,\u001b[0m \u001b[0mplayer\u001b[0m\u001b[1;33m,\u001b[0m \u001b[0mmove\u001b[0m\u001b[1;33m)\u001b[0m\u001b[1;33m:\u001b[0m\u001b[1;33m\u001b[0m\u001b[1;33m\u001b[0m\u001b[0m\n\u001b[1;32m----> 3\u001b[1;33m     \u001b[0mnew_board\u001b[0m \u001b[1;33m=\u001b[0m \u001b[0mboard\u001b[0m\u001b[1;33m.\u001b[0m\u001b[0mcopy\u001b[0m\u001b[1;33m(\u001b[0m\u001b[1;33m)\u001b[0m\u001b[1;33m\u001b[0m\u001b[1;33m\u001b[0m\u001b[0m\n\u001b[0m\u001b[0;32m      4\u001b[0m     \u001b[1;32mfor\u001b[0m \u001b[0mrow\u001b[0m \u001b[1;32min\u001b[0m \u001b[0mreversed\u001b[0m\u001b[1;33m(\u001b[0m\u001b[0mnew_board\u001b[0m\u001b[1;33m)\u001b[0m\u001b[1;33m:\u001b[0m\u001b[1;33m\u001b[0m\u001b[1;33m\u001b[0m\u001b[0m\n\u001b[0;32m      5\u001b[0m         \u001b[1;32mif\u001b[0m \u001b[0mrow\u001b[0m\u001b[1;33m[\u001b[0m\u001b[0mmove\u001b[0m\u001b[1;33m]\u001b[0m \u001b[1;33m==\u001b[0m \u001b[1;34m' '\u001b[0m\u001b[1;33m:\u001b[0m\u001b[1;33m\u001b[0m\u001b[1;33m\u001b[0m\u001b[0m\n",
      "\u001b[1;31mKeyboardInterrupt\u001b[0m: "
     ]
    }
   ],
   "source": [
    "%%time\n",
    "def play_vs_random(N=1000, shape=(4,4), print_boards=False):\n",
    "    mini_char = 'o'\n",
    "    random_char = 'x'\n",
    "    mini_wins = 0\n",
    "    random_wins = 0\n",
    "    draws = 0\n",
    "    for i in range(0,N):\n",
    "        board = empty_board(shape=shape)\n",
    "        alpha_beta_agent = alpha_beta_search_ordering_agent('x',ordering_middle)\n",
    "        rand_agent = random_agent('o')\n",
    "        winner = ' '\n",
    "        while winner == ' ':\n",
    "            board = alpha_beta_agent.act(board)\n",
    "            if utility(board, alpha_beta_agent.character) == 1:\n",
    "                winner = alpha_beta_agent.character\n",
    "                mini_wins = mini_wins + 1\n",
    "            if winner == ' ':\n",
    "                board = rand_agent.act(board)\n",
    "            if utility(board, rand_agent.character) == 1:\n",
    "                winner = rand_agent.character\n",
    "                random_wins = random_wins + 1\n",
    "            if len(actions(board)) == 0:\n",
    "                winner = 'd'\n",
    "                draws = draws + 1\n",
    "        if print_boards:\n",
    "            show_board(board)\n",
    "        \n",
    "        #switch who goes first \n",
    "        board = empty_board(shape=shape)\n",
    "        alpha_beta_agent = alpha_beta_search_ordering_agent('x',ordering_middle)\n",
    "        rand_agent = random_agent('o')\n",
    "        winner = ' '\n",
    "        while winner == ' ':\n",
    "            board = rand_agent.act(board)\n",
    "            if utility(board, rand_agent.character) == 1:\n",
    "                winner = rand_agent.character\n",
    "                random_wins = random_wins + 1\n",
    "            if winner == ' ':\n",
    "                board = alpha_beta_agent.act(board)\n",
    "            if utility(board, alpha_beta_agent.character) == 1:\n",
    "                winner = alpha_beta_agent.character\n",
    "                mini_wins = mini_wins + 1\n",
    "            if len(actions(board)) == 0:\n",
    "                winner = 'd'\n",
    "                draws = draws + 1\n",
    "        if print_boards:\n",
    "            show_board(board)\n",
    "    return (mini_wins, random_wins, draws)\n",
    "            \n",
    "play_vs_random(N=1, shape=(4,4),print_boards=False)       "
   ]
  },
  {
   "cell_type": "code",
   "execution_count": 22,
   "metadata": {},
   "outputs": [
    {
     "name": "stdout",
     "output_type": "stream",
     "text": [
      "Wall time: 46min 26s\n"
     ]
    },
    {
     "data": {
      "text/plain": [
       "(148, 0, 97)"
      ]
     },
     "execution_count": 22,
     "metadata": {},
     "output_type": "execute_result"
    }
   ],
   "source": [
    "%%time\n",
    "play_vs_random(N=100, shape=(4,4),print_boards=False)"
   ]
  },
  {
   "cell_type": "markdown",
   "metadata": {},
   "source": [
    "## Task 4: Heuristic Alpha-Beta Tree Search [3 points] \n",
    "\n",
    "### Heuristic evaluation function\n",
    "\n",
    "Define and implement a heuristic evaluation function."
   ]
  },
  {
   "cell_type": "code",
   "execution_count": 386,
   "metadata": {},
   "outputs": [],
   "source": [
    "import sys\n",
    "\n",
    "def score_board(board, player):\n",
    "    #check if there is a horizonatal winner\n",
    "    num_ones_total = 0\n",
    "    num_twos_total = 0\n",
    "    num_threes_total = 0\n",
    "    num_fours_total = 0\n",
    "    for row in board:\n",
    "        num_ones, num_twos, num_threes,num_fours = score_array(row, player)\n",
    "        num_ones_total += num_ones\n",
    "        num_twos_total += num_twos\n",
    "        num_threes_total += num_threes\n",
    "        num_fours_total += num_fours\n",
    "    #print(num_ones_total, num_twos_total, num_threes_total)    \n",
    "    #check if there is a vertical winner\n",
    "    vertical_board = board.copy()\n",
    "    vertical_board = np.rot90(vertical_board)\n",
    "    for row in vertical_board:\n",
    "        num_ones, num_twos, num_threes,num_fours = score_array(row, player)\n",
    "        num_twos_total += num_twos\n",
    "        num_threes_total += num_threes\n",
    "        num_fours_total += num_fours\n",
    "    #print(num_ones_total, num_twos_total, num_threes_total)    \n",
    "\n",
    "    for i in diagonal_rows(board):\n",
    "        num_ones, num_twos, num_threes,num_fours = score_array(i, player)\n",
    "        num_twos_total += num_twos\n",
    "        num_threes_total += num_threes\n",
    "        num_fours_total += num_fours\n",
    "    #print(num_ones_total,num_twos_total,num_threes_total)\n",
    "    #print(num_ones_total, num_twos_total, num_threes_total)    \n",
    "\n",
    "    if num_fours_total > 0:\n",
    "        return 4000, True\n",
    "    return num_twos_total*2 + num_threes_total*100 + num_fours_total*10000, num_fours_total>0\n",
    "\n",
    "def score_array(array, player):\n",
    "    arr = array.copy()\n",
    "    arr = np.insert(arr,obj=0,values=['*'])\n",
    "    arr = np.insert(arr,obj=0,values=['*'])\n",
    "    arr = np.insert(arr,obj=len(arr),values=['*'])\n",
    "    arr = np.insert(arr,obj=len(arr),values=['*'])\n",
    "    \n",
    "    num_ones = 0\n",
    "    num_twos = 0\n",
    "    num_threes = 0\n",
    "    num_fours = 0\n",
    "    current_run = 0\n",
    "    start_char = array[0]\n",
    "    for idx in range(1,len(arr)-1):\n",
    "        c = arr[idx]\n",
    "        if c == player:\n",
    "            current_run += 1\n",
    "        else: \n",
    "            end_char = arr[idx]\n",
    "            if current_run == 1 and (arr[idx] == ' '  or arr[idx-2] == ' ' ):\n",
    "                num_ones += 1\n",
    "            elif current_run == 2 and (arr[idx] == ' '  or arr[idx-3] == ' ' ):\n",
    "                num_twos += 1\n",
    "            elif current_run == 3 and (arr[idx] == ' '  or arr[idx-4] == ' ' ):\n",
    "                num_threes +=1\n",
    "            elif current_run >= 4 and (arr[idx] == ' '  or arr[idx-5] == ' ' ):\n",
    "                num_fours = 1\n",
    "            current_run = 0\n",
    "            start_char = c\n",
    "    return (num_ones,num_twos,num_threes,num_fours)\n",
    "\n",
    "def eval_fun(board, player):\n",
    "    player_score =  score_board(board, player)\n",
    "    oppo_score = score_board(board, switch_player(player))\n",
    "    return player_score[0] - oppo_score[0], player_score[1] or oppo_score[1]\n",
    "def eval_fun_util(board, player):\n",
    "    util = utility(board,player)\n",
    "    if util is None: util = 0\n",
    "    return util, util != 0"
   ]
  },
  {
   "cell_type": "code",
   "execution_count": 388,
   "metadata": {},
   "outputs": [
    {
     "name": "stdout",
     "output_type": "stream",
     "text": [
      "| | | | | |\n",
      "| | | | |o|\n",
      "|x|o| | |o|\n",
      "|o|x|o| |o|\n",
      "|x|x|o| |o|\n",
      "___________\n"
     ]
    },
    {
     "data": {
      "text/plain": [
       "(3998, True)"
      ]
     },
     "execution_count": 388,
     "metadata": {},
     "output_type": "execute_result"
    }
   ],
   "source": [
    "board = empty_board((5,5))\n",
    "board[4][0] = 'x'\n",
    "board[4][1] = 'x'\n",
    "board[4][2] = 'o'\n",
    "board[3][0] = 'o'\n",
    "board[3][1] = 'x'\n",
    "board[3][2] = 'o'\n",
    "board[2][0] = 'x'\n",
    "board[4][4] = 'o'\n",
    "board[1][4] = 'o'\n",
    "board[3][4] = 'o'\n",
    "board[2][4] = 'o'\n",
    "board[2][1] = 'o'\n",
    "show_board(board)\n",
    "eval_fun(board,'o')"
   ]
  },
  {
   "cell_type": "code",
   "execution_count": 377,
   "metadata": {},
   "outputs": [],
   "source": [
    "# global variables\n",
    "DEBUG = 2 # 1 ... count nodes, 2 ... debug each node\n",
    "COUNT = 0\n",
    "\n",
    "def alpha_beta_search_heuristic(board, \n",
    "                                cutoff = None, fp=None,\n",
    "                                ordering=ordering_middle,\n",
    "                                eval_fun=utility, \n",
    "                                player = 'x'):\n",
    "    \"\"\"start the search.\"\"\"\n",
    "    global DEBUG, COUNT\n",
    "    COUNT = 0\n",
    "    print('I think I am here')\n",
    "    value, move = max_value_ab_heuristic(board, player, ordering,eval_fun,-math.inf, +math.inf, 0, cutoff,fp)\n",
    "    \n",
    "    if DEBUG >= 1: print(f\"Number of nodes searched (cutoff = {cutoff}): {COUNT}\") \n",
    "    \n",
    "    return value, move\n",
    "\n",
    "def max_value_ab_heuristic(state, player,ordering,eval_fun, alpha, beta, depth, cutoff,fp):\n",
    "    \"\"\"player's best move.\"\"\"\n",
    "    global DEBUG, COUNT\n",
    "    COUNT += 1\n",
    "    \n",
    "    # cut off and terminal test\n",
    "    v, terminal = eval_fun(state, player)\n",
    "    if((cutoff is not None and depth >= cutoff) or terminal): \n",
    "        if(terminal): alpha, beta = v, v\n",
    "        if DEBUG >= 2: print(f\"stopped at {depth}: {state} term: {terminal} eval: {v} [{alpha}, {beta}]\" ) \n",
    "        return v, None\n",
    "    \n",
    "    v, move = -math.inf, None\n",
    "\n",
    "    # check all possible actions in the state, update alpha and return move with the largest value\n",
    "    for a in actions(state):\n",
    "        v2, a2 = min_value_ab_heuristic(to_move(state, player, a), player,ordering,eval_fun,alpha, beta, depth + 1, cutoff,fp)\n",
    "        if v2 > v and (fp is None or v2 > fp):\n",
    "            v, move = v2, a\n",
    "            alpha = max(alpha, v)\n",
    "        if v >= beta: return v, move\n",
    "    \n",
    "    return v, move\n",
    "\n",
    "def min_value_ab_heuristic(state, player,ordering,eval_fun, alpha, beta, depth, cutoff,fp):\n",
    "    \"\"\"opponent's best response.\"\"\"\n",
    "    global DEBUG, COUNT\n",
    "    COUNT += 1\n",
    "    \n",
    "    # cut off and terminal test\n",
    "    v, terminal = eval_fun(state, player)\n",
    "    #if((cutoff is not None and depth >= cutoff) or terminal): \n",
    "    # always let the opponent make her move\n",
    "    if(terminal): \n",
    "        if(terminal): alpha, beta = v, v\n",
    "        if DEBUG >= 2: print(f\"stopped at {depth}: {state} term: {terminal} eval: {v} [{alpha}, {beta}]\" ) \n",
    "        return v, None\n",
    "    \n",
    "    v, move = +math.inf, None\n",
    "\n",
    "    # check all possible actions in the state, update beta and return move with the smallest value\n",
    "    for a in actions(state):\n",
    "        v2, a2 = max_value_ab_heuristic(to_move(state, switch_player(player), a), player, ordering,eval_fun,alpha, beta, depth + 1, cutoff,fp)\n",
    "        if v2 < v:\n",
    "            v, move = v2, a\n",
    "            beta = min(beta, v)\n",
    "        if v <= alpha: return v, move\n",
    "    \n",
    "    return v, move"
   ]
  },
  {
   "cell_type": "code",
   "execution_count": 393,
   "metadata": {},
   "outputs": [
    {
     "name": "stdout",
     "output_type": "stream",
     "text": [
      "|x| | | | |\n",
      "|x| | | | |\n",
      "|x| | | |o|\n",
      "|o|x|o| |o|\n",
      "|x|x|o| |o|\n",
      "___________\n",
      "(102, False)\n",
      "(4, False)\n",
      "I think I am here\n",
      "Number of nodes searched (cutoff = 10): 17902\n",
      "(-2, 4)\n",
      "I think I am here\n",
      "Number of nodes searched (cutoff = 10): 10427\n",
      "(3998, 2)\n",
      "Wall time: 2min 18s\n"
     ]
    }
   ],
   "source": [
    "%%time\n",
    "board = empty_board((5,5))\n",
    "board[4][0] = 'x'\n",
    "board[4][1] = 'x'\n",
    "board[4][2] = 'o'\n",
    "board[3][0] = 'o'\n",
    "board[3][1] = 'x'\n",
    "board[3][2] = 'o'\n",
    "board[2][0] = 'x'\n",
    "#board[1][4] = 'o'\n",
    "board[4][4] = 'o'\n",
    "board[3][4] = 'o'\n",
    "board[2][4] = 'o'\n",
    "board[1][0] = 'x'\n",
    "board[0][0] = 'x'\n",
    "show_board(board)\n",
    "print(score_board(board, 'o'))\n",
    "print(score_board(board, 'x'))\n",
    "print(alpha_beta_search_heuristic(board, player = 'x', cutoff=10,ordering=eval_fun,eval_fun=eval_fun))\n",
    "print(alpha_beta_search_heuristic(board, player = 'o', cutoff=10, ordering=eval_fun,eval_fun=eval_fun))"
   ]
  },
  {
   "cell_type": "markdown",
   "metadata": {},
   "source": [
    "### Playtime\n",
    "\n",
    "Let the Minimax Search agent play a random agent on a small board. Analyze wins, losses and draws."
   ]
  },
  {
   "cell_type": "code",
   "execution_count": 410,
   "metadata": {},
   "outputs": [],
   "source": [
    "class alpha_beta_search_ordering_hue_agent:\n",
    "    def __init__(self,character, ordering,evalfun,cutoff,fp):\n",
    "        self.character = character\n",
    "        self.ordering = ordering\n",
    "        self.eval_fun = evalfun\n",
    "        self.cutoff = cutoff\n",
    "        self.fp = fp\n",
    "    def act(self, board):\n",
    "        win, move_int = alpha_beta_search_heuristic(board, \n",
    "                                                    player=self.character, \n",
    "                                                    ordering=self.ordering,\n",
    "                                                    eval_fun=self.eval_fun,\n",
    "                                                    cutoff=self.cutoff,\n",
    "                                                    fp=self.fp)\n",
    "        return to_move(board, self.character,move_int)\n",
    "test = alpha_beta_search_ordering_hue_agent('x',ordering_middle,eval_fun,5,None)"
   ]
  },
  {
   "cell_type": "markdown",
   "metadata": {},
   "source": [
    "### Cutting off search \n",
    "\n",
    "Modify your Minimax Search with Alpha-Beta Pruning to cut off search at a specified depth and use the heuristic evaluation function. Experiment with different cutoff values."
   ]
  },
  {
   "cell_type": "code",
   "execution_count": 408,
   "metadata": {},
   "outputs": [
    {
     "name": "stdout",
     "output_type": "stream",
     "text": [
      "| | | | | | | |\n",
      "| | | | | | | |\n",
      "| | | | | | | |\n",
      "| | | | | | | |\n",
      "| | | | | | | |\n",
      "| | | | | | | |\n",
      "_______________\n",
      "I think I am here\n",
      "Number of nodes searched (cutoff = 4): 173\n",
      "(0, 0)\n",
      "Wall time: 1.14 s\n"
     ]
    }
   ],
   "source": [
    "%%time\n",
    "global DEBUG\n",
    "DEBUG = 1\n",
    "board = empty_board((6,7))\n",
    "show_board(board)\n",
    "print(alpha_beta_search_heuristic(board, player='x', cutoff=4, ordering=ordering_original, \n",
    "                                  eval_fun=eval_fun))"
   ]
  },
  {
   "cell_type": "code",
   "execution_count": 409,
   "metadata": {
    "scrolled": true
   },
   "outputs": [
    {
     "name": "stdout",
     "output_type": "stream",
     "text": [
      "| | | | | | | |\n",
      "| | | | | | | |\n",
      "| | | | | | | |\n",
      "| | | | | | | |\n",
      "| | | | | | | |\n",
      "| | | | | | | |\n",
      "_______________\n",
      "I think I am here\n",
      "Number of nodes searched (cutoff = 5): 4285\n",
      "(0, 3)\n",
      "Wall time: 27.9 s\n"
     ]
    }
   ],
   "source": [
    "%%time\n",
    "global DEBUG\n",
    "DEBUG = 1\n",
    "board = empty_board((6,7))\n",
    "show_board(board)\n",
    "print(alpha_beta_search_heuristic(board, player='x', cutoff=5, ordering=ordering_original, \n",
    "                                  eval_fun=eval_fun))"
   ]
  },
  {
   "cell_type": "markdown",
   "metadata": {},
   "source": [
    "Without more analysis we are going to take this test and claim that 5 is a good cutoff.  The reason fo this is because the search was able to find what we \"think\" is the best move on a blank board.  That is the 4th column. "
   ]
  },
  {
   "cell_type": "markdown",
   "metadata": {},
   "source": [
    "### Experiment with the same manually created boards as above to check if the agent spots wining opportunities."
   ]
  },
  {
   "cell_type": "markdown",
   "metadata": {},
   "source": [
    "How long does it take to make a move? Start with a smaller board with 4 columns and make the board larger by adding columns."
   ]
  },
  {
   "cell_type": "markdown",
   "metadata": {},
   "source": [
    "### Forward Pruning\n",
    "\n",
    "Add forward pruning to the cutoff search where you do not consider moves that have a low evaluation value after a shallow search \n",
    "(way smaller than the cuttoff value)."
   ]
  },
  {
   "cell_type": "code",
   "execution_count": null,
   "metadata": {},
   "outputs": [],
   "source": [
    "# Your code/ answer goes here."
   ]
  },
  {
   "cell_type": "markdown",
   "metadata": {},
   "source": [
    "How long does it take to make a move? Start with a smaller board with 4 columns and make the board larger by adding columns."
   ]
  },
  {
   "cell_type": "code",
   "execution_count": null,
   "metadata": {},
   "outputs": [],
   "source": [
    "# Your code/ answer goes here."
   ]
  },
  {
   "cell_type": "markdown",
   "metadata": {},
   "source": [
    "### Playtime\n",
    "\n",
    "Let two heuristic search agents (different cutoff depth, different heuristic evaluation function or different forward pruning) compete against each other on a reasonably sized board. Since there is no randomness, you only need to let them play once."
   ]
  },
  {
   "cell_type": "code",
   "execution_count": null,
   "metadata": {},
   "outputs": [],
   "source": [
    "# Your code/ answer goes here."
   ]
  },
  {
   "cell_type": "markdown",
   "metadata": {},
   "source": [
    "## Challenge task [+ 1 bonus point]\n",
    "\n",
    "Find another student and let your best agent play against the other student's best player. We will set up a class tournament on Canvas. This tournament will continue after the submission deadline."
   ]
  },
  {
   "cell_type": "markdown",
   "metadata": {},
   "source": [
    "## Graduate student advanced task: Pure Monte Carlo Search and Best First Move [1 point]\n",
    "\n",
    "__Undergraduate students:__ This is a bonus task you can attempt if you like [+1 Bonus point].\n",
    "\n",
    "### Pure Monte Carlos Search\n",
    "\n",
    "Implement Pure Monte Carlo Search and investigate how this search performs on the test boards that you have used above. "
   ]
  },
  {
   "cell_type": "code",
   "execution_count": 8,
   "metadata": {},
   "outputs": [],
   "source": [
    "global DEBUG\n",
    "DEBUG = 0\n",
    "def playout(state, action, player = 'x'):\n",
    "    \"\"\"Perfrom a random playout starting with the given action on the fiven board \n",
    "    and return the utility of the finished game.\"\"\"\n",
    "    state = to_move(state, player, action)\n",
    "    current_player = switch_player(player)\n",
    "    \n",
    "    while(True):\n",
    "        # reached terminal state?\n",
    "        u = utility(state, player)\n",
    "        if u is not None: return(u)\n",
    "        \n",
    "        # we use a random playout policy\n",
    "        a = np.random.choice(actions(state))\n",
    "        state = to_move(state, current_player, a)\n",
    "        #print(state)\n",
    "        \n",
    "        # switch between players\n",
    "        current_player = switch_player(current_player)"
   ]
  },
  {
   "cell_type": "code",
   "execution_count": 9,
   "metadata": {},
   "outputs": [],
   "source": [
    "def playouts(board, action, player = 'x', N = 100):\n",
    "    \"\"\"Perform N playouts following the given action for the given board.\"\"\"\n",
    "    return [ playout(board, action, player) for i in range(N) ]"
   ]
  },
  {
   "cell_type": "code",
   "execution_count": 10,
   "metadata": {},
   "outputs": [],
   "source": [
    "def pmcs(board, N = 100, player = 'x'):\n",
    "    \"\"\"Pure Monte Carlo Search. Returns the action that has the largest average utility.\n",
    "    The N playouts are evenly divided between the possible actions.\"\"\"\n",
    "    global DEBUG\n",
    "    \n",
    "    avail_actions = actions(board)\n",
    "    n = math.floor(N/len(avail_actions))\n",
    "    if DEBUG >= 1: print(f\"Actions: {avail_actions} ({n} playouts per actions)\")\n",
    "    \n",
    "    ps = { i:np.mean(playouts(board, i, player, N = n)) for i in avail_actions }\n",
    "    if DEBUG >= 1: display(ps)\n",
    "        \n",
    "    action = max(ps, key=ps.get)\n",
    "    return action"
   ]
  },
  {
   "cell_type": "code",
   "execution_count": 11,
   "metadata": {},
   "outputs": [],
   "source": [
    "class monte_agent:\n",
    "    def __init__(self,character, N):\n",
    "        self.character = character\n",
    "        self.N = N\n",
    "    \n",
    "    def act(self, board):\n",
    "        move = pmcs(board, self.N, self.character)\n",
    "        return to_move(board, self.character, move)"
   ]
  },
  {
   "cell_type": "code",
   "execution_count": 15,
   "metadata": {
    "scrolled": false
   },
   "outputs": [
    {
     "name": "stdout",
     "output_type": "stream",
     "text": [
      "| | | | | | | |\n",
      "| | | | | | | |\n",
      "| | | | | | | |\n",
      "| | | | | | | |\n",
      "| | | | | | | |\n",
      "| | | | | | | |\n",
      "_______________\n",
      "| | | | | | | |\n",
      "| | | | | | | |\n",
      "| | | | | | | |\n",
      "| | | | | | | |\n",
      "| | | | | | | |\n",
      "|o|x| | | | | |\n",
      "_______________\n",
      "| | | | | | | |\n",
      "| | | | | | | |\n",
      "| | | | | | | |\n",
      "| | | | | | | |\n",
      "|o| | | | | | |\n",
      "|o|x| | | |x| |\n",
      "_______________\n",
      "| | | | | | | |\n",
      "| | | | | | | |\n",
      "| | | | | | | |\n",
      "|x| | | | | | |\n",
      "|o| | | | | | |\n",
      "|o|x|o| | |x| |\n",
      "_______________\n",
      "| | | | | | | |\n",
      "| | | | | | | |\n",
      "| | | | | | | |\n",
      "|x| | | | | | |\n",
      "|o| | | | | | |\n",
      "|o|x|o|o|x|x| |\n",
      "_______________\n",
      "| | | | | | | |\n",
      "| | | | | | | |\n",
      "| | | | | | | |\n",
      "|x| | |o| | | |\n",
      "|o| | |x| | | |\n",
      "|o|x|o|o|x|x| |\n",
      "_______________\n",
      "| | | | | | | |\n",
      "| | | | | | | |\n",
      "| | | | | | | |\n",
      "|x| | |o| | | |\n",
      "|o|x| |x| |o| |\n",
      "|o|x|o|o|x|x| |\n",
      "_______________\n",
      "| | | | | | | |\n",
      "| | | | | | | |\n",
      "| | | |x| | | |\n",
      "|x| | |o| | | |\n",
      "|o|x| |x| |o| |\n",
      "|o|x|o|o|x|x|o|\n",
      "_______________\n",
      "| | | | | | | |\n",
      "| | | | | | | |\n",
      "| | | |x| | | |\n",
      "|x|x| |o| |o| |\n",
      "|o|x| |x| |o| |\n",
      "|o|x|o|o|x|x|o|\n",
      "_______________\n",
      "| | | | | | | |\n",
      "| | | |o| | | |\n",
      "| |x| |x| | | |\n",
      "|x|x| |o| |o| |\n",
      "|o|x| |x| |o| |\n",
      "|o|x|o|o|x|x|o|\n",
      "_______________\n"
     ]
    }
   ],
   "source": [
    "monte = monte_agent('x', 100)\n",
    "random = random_agent('o')\n",
    "board = empty_board() \n",
    "show_board(board)\n",
    "winner = False\n",
    "while(len(actions(board)) != 0 and not winner):\n",
    "    board = monte.act(board)\n",
    "    board = random.act(board)\n",
    "    winner = utility(board, monte.character) is not None\n",
    "    show_board(board)"
   ]
  },
  {
   "cell_type": "code",
   "execution_count": 134,
   "metadata": {},
   "outputs": [],
   "source": [
    "def play_vs_monte(N=1000, monte_size=100,shape=(6,7), print_boards=False):\n",
    "    mini_char = 'o'\n",
    "    random_char = 'x'\n",
    "    mini_wins = 0\n",
    "    random_wins = 0\n",
    "    draws = 0\n",
    "    for i in range(0,N):\n",
    "        board = empty_board(shape=shape)\n",
    "        monte = monte_agent('x', monte_size)\n",
    "        rand_agent = random_agent('o')\n",
    "        winner = ' '\n",
    "        while winner == ' ':\n",
    "            board = monte.act(board)\n",
    "            if utility(board, monte.character) == 1:\n",
    "                winner = monte.character\n",
    "                mini_wins = mini_wins + 1\n",
    "            if winner == ' ':\n",
    "                board = rand_agent.act(board)\n",
    "            if utility(board, rand_agent.character) == 1:\n",
    "                winner = rand_agent.character\n",
    "                random_wins = random_wins + 1\n",
    "            if len(actions(board)) == 0:\n",
    "                winner = 'd'\n",
    "                draws = draws + 1\n",
    "        if print_boards:\n",
    "            show_board(board)\n",
    "        \n",
    "        #switch who goes first \n",
    "        board = empty_board(shape=shape)\n",
    "        monte = monte_agent('x', monte_size)\n",
    "        rand_agent = random_agent('o')\n",
    "        winner = ' '\n",
    "        while winner == ' ':\n",
    "            board = rand_agent.act(board)\n",
    "            if utility(board, rand_agent.character) == 1:\n",
    "                winner = rand_agent.character\n",
    "                random_wins = random_wins + 1\n",
    "            if winner == ' ':\n",
    "                board = monte.act(board)\n",
    "            if utility(board, monte.character) == 1:\n",
    "                winner = monte.character\n",
    "                mini_wins = mini_wins + 1\n",
    "            if len(actions(board)) == 0:\n",
    "                winner = 'd'\n",
    "                draws = draws + 1\n",
    "        if print_boards:\n",
    "            show_board(board)\n",
    "    return (mini_wins, random_wins, draws)"
   ]
  },
  {
   "cell_type": "code",
   "execution_count": 139,
   "metadata": {},
   "outputs": [
    {
     "name": "stdout",
     "output_type": "stream",
     "text": [
      "Wall time: 6min 5s\n"
     ]
    },
    {
     "data": {
      "text/plain": [
       "(100, 0, 0)"
      ]
     },
     "execution_count": 139,
     "metadata": {},
     "output_type": "execute_result"
    }
   ],
   "source": [
    "%%time\n",
    "play_vs_monte(N=50,monte_size=200)"
   ]
  },
  {
   "cell_type": "markdown",
   "metadata": {},
   "source": [
    "### Best First Move\n",
    "\n",
    "How would you determine what the best first move is? You can use Pure Monte Carlo Search or any algorithms \n",
    "that you have implemented above."
   ]
  },
  {
   "cell_type": "code",
   "execution_count": 17,
   "metadata": {},
   "outputs": [],
   "source": [
    "#Simple I would make the monte carlo search make the first move and give it time till the percentages don't seem to change.\n",
    "def pmcs_full_return(board, N = 100, player = 'x'):\n",
    "    \"\"\"Pure Monte Carlo Search. Returns the action that has the largest average utility.\n",
    "    The N playouts are evenly divided between the possible actions.\"\"\"\n",
    "    \n",
    "    avail_actions = actions(board)\n",
    "    n = math.floor(N/len(avail_actions))\n",
    "    #if DEBUG >= 1: print(f\"Actions: {avail_actions} ({n} playouts per actions)\")\n",
    "    \n",
    "    ps = { i:np.mean(playouts(board, i, player, N = n)) for i in avail_actions }\n",
    "    #if DEBUG >= 1: display(ps)\n",
    "        \n",
    "    action = max(ps, key=ps.get)\n",
    "    return ps\n",
    "\n",
    "board = empty_board()\n",
    "monte_size = 1000\n",
    "last_run = pmcs_full_return(board,monte_size,'x')\n",
    "last_run = last_run.values()\n",
    "last_run = np.array(list(last_run))\n",
    "cont = True\n",
    "runs = []"
   ]
  },
  {
   "cell_type": "code",
   "execution_count": 18,
   "metadata": {
    "scrolled": false
   },
   "outputs": [
    {
     "ename": "KeyboardInterrupt",
     "evalue": "",
     "output_type": "error",
     "traceback": [
      "\u001b[1;31m---------------------------------------------------------------------------\u001b[0m",
      "\u001b[1;31mKeyboardInterrupt\u001b[0m                         Traceback (most recent call last)",
      "\u001b[1;32m<timed exec>\u001b[0m in \u001b[0;36m<module>\u001b[1;34m\u001b[0m\n",
      "\u001b[1;32m<ipython-input-17-75d050365783>\u001b[0m in \u001b[0;36mpmcs_full_return\u001b[1;34m(board, N, player)\u001b[0m\n\u001b[0;32m      8\u001b[0m     \u001b[1;31m#if DEBUG >= 1: print(f\"Actions: {avail_actions} ({n} playouts per actions)\")\u001b[0m\u001b[1;33m\u001b[0m\u001b[1;33m\u001b[0m\u001b[1;33m\u001b[0m\u001b[0m\n\u001b[0;32m      9\u001b[0m \u001b[1;33m\u001b[0m\u001b[0m\n\u001b[1;32m---> 10\u001b[1;33m     \u001b[0mps\u001b[0m \u001b[1;33m=\u001b[0m \u001b[1;33m{\u001b[0m \u001b[0mi\u001b[0m\u001b[1;33m:\u001b[0m\u001b[0mnp\u001b[0m\u001b[1;33m.\u001b[0m\u001b[0mmean\u001b[0m\u001b[1;33m(\u001b[0m\u001b[0mplayouts\u001b[0m\u001b[1;33m(\u001b[0m\u001b[0mboard\u001b[0m\u001b[1;33m,\u001b[0m \u001b[0mi\u001b[0m\u001b[1;33m,\u001b[0m \u001b[0mplayer\u001b[0m\u001b[1;33m,\u001b[0m \u001b[0mN\u001b[0m \u001b[1;33m=\u001b[0m \u001b[0mn\u001b[0m\u001b[1;33m)\u001b[0m\u001b[1;33m)\u001b[0m \u001b[1;32mfor\u001b[0m \u001b[0mi\u001b[0m \u001b[1;32min\u001b[0m \u001b[0mavail_actions\u001b[0m \u001b[1;33m}\u001b[0m\u001b[1;33m\u001b[0m\u001b[1;33m\u001b[0m\u001b[0m\n\u001b[0m\u001b[0;32m     11\u001b[0m     \u001b[1;31m#if DEBUG >= 1: display(ps)\u001b[0m\u001b[1;33m\u001b[0m\u001b[1;33m\u001b[0m\u001b[1;33m\u001b[0m\u001b[0m\n\u001b[0;32m     12\u001b[0m \u001b[1;33m\u001b[0m\u001b[0m\n",
      "\u001b[1;32m<ipython-input-17-75d050365783>\u001b[0m in \u001b[0;36m<dictcomp>\u001b[1;34m(.0)\u001b[0m\n\u001b[0;32m      8\u001b[0m     \u001b[1;31m#if DEBUG >= 1: print(f\"Actions: {avail_actions} ({n} playouts per actions)\")\u001b[0m\u001b[1;33m\u001b[0m\u001b[1;33m\u001b[0m\u001b[1;33m\u001b[0m\u001b[0m\n\u001b[0;32m      9\u001b[0m \u001b[1;33m\u001b[0m\u001b[0m\n\u001b[1;32m---> 10\u001b[1;33m     \u001b[0mps\u001b[0m \u001b[1;33m=\u001b[0m \u001b[1;33m{\u001b[0m \u001b[0mi\u001b[0m\u001b[1;33m:\u001b[0m\u001b[0mnp\u001b[0m\u001b[1;33m.\u001b[0m\u001b[0mmean\u001b[0m\u001b[1;33m(\u001b[0m\u001b[0mplayouts\u001b[0m\u001b[1;33m(\u001b[0m\u001b[0mboard\u001b[0m\u001b[1;33m,\u001b[0m \u001b[0mi\u001b[0m\u001b[1;33m,\u001b[0m \u001b[0mplayer\u001b[0m\u001b[1;33m,\u001b[0m \u001b[0mN\u001b[0m \u001b[1;33m=\u001b[0m \u001b[0mn\u001b[0m\u001b[1;33m)\u001b[0m\u001b[1;33m)\u001b[0m \u001b[1;32mfor\u001b[0m \u001b[0mi\u001b[0m \u001b[1;32min\u001b[0m \u001b[0mavail_actions\u001b[0m \u001b[1;33m}\u001b[0m\u001b[1;33m\u001b[0m\u001b[1;33m\u001b[0m\u001b[0m\n\u001b[0m\u001b[0;32m     11\u001b[0m     \u001b[1;31m#if DEBUG >= 1: display(ps)\u001b[0m\u001b[1;33m\u001b[0m\u001b[1;33m\u001b[0m\u001b[1;33m\u001b[0m\u001b[0m\n\u001b[0;32m     12\u001b[0m \u001b[1;33m\u001b[0m\u001b[0m\n",
      "\u001b[1;32m<ipython-input-9-555cafd16102>\u001b[0m in \u001b[0;36mplayouts\u001b[1;34m(board, action, player, N)\u001b[0m\n\u001b[0;32m      1\u001b[0m \u001b[1;32mdef\u001b[0m \u001b[0mplayouts\u001b[0m\u001b[1;33m(\u001b[0m\u001b[0mboard\u001b[0m\u001b[1;33m,\u001b[0m \u001b[0maction\u001b[0m\u001b[1;33m,\u001b[0m \u001b[0mplayer\u001b[0m \u001b[1;33m=\u001b[0m \u001b[1;34m'x'\u001b[0m\u001b[1;33m,\u001b[0m \u001b[0mN\u001b[0m \u001b[1;33m=\u001b[0m \u001b[1;36m100\u001b[0m\u001b[1;33m)\u001b[0m\u001b[1;33m:\u001b[0m\u001b[1;33m\u001b[0m\u001b[1;33m\u001b[0m\u001b[0m\n\u001b[0;32m      2\u001b[0m     \u001b[1;34m\"\"\"Perform N playouts following the given action for the given board.\"\"\"\u001b[0m\u001b[1;33m\u001b[0m\u001b[1;33m\u001b[0m\u001b[0m\n\u001b[1;32m----> 3\u001b[1;33m     \u001b[1;32mreturn\u001b[0m \u001b[1;33m[\u001b[0m \u001b[0mplayout\u001b[0m\u001b[1;33m(\u001b[0m\u001b[0mboard\u001b[0m\u001b[1;33m,\u001b[0m \u001b[0maction\u001b[0m\u001b[1;33m,\u001b[0m \u001b[0mplayer\u001b[0m\u001b[1;33m)\u001b[0m \u001b[1;32mfor\u001b[0m \u001b[0mi\u001b[0m \u001b[1;32min\u001b[0m \u001b[0mrange\u001b[0m\u001b[1;33m(\u001b[0m\u001b[0mN\u001b[0m\u001b[1;33m)\u001b[0m \u001b[1;33m]\u001b[0m\u001b[1;33m\u001b[0m\u001b[1;33m\u001b[0m\u001b[0m\n\u001b[0m",
      "\u001b[1;32m<ipython-input-9-555cafd16102>\u001b[0m in \u001b[0;36m<listcomp>\u001b[1;34m(.0)\u001b[0m\n\u001b[0;32m      1\u001b[0m \u001b[1;32mdef\u001b[0m \u001b[0mplayouts\u001b[0m\u001b[1;33m(\u001b[0m\u001b[0mboard\u001b[0m\u001b[1;33m,\u001b[0m \u001b[0maction\u001b[0m\u001b[1;33m,\u001b[0m \u001b[0mplayer\u001b[0m \u001b[1;33m=\u001b[0m \u001b[1;34m'x'\u001b[0m\u001b[1;33m,\u001b[0m \u001b[0mN\u001b[0m \u001b[1;33m=\u001b[0m \u001b[1;36m100\u001b[0m\u001b[1;33m)\u001b[0m\u001b[1;33m:\u001b[0m\u001b[1;33m\u001b[0m\u001b[1;33m\u001b[0m\u001b[0m\n\u001b[0;32m      2\u001b[0m     \u001b[1;34m\"\"\"Perform N playouts following the given action for the given board.\"\"\"\u001b[0m\u001b[1;33m\u001b[0m\u001b[1;33m\u001b[0m\u001b[0m\n\u001b[1;32m----> 3\u001b[1;33m     \u001b[1;32mreturn\u001b[0m \u001b[1;33m[\u001b[0m \u001b[0mplayout\u001b[0m\u001b[1;33m(\u001b[0m\u001b[0mboard\u001b[0m\u001b[1;33m,\u001b[0m \u001b[0maction\u001b[0m\u001b[1;33m,\u001b[0m \u001b[0mplayer\u001b[0m\u001b[1;33m)\u001b[0m \u001b[1;32mfor\u001b[0m \u001b[0mi\u001b[0m \u001b[1;32min\u001b[0m \u001b[0mrange\u001b[0m\u001b[1;33m(\u001b[0m\u001b[0mN\u001b[0m\u001b[1;33m)\u001b[0m \u001b[1;33m]\u001b[0m\u001b[1;33m\u001b[0m\u001b[1;33m\u001b[0m\u001b[0m\n\u001b[0m",
      "\u001b[1;32m<ipython-input-8-d9e6bd9d57b8>\u001b[0m in \u001b[0;36mplayout\u001b[1;34m(state, action, player)\u001b[0m\n\u001b[0;32m      9\u001b[0m     \u001b[1;32mwhile\u001b[0m\u001b[1;33m(\u001b[0m\u001b[1;32mTrue\u001b[0m\u001b[1;33m)\u001b[0m\u001b[1;33m:\u001b[0m\u001b[1;33m\u001b[0m\u001b[1;33m\u001b[0m\u001b[0m\n\u001b[0;32m     10\u001b[0m         \u001b[1;31m# reached terminal state?\u001b[0m\u001b[1;33m\u001b[0m\u001b[1;33m\u001b[0m\u001b[1;33m\u001b[0m\u001b[0m\n\u001b[1;32m---> 11\u001b[1;33m         \u001b[0mu\u001b[0m \u001b[1;33m=\u001b[0m \u001b[0mutility\u001b[0m\u001b[1;33m(\u001b[0m\u001b[0mstate\u001b[0m\u001b[1;33m,\u001b[0m \u001b[0mplayer\u001b[0m\u001b[1;33m)\u001b[0m\u001b[1;33m\u001b[0m\u001b[1;33m\u001b[0m\u001b[0m\n\u001b[0m\u001b[0;32m     12\u001b[0m         \u001b[1;32mif\u001b[0m \u001b[0mu\u001b[0m \u001b[1;32mis\u001b[0m \u001b[1;32mnot\u001b[0m \u001b[1;32mNone\u001b[0m\u001b[1;33m:\u001b[0m \u001b[1;32mreturn\u001b[0m\u001b[1;33m(\u001b[0m\u001b[0mu\u001b[0m\u001b[1;33m)\u001b[0m\u001b[1;33m\u001b[0m\u001b[1;33m\u001b[0m\u001b[0m\n\u001b[0;32m     13\u001b[0m \u001b[1;33m\u001b[0m\u001b[0m\n",
      "\u001b[1;32m<ipython-input-3-86c419e95300>\u001b[0m in \u001b[0;36mutility\u001b[1;34m(board, player)\u001b[0m\n\u001b[0;32m     39\u001b[0m                 \u001b[1;32mreturn\u001b[0m \u001b[1;33m-\u001b[0m\u001b[1;36m1\u001b[0m\u001b[1;33m\u001b[0m\u001b[1;33m\u001b[0m\u001b[0m\n\u001b[0;32m     40\u001b[0m     \u001b[1;31m#check if there is a vertical winner\u001b[0m\u001b[1;33m\u001b[0m\u001b[1;33m\u001b[0m\u001b[1;33m\u001b[0m\u001b[0m\n\u001b[1;32m---> 41\u001b[1;33m     \u001b[0mvertical_board\u001b[0m \u001b[1;33m=\u001b[0m \u001b[0mboard\u001b[0m\u001b[1;33m.\u001b[0m\u001b[0mcopy\u001b[0m\u001b[1;33m(\u001b[0m\u001b[1;33m)\u001b[0m\u001b[1;33m\u001b[0m\u001b[1;33m\u001b[0m\u001b[0m\n\u001b[0m\u001b[0;32m     42\u001b[0m     \u001b[0mvertical_board\u001b[0m \u001b[1;33m=\u001b[0m \u001b[0mnp\u001b[0m\u001b[1;33m.\u001b[0m\u001b[0mrot90\u001b[0m\u001b[1;33m(\u001b[0m\u001b[0mvertical_board\u001b[0m\u001b[1;33m)\u001b[0m\u001b[1;33m\u001b[0m\u001b[1;33m\u001b[0m\u001b[0m\n\u001b[0;32m     43\u001b[0m     \u001b[1;32mfor\u001b[0m \u001b[0mrow\u001b[0m \u001b[1;32min\u001b[0m \u001b[0mvertical_board\u001b[0m\u001b[1;33m:\u001b[0m\u001b[1;33m\u001b[0m\u001b[1;33m\u001b[0m\u001b[0m\n",
      "\u001b[1;31mKeyboardInterrupt\u001b[0m: "
     ]
    }
   ],
   "source": [
    "%%time\n",
    "cont = True\n",
    "while cont:\n",
    "    current_run = pmcs_full_return(board,monte_size,'x')\n",
    "    current_run = current_run.values()\n",
    "    current_run = np.array(list(current_run))\n",
    "    norm_diff = np.linalg.norm(last_run - current_run)    \n",
    "    runs.append([monte_size,norm_diff])\n",
    "    if norm_diff < .01:\n",
    "        cont = False\n",
    "    last_run = current_run\n",
    "    monte_size *= 1.1\n",
    "    #print(monte_size, norm_diff)\n",
    "print(last_run)"
   ]
  },
  {
   "cell_type": "code",
   "execution_count": 19,
   "metadata": {},
   "outputs": [
    {
     "data": {
      "image/png": "[encoded data removed]",
      "text/plain": [
       "<Figure size 432x288 with 1 Axes>"
      ]
     },
     "metadata": {
      "needs_background": "light"
     },
     "output_type": "display_data"
    },
    {
     "data": {
      "text/plain": [
       "array([0.02155081, 0.08398479, 0.16173674, 0.28512571, 0.15244031,\n",
       "       0.07616734, 0.01827593])"
      ]
     },
     "execution_count": 19,
     "metadata": {},
     "output_type": "execute_result"
    }
   ],
   "source": [
    "import matplotlib.pyplot as plt\n",
    "x = [i[0] for i in runs]\n",
    "y = [i[1] for i in runs]\n",
    "y_bottom = [.01] * len(runs) \n",
    "plt.plot(x,y,x,y_bottom)\n",
    "plt.show()\n",
    "last_run"
   ]
  },
  {
   "cell_type": "code",
   "execution_count": 20,
   "metadata": {},
   "outputs": [
    {
     "data": {
      "text/plain": [
       "0.02296886647712697"
      ]
     },
     "execution_count": 20,
     "metadata": {},
     "output_type": "execute_result"
    }
   ],
   "source": [
    "min(y)"
   ]
  },
  {
   "cell_type": "code",
   "execution_count": 21,
   "metadata": {},
   "outputs": [
    {
     "data": {
      "text/plain": [
       "72890.48368510327"
      ]
     },
     "execution_count": 21,
     "metadata": {},
     "output_type": "execute_result"
    }
   ],
   "source": [
    "monte_size"
   ]
  },
  {
   "cell_type": "code",
   "execution_count": null,
   "metadata": {},
   "outputs": [],
   "source": []
  }
 ],
 "metadata": {
  "kernelspec": {
   "display_name": "Python 3",
   "language": "python",
   "name": "python3"
  },
  "language_info": {
   "codemirror_mode": {
    "name": "ipython",
    "version": 3
   },
   "file_extension": ".py",
   "mimetype": "text/x-python",
   "name": "python",
   "nbconvert_exporter": "python",
   "pygments_lexer": "ipython3",
   "version": "3.7.9"
  }
 },
 "nbformat": 4,
 "nbformat_minor": 4
}
