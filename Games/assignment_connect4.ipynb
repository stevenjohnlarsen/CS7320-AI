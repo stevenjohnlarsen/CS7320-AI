{
 "cells": [
  {
   "cell_type": "markdown",
   "metadata": {},
   "source": [
    "# Adversarial Search: Playing Connect 4\n",
    "\n",
    "\n",
    "## Instructions\n",
    "\n",
    "Total Points: Undegraduates 10, graduate students 11\n",
    "\n",
    "Complete this notebook and submit it. The notebook needs to be a complete project report with your implementation, documentation including a short discussion of how your implementation works and your design choices, and experimental results (e.g., tables and charts with simulation results) with a short discussion of what they mean. Use the provided notebook cells and insert additional code and markdown cells as needed.\n",
    "\n",
    "## Introduction\n",
    "\n",
    "You will implement different versions of agents that play Connect 4:\n",
    "\n",
    "> \"Connect 4 is a two-player connection board game, in which the players choose a color and then take turns dropping colored discs into a seven-column, six-row vertically suspended grid. The pieces fall straight down, occupying the lowest available space within the column. The objective of the game is to be the first to form a horizontal, vertical, or diagonal line of four of one's own discs.\" (see [Connect Four on Wikipedia](https://en.wikipedia.org/wiki/Connect_Four))"
   ]
  },
  {
   "cell_type": "markdown",
   "metadata": {},
   "source": [
    "## Task 1: Defining the Search Problem [1 point]\n",
    "\n",
    "Define the components of the search problem:\n",
    "\n",
    "* Initial state\n",
    "* Actions\n",
    "* Transition model\n",
    "* Goal state"
   ]
  },
  {
   "cell_type": "markdown",
   "metadata": {},
   "source": [
    "\n",
    "* Initial state\n",
    " * Empty board and it is marked as someones turn.\n",
    "* Actions\n",
    " * Either player can play in either column, as long as there isn't 6 pieces in that column.\n",
    "* Transition model\n",
    " * Given a state and an action, the next state is the same board with one more piece on the lowest availble space of the chosen action.\n",
    "* Goal state\n",
    " * Goal States for both players is all states with 4 or more in a diagonal ."
   ]
  },
  {
   "cell_type": "markdown",
   "metadata": {},
   "source": [
    "How big is the search space?"
   ]
  },
  {
   "cell_type": "code",
   "execution_count": 40,
   "metadata": {},
   "outputs": [],
   "source": [
    "# Your code/ answer goes here."
   ]
  },
  {
   "cell_type": "markdown",
   "metadata": {},
   "source": [
    "__Note:__ The search space for a $6 \\times 7$ board is large. You can experiment with smaller boards (the smallest is $4 times \\4$) and/or changing the winning rule to connect 3 instead of 4."
   ]
  },
  {
   "cell_type": "markdown",
   "metadata": {},
   "source": [
    "## Task 2: Game Environment and Random Agent [2 point]\n",
    "\n",
    "Use a numpy character array as the board."
   ]
  },
  {
   "cell_type": "code",
   "execution_count": 41,
   "metadata": {},
   "outputs": [
    {
     "name": "stdout",
     "output_type": "stream",
     "text": [
      "[[' ' ' ' ' ' ' ' ' ' ' ' ' ']\n",
      " [' ' ' ' ' ' ' ' ' ' ' ' ' ']\n",
      " [' ' ' ' ' ' ' ' ' ' ' ' ' ']\n",
      " [' ' ' ' ' ' ' ' ' ' ' ' ' ']\n",
      " [' ' ' ' ' ' ' ' ' ' ' ' ' ']\n",
      " [' ' ' ' ' ' ' ' ' ' ' ' ' ']]\n"
     ]
    }
   ],
   "source": [
    "import numpy as np\n",
    "\n",
    "def empty_board(shape=(6, 7)):\n",
    "    return np.full(shape=shape, fill_value=' ')\n",
    "\n",
    "print(empty_board())"
   ]
  },
  {
   "cell_type": "markdown",
   "metadata": {},
   "source": [
    "Instead of colors for the players use 'x' and 'o' to represent the players. Make sure that your agent functions all have the from: `agent_type(board, player = 'x')`, where board is the current board position and player is the player whose next move it is and who the agent should play."
   ]
  },
  {
   "cell_type": "markdown",
   "metadata": {},
   "source": [
    "Implement the board and helper functions for:\n",
    "\n",
    "* The transition model (result).\n",
    "* The utility function.\n",
    "* Check for terminal states.\n",
    "* A check for available actions.\n",
    "* A function to visualize the board.\n",
    "\n",
    "Make sure that all these functions work with boards of different sizes.\n",
    "\n",
    "Implement an agent that plays randomly and let two random agents play against each other 1000 times. How often does each player win? Is the result expected? "
   ]
  },
  {
   "cell_type": "code",
   "execution_count": 42,
   "metadata": {},
   "outputs": [],
   "source": [
    "def move(board, player, move):\n",
    "    new_board = board.copy()\n",
    "    for row in reversed(new_board):\n",
    "        if row[move] == ' ':\n",
    "            row[move] = player\n",
    "            return new_board\n",
    "    return 0\n",
    "\n",
    "def if_winner(board, player):\n",
    "    #check if there is a horizonatal winner\n",
    "    for row in board:\n",
    "        for x in range(0, len(row) - 3):\n",
    "            if row[x] == player and row[x + 1] == player and row[x + 2] == player and row[x + 3] == player:\n",
    "                return True\n",
    "    #check if there is a vertical winner\n",
    "    vertical_board = board.copy()\n",
    "    vertical_board = np.rot90(vertical_board)\n",
    "    for row in vertical_board:\n",
    "        for x in range(0, len(row) - 3):\n",
    "            if row[x] == player and row[x + 1] == player and row[x + 2] == player and row[x + 3] == player:\n",
    "                return True\n",
    "    rows = len(board)\n",
    "    columns = len(board[0])\n",
    "    #check right diagonal\n",
    "    for x in range(0,rows - 3):\n",
    "        for y in range(0,rows - 3):\n",
    "            if (board[x][y] == player and board[x + 1][y + 1] == player and \n",
    "                board[x + 2][y + 2] == player and board[x + 3][y + 3] == player):\n",
    "                return True\n",
    "    \n",
    "    #check left diagonal\n",
    "    for x in range(3,rows):\n",
    "        for y in range(0,rows - 3):\n",
    "            if (board[x][y] == player and board[x - 1][y + 1] == player and \n",
    "                board[x - 2][y + 2] == player and board[x - 3][y + 3] == player):\n",
    "                return True\n",
    "    return False\n",
    "\n",
    "def available_move(board):\n",
    "    options = []\n",
    "    for i in range(0,len(board[0])):\n",
    "        if board[0][i] == ' ':\n",
    "            options.append(i)\n",
    "    return options\n",
    "\n"
   ]
  },
  {
   "cell_type": "markdown",
   "metadata": {},
   "source": [
    "### Utility Function 1\n",
    "\n",
    "Player Score.\n",
    "* Any streak of 1 = 1 point\n",
    "* Any streak of 2 = 2 point\n",
    "* Any streak of 3 = 6 point\n",
    "\n",
    "The function returns target players score minus the opponents score"
   ]
  },
  {
   "cell_type": "code",
   "execution_count": 100,
   "metadata": {},
   "outputs": [],
   "source": [
    "import sys\n",
    "\n",
    "def unitility_function_1(board, player, move_int):\n",
    "    #check if there is a horizonatal winner\n",
    "    board = move(board=board,player=player,move=move_int)\n",
    "    num_ones_total = 0\n",
    "    num_twos_total = 0\n",
    "    num_threes_total = 0\n",
    "    num_fours_total = 0\n",
    "    for row in board:\n",
    "        num_ones, num_twos, num_threes,num_fours = score_array(row, player)\n",
    "        num_ones_total += num_ones\n",
    "        num_twos_total += num_twos\n",
    "        num_threes_total += num_threes\n",
    "        num_fours_total += num_fours\n",
    "        \n",
    "    #check if there is a vertical winner\n",
    "    vertical_board = board.copy()\n",
    "    vertical_board = np.rot90(vertical_board)\n",
    "    for row in vertical_board:\n",
    "        num_ones, num_twos, num_threes,num_fours = score_array(row, player)\n",
    "        num_twos_total += num_twos\n",
    "        num_threes_total += num_threes\n",
    "        num_fours_total += num_fours\n",
    "    for i in diagonal_rows(board):\n",
    "        num_ones, num_twos, num_threes,num_fours = score_array(i, player)\n",
    "        num_twos_total += num_twos\n",
    "        num_threes_total += num_threes\n",
    "        num_fours_total += num_fours\n",
    "    print(num_ones_total,num_twos_total,num_threes_total)\n",
    "    if num_fours_total > 0:\n",
    "        return 2**32\n",
    "    return num_ones_total + num_twos_total*2 + num_threes_total*6\n",
    "def diagonal_rows(arr):\n",
    "    rows = []\n",
    "    num_rows = len(arr)\n",
    "    num_cols = len(arr[0])\n",
    "    arr = np.asarray(arr)\n",
    "    arr2 = arr.copy()\n",
    "    arr2 = np.rot90(arr2)\n",
    "    arr2 = np.rot90(arr2)\n",
    "    for i in range((-1)*num_cols*num_rows, num_cols,num_rows):\n",
    "        possible_arr = np.diagonal(arr,i,axis1=0,axis2=1)\n",
    "        if len(possible_arr) != 0:\n",
    "            rows.append(possible_arr)\n",
    "        possible_arr = np.diagonal(arr2,i,axis1=0,axis2=1)\n",
    "        if len(possible_arr) != 0:\n",
    "            rows.append(possible_arr)\n",
    "    return rows\n",
    "def score_array(array, player):\n",
    "    arr = array.copy()\n",
    "    np.insert(arr,obj=0,values=['*'])\n",
    "    np.insert(arr,obj=len(arr),values=['*'])\n",
    "    num_ones = 0\n",
    "    num_twos = 0\n",
    "    num_threes = 0\n",
    "    num_fours = 0\n",
    "    current_run = 0\n",
    "    for c in arr:\n",
    "        if c == player:\n",
    "            current_run += 1\n",
    "        else: \n",
    "            if current_run == 1:\n",
    "                num_ones += 1\n",
    "            elif current_run == 2:\n",
    "                num_twos += 1\n",
    "            elif current_run == 3:\n",
    "                num_threes +=1\n",
    "            elif current_run >= 4:\n",
    "                num_fours = 1\n",
    "            current_run = 0\n",
    "    return (num_ones,num_twos,num_threes,num_fours)\n"
   ]
  },
  {
   "cell_type": "code",
   "execution_count": 101,
   "metadata": {},
   "outputs": [],
   "source": [
    "import random\n",
    "class random_agent:\n",
    "    def __init__(self,character):\n",
    "        self.character = character\n",
    "    \n",
    "    def act(self, board):\n",
    "        moves = available_move(board)\n",
    "        move_int = random.choice(moves)\n",
    "        return move(board, self.character,move_int)"
   ]
  },
  {
   "cell_type": "code",
   "execution_count": 107,
   "metadata": {},
   "outputs": [
    {
     "name": "stdout",
     "output_type": "stream",
     "text": [
      "[[' ' ' ' ' ' ' ' ' ' ' ']\n",
      " [' ' ' ' ' ' ' ' ' ' ' ']\n",
      " [' ' ' ' ' ' ' ' ' ' ' ']\n",
      " ['x' ' ' ' ' ' ' ' ' ' ']\n",
      " ['x' ' ' 'x' 'x' ' ' ' ']\n",
      " ['x' ' ' 'x' 'x' ' ' ' ']\n",
      " ['x' ' ' 'x' 'x' ' ' ' ']]\n",
      "5 3 0\n",
      "11\n"
     ]
    }
   ],
   "source": [
    "#Test the utility function \n",
    "arr = ['x','x','o',' ',' ','x']\n",
    "score_array(arr, 'x')\n",
    "board = empty_board()\n",
    "agent1 = random_agent('x')\n",
    "board = np.rot90(board)\n",
    "for i in range(10):\n",
    "    board = agent1.act(board)\n",
    "    \n",
    "print(board)\n",
    "print(unitility_function_1(board,'x',0))"
   ]
  },
  {
   "cell_type": "code",
   "execution_count": 105,
   "metadata": {},
   "outputs": [
    {
     "name": "stdout",
     "output_type": "stream",
     "text": [
      "[[ 1  2  3  4]\n",
      " [ 5  6  8  9]\n",
      " [10 11 12 13]]\n",
      "[]\n",
      "[13  8  2]\n"
     ]
    }
   ],
   "source": [
    "arr = [[1,2,3,4],[5,6,8,9],[10,11,12,13]]\n",
    "arr = np.asarray(arr)\n",
    "arr2 = arr.copy()\n",
    "arr2 = np.rot90(arr2)\n",
    "arr2 = np.rot90(arr2)\n",
    "\n",
    "print(arr)\n",
    "print(np.diagonal(arr,-1111,axis1=0,axis2=1))\n",
    "print(np.diagonal(arr2,0,axis1=1,axis2=0))"
   ]
  },
  {
   "cell_type": "code",
   "execution_count": 246,
   "metadata": {},
   "outputs": [],
   "source": [
    "def run_randoms(n,shape=(6,7),print_boards=False):\n",
    "    x_wins = 0\n",
    "    o_wins = 0\n",
    "    draws = 0\n",
    "    for i in range(0,n):\n",
    "        board = empty_board(shape=shape)\n",
    "        agent1 = random_agent('x')\n",
    "        agent2 = random_agent('o')\n",
    "        winner = ' '\n",
    "        while winner == ' ':\n",
    "            board = agent1.act(board)\n",
    "            if if_winner(board, agent1.character):\n",
    "                winner = agent1.character\n",
    "                x_wins = x_wins + 1\n",
    "            if winner == ' ':\n",
    "                board = agent2.act(board)\n",
    "            if if_winner(board, agent2.character):\n",
    "                winner = agent2.character\n",
    "                o_wins = o_wins + 1\n",
    "            if len(available_move(board)) == 0:\n",
    "                winner = 'd'\n",
    "                draws = draws + 1\n",
    "        if print_boards:\n",
    "            print(board)\n",
    "    return (x_wins, o_wins, draws)"
   ]
  },
  {
   "cell_type": "code",
   "execution_count": 250,
   "metadata": {},
   "outputs": [
    {
     "data": {
      "text/plain": [
       "(5620, 4344, 51)"
      ]
     },
     "execution_count": 250,
     "metadata": {},
     "output_type": "execute_result"
    }
   ],
   "source": [
    "run_randoms(10000)"
   ]
  },
  {
   "cell_type": "markdown",
   "metadata": {},
   "source": [
    "\n",
    "## Task 3: Minimax Search with Alpha-Beta Pruning [4 points]\n",
    "\n",
    "### Implement the search starting from a given board and specifying the player."
   ]
  },
  {
   "cell_type": "code",
   "execution_count": 29,
   "metadata": {},
   "outputs": [],
   "source": [
    "# Your code/ answer goes here."
   ]
  },
  {
   "cell_type": "markdown",
   "metadata": {},
   "source": [
    "Experiment with some manually created boards (at least 5) to check if the agent spots wining opportunities."
   ]
  },
  {
   "cell_type": "code",
   "execution_count": 6,
   "metadata": {},
   "outputs": [],
   "source": [
    "# Your code/ answer goes here."
   ]
  },
  {
   "cell_type": "markdown",
   "metadata": {},
   "source": [
    "How long does it take to make a move? Start with a smaller board with 4 columns and make the board larger by adding columns."
   ]
  },
  {
   "cell_type": "code",
   "execution_count": 7,
   "metadata": {},
   "outputs": [],
   "source": [
    "# your code/ answer goes here."
   ]
  },
  {
   "cell_type": "markdown",
   "metadata": {},
   "source": [
    "### Move ordering\n",
    "\n",
    "Describe and implement a simple move ordering strategy. How does this strategy influence the time it takes to \n",
    "make a move?"
   ]
  },
  {
   "cell_type": "code",
   "execution_count": 8,
   "metadata": {},
   "outputs": [],
   "source": [
    "# Your code/ answer goes here."
   ]
  },
  {
   "cell_type": "markdown",
   "metadata": {},
   "source": [
    "### Playtime\n",
    "\n",
    "Let the Minimax Search agent play a random agent on a small board. Analyze wins, losses and draws."
   ]
  },
  {
   "cell_type": "code",
   "execution_count": 9,
   "metadata": {},
   "outputs": [],
   "source": [
    "# Your code/ answer goes here."
   ]
  },
  {
   "cell_type": "markdown",
   "metadata": {},
   "source": [
    "## Task 4: Heuristic Alpha-Beta Tree Search [3 points] \n",
    "\n",
    "### Heuristic evaluation function\n",
    "\n",
    "Define and implement a heuristic evaluation function."
   ]
  },
  {
   "cell_type": "code",
   "execution_count": 10,
   "metadata": {},
   "outputs": [],
   "source": [
    "# Your code/ answer goes here."
   ]
  },
  {
   "cell_type": "markdown",
   "metadata": {},
   "source": [
    "### Cutting off search \n",
    "\n",
    "Modify your Minimax Search with Alpha-Beta Pruning to cut off search at a specified depth and use the heuristic evaluation function. Experiment with different cutoff values."
   ]
  },
  {
   "cell_type": "code",
   "execution_count": 11,
   "metadata": {},
   "outputs": [],
   "source": [
    "# Your code/ answer goes here."
   ]
  },
  {
   "cell_type": "markdown",
   "metadata": {},
   "source": [
    "Experiment with the same manually created boards as above to check if the agent spots wining opportunities."
   ]
  },
  {
   "cell_type": "code",
   "execution_count": 12,
   "metadata": {},
   "outputs": [],
   "source": [
    "# Your code/ answer goes here."
   ]
  },
  {
   "cell_type": "markdown",
   "metadata": {},
   "source": [
    "How long does it take to make a move? Start with a smaller board with 4 columns and make the board larger by adding columns."
   ]
  },
  {
   "cell_type": "code",
   "execution_count": 13,
   "metadata": {},
   "outputs": [],
   "source": [
    "# Your code/ answer goes here."
   ]
  },
  {
   "cell_type": "markdown",
   "metadata": {},
   "source": [
    "### Forward Pruning\n",
    "\n",
    "Add forward pruning to the cutoff search where you do not consider moves that have a low evaluation value after a shallow search \n",
    "(way smaller than the cuttoff value)."
   ]
  },
  {
   "cell_type": "code",
   "execution_count": 14,
   "metadata": {},
   "outputs": [],
   "source": [
    "# Your code/ answer goes here."
   ]
  },
  {
   "cell_type": "markdown",
   "metadata": {},
   "source": [
    "How long does it take to make a move? Start with a smaller board with 4 columns and make the board larger by adding columns."
   ]
  },
  {
   "cell_type": "code",
   "execution_count": 15,
   "metadata": {},
   "outputs": [],
   "source": [
    "# Your code/ answer goes here."
   ]
  },
  {
   "cell_type": "markdown",
   "metadata": {},
   "source": [
    "### Playtime\n",
    "\n",
    "Let two heuristic search agents (different cutoff depth, different heuristic evaluation function or different forward pruning) compete against each other on a reasonably sized board. Since there is no randomness, you only need to let them play once."
   ]
  },
  {
   "cell_type": "code",
   "execution_count": 16,
   "metadata": {},
   "outputs": [],
   "source": [
    "# Your code/ answer goes here."
   ]
  },
  {
   "cell_type": "markdown",
   "metadata": {},
   "source": [
    "## Challenge task [+ 1 bonus point]\n",
    "\n",
    "Find another student and let your best agent play against the other student's best player. We will set up a class tournament on Canvas. This tournament will continue after the submission deadline."
   ]
  },
  {
   "cell_type": "markdown",
   "metadata": {},
   "source": [
    "## Graduate student advanced task: Pure Monte Carlo Search and Best First Move [1 point]\n",
    "\n",
    "__Undergraduate students:__ This is a bonus task you can attempt if you like [+1 Bonus point].\n",
    "\n",
    "### Pure Monte Carlos Search\n",
    "\n",
    "Implement Pure Monte Carlo Search and investigate how this search performs on the test boards that you have used above. "
   ]
  },
  {
   "cell_type": "code",
   "execution_count": 17,
   "metadata": {},
   "outputs": [],
   "source": [
    "# Your code/ answer goes here."
   ]
  },
  {
   "cell_type": "markdown",
   "metadata": {},
   "source": [
    "### Best First Move\n",
    "\n",
    "How would you determine what the best first move is? You can use Pure Monte Carlo Search or any algorithms \n",
    "that you have implemented above."
   ]
  },
  {
   "cell_type": "code",
   "execution_count": 18,
   "metadata": {},
   "outputs": [],
   "source": [
    "# Your code/ answer goes here."
   ]
  }
 ],
 "metadata": {
  "kernelspec": {
   "display_name": "Python 3",
   "language": "python",
   "name": "python3"
  },
  "language_info": {
   "codemirror_mode": {
    "name": "ipython",
    "version": 3
   },
   "file_extension": ".py",
   "mimetype": "text/x-python",
   "name": "python",
   "nbconvert_exporter": "python",
   "pygments_lexer": "ipython3",
   "version": "3.8.5"
  }
 },
 "nbformat": 4,
 "nbformat_minor": 4
}
