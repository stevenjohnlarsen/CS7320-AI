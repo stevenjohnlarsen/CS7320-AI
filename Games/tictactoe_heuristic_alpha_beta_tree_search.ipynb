{
 "cells": [
  {
   "cell_type": "markdown",
   "metadata": {},
   "source": [
    "# Adversarial Search: Solving Tic-Tac-Toe with Heuristic Alpha-Beta Tree Search"
   ]
  },
  {
   "cell_type": "markdown",
   "metadata": {},
   "source": [
    "## Introduction \n",
    "\n",
    "Multiplayer games can be implemented as:\n",
    "1. Nondeterministic actions: The opponent is seen as part of an environment with nondeterministic actions. Non-determinism is the result of the unknown opponent's moves. \n",
    "2. Optimal Decisions: Minimax search (search complete game tree) and alpha-beta pruning.\n",
    "3. __Heuristic Alpha-Beta Tree Search:__ Cut off tree search and use heuristic to estimate state value. \n",
    "4. Monte Carlo Tree search: Simulate playouts to estimate state value. \n",
    "\n",
    "Here we will implement search for Tic-Tac-Toe (see [rules](https://en.wikipedia.org/wiki/Tic-tac-toe)). The game is a __zero-sum game__: Win by x results in +1, win by o in -1 and a tie has a value of 0. Max plays x and tries to maximize the outcome while Min plays o and tries to minimize the outcome.   \n",
    "\n",
    "We will implement\n",
    "* Heuristic Alpha-Beta Tree Search\n",
    "\n",
    "The algorithms search the game tree and we could return a conditional plan (or partial plan if cut offs are used), but the implementation here only identifies and returns the optimal next move."
   ]
  },
  {
   "cell_type": "markdown",
   "metadata": {},
   "source": [
    "## State Space and Search Tree Size\n",
    "\n",
    "Each state is a possible board. Each of the 9 squares can have 3 values (empty, x and o), but some boards are impossible (where a player has several sequences of 3).The number of states in the state space graph is less than:"
   ]
  },
  {
   "cell_type": "code",
   "execution_count": 1,
   "metadata": {},
   "outputs": [
    {
     "data": {
      "text/plain": [
       "19683"
      ]
     },
     "execution_count": 1,
     "metadata": {},
     "output_type": "execute_result"
    }
   ],
   "source": [
    "3**9"
   ]
  },
  {
   "cell_type": "markdown",
   "metadata": {},
   "source": [
    "A search tree (called game tree) can be superimposed on the state space graph. Note that a state can be in several branches of the tree resulting in more notes. \n",
    "\n",
    "* The complete search tree has a maximal depth $m=9$.\n",
    "* The max branching factor $b=9$ (for first move).\n",
    "\n",
    "DFS has a time complecity of $O(b^m)$ and a space complexity of $O(bm)$."
   ]
  },
  {
   "cell_type": "code",
   "execution_count": 2,
   "metadata": {},
   "outputs": [
    {
     "data": {
      "text/plain": [
       "387420489"
      ]
     },
     "execution_count": 2,
     "metadata": {},
     "output_type": "execute_result"
    }
   ],
   "source": [
    "9**9"
   ]
  },
  {
   "cell_type": "markdown",
   "metadata": {},
   "source": [
    "The search tree has $9 \\times 8 \\times \\dots \\times 2 \\times 1$ many nodes."
   ]
  },
  {
   "cell_type": "code",
   "execution_count": 3,
   "metadata": {},
   "outputs": [
    {
     "data": {
      "text/plain": [
       "362880"
      ]
     },
     "execution_count": 3,
     "metadata": {},
     "output_type": "execute_result"
    }
   ],
   "source": [
    "import math\n",
    "\n",
    "math.factorial(9)"
   ]
  },
  {
   "cell_type": "markdown",
   "metadata": {},
   "source": [
    "It is actually less nodes, since one player might win before the board is full.\n",
    "\n",
    "__Note:__ This size makes this a very small problem that can be easily solved by searching the complete game tree. Most games and real problems are to large and can only be."
   ]
  },
  {
   "cell_type": "markdown",
   "metadata": {},
   "source": [
    "## The board\n",
    "\n",
    "I represent the board as a vector of length 9. The values are `' ', 'x', 'o'`.  "
   ]
  },
  {
   "cell_type": "code",
   "execution_count": 5,
   "metadata": {},
   "outputs": [],
   "source": [
    "import numpy as np\n",
    "import math"
   ]
  },
  {
   "cell_type": "code",
   "execution_count": 6,
   "metadata": {},
   "outputs": [
    {
     "data": {
      "text/plain": [
       "[' ', ' ', ' ', ' ', ' ', ' ', ' ', ' ', ' ']"
      ]
     },
     "metadata": {},
     "output_type": "display_data"
    }
   ],
   "source": [
    "def empty_board():\n",
    "    return [' '] * 9\n",
    "\n",
    "board = empty_board()\n",
    "display(board)"
   ]
  },
  {
   "cell_type": "markdown",
   "metadata": {},
   "source": [
    "Some helper functions."
   ]
  },
  {
   "cell_type": "code",
   "execution_count": 7,
   "metadata": {},
   "outputs": [
    {
     "name": "stdout",
     "output_type": "stream",
     "text": [
      "[[' ' ' ' ' ']\n",
      " [' ' ' ' ' ']\n",
      " [' ' ' ' ' ']]\n",
      "\n",
      "Add some x's\n",
      "[['x' ' ' ' ']\n",
      " ['x' ' ' ' ']\n",
      " ['x' ' ' ' ']]\n"
     ]
    }
   ],
   "source": [
    "def show_board(board):\n",
    "    \"\"\"display the board\"\"\"\n",
    "    b = np.array(board).reshape((3,3))\n",
    "    print(b)\n",
    "\n",
    "board = empty_board()\n",
    "show_board(board)    \n",
    "\n",
    "print()\n",
    "print(\"Add some x's\")\n",
    "board[0] = 'x'; board[3] = 'x'; board[6] = 'x';  \n",
    "show_board(board)"
   ]
  },
  {
   "cell_type": "code",
   "execution_count": 8,
   "metadata": {},
   "outputs": [
    {
     "name": "stdout",
     "output_type": "stream",
     "text": [
      "[['x' ' ' ' ']\n",
      " ['x' ' ' ' ']\n",
      " ['x' ' ' ' ']]\n",
      "Win? x\n",
      "\n",
      "[[' ' ' ' ' ']\n",
      " [' ' ' ' ' ']\n",
      " [' ' ' ' ' ']]\n",
      "Win? n\n"
     ]
    }
   ],
   "source": [
    "def check_win(board):\n",
    "    \"\"\"check the board and return one of x, o, d (draw), or n (for next move)\"\"\"\n",
    "    \n",
    "    board = np.array(board).reshape((3,3))\n",
    "    \n",
    "    diagonals = np.array([[board[i][i] for i in range(len(board))], \n",
    "                          [board[i][len(board)-i-1] for i in range(len(board))]])\n",
    "    \n",
    "    for a_board in [board, np.transpose(board), diagonals]:\n",
    "        for row in a_board:\n",
    "            if len(set(row)) == 1 and row[0] != ' ':\n",
    "                return row[0]\n",
    "    \n",
    "    # check for draw\n",
    "    if(np.sum(board == ' ') < 1):\n",
    "        return 'd'\n",
    "    \n",
    "    return 'n'\n",
    "\n",
    "show_board(board)\n",
    "print('Win? ' + check_win(board))\n",
    "\n",
    "print()\n",
    "show_board(empty_board())\n",
    "print('Win? ' + check_win(empty_board()))"
   ]
  },
  {
   "cell_type": "code",
   "execution_count": 9,
   "metadata": {},
   "outputs": [
    {
     "name": "stdout",
     "output_type": "stream",
     "text": [
      "[['x' ' ' ' ']\n",
      " ['x' ' ' ' ']\n",
      " ['x' ' ' ' ']]\n"
     ]
    },
    {
     "data": {
      "text/plain": [
       "[1, 2, 4, 5, 7, 8]"
      ]
     },
     "execution_count": 9,
     "metadata": {},
     "output_type": "execute_result"
    }
   ],
   "source": [
    "def get_actions(board):\n",
    "    \"\"\"return possible actions as a vector ot indices\"\"\"\n",
    "    return np.where(np.array(board) == ' ')[0].tolist()\n",
    "\n",
    "    # randomize the action order\n",
    "    #actions = np.where(np.array(board) == ' ')[0]\n",
    "    #np.random.shuffle(actions)\n",
    "    #return actions.tolist()\n",
    "\n",
    "\n",
    "show_board(board)\n",
    "get_actions(board)"
   ]
  },
  {
   "cell_type": "code",
   "execution_count": 10,
   "metadata": {},
   "outputs": [],
   "source": [
    "def other(player): \n",
    "    if player == 'x': return 'o'\n",
    "    else: return 'x'"
   ]
  },
  {
   "cell_type": "markdown",
   "metadata": {},
   "source": [
    "# Heuristic Alpha-Beta Tree Search\n",
    "\n",
    "See AIMA page 156ff. \n"
   ]
  },
  {
   "cell_type": "code",
   "execution_count": 11,
   "metadata": {},
   "outputs": [
    {
     "name": "stdout",
     "output_type": "stream",
     "text": [
      "[[' ' ' ' ' ']\n",
      " [' ' ' ' ' ']\n",
      " [' ' ' ' ' ']]\n",
      "\n",
      "State for placing an x at position 4:\n",
      "[[' ' ' ' ' ']\n",
      " [' ' 'x' ' ']\n",
      " [' ' ' ' ' ']]\n"
     ]
    }
   ],
   "source": [
    "def result(state, player, action):\n",
    "    \"\"\"Add move to the board.\"\"\"\n",
    "    \n",
    "    state = state.copy()\n",
    "    state[action] = player\n",
    "  \n",
    "    return state\n",
    "\n",
    "show_board(empty_board())\n",
    "\n",
    "print()\n",
    "print(\"State for placing an x at position 4:\")\n",
    "show_board(result(empty_board(), 'x', 4))"
   ]
  },
  {
   "cell_type": "markdown",
   "metadata": {},
   "source": [
    "Return utility for a state. Terminal states return the utility for Max as `+1`, -`1` or `0`. Non-terminal state have no utility and return `None`. Note that I use `utility is not None` to identify terminal states. That is, I use for `is_terminal(s)`."
   ]
  },
  {
   "cell_type": "code",
   "execution_count": 12,
   "metadata": {},
   "outputs": [
    {
     "name": "stdout",
     "output_type": "stream",
     "text": [
      "1\n",
      "-1\n",
      "None\n"
     ]
    }
   ],
   "source": [
    "def utility(state, player = 'x'):\n",
    "    \"\"\"check is a state is terminal and return the utility if it is. None means not a terminal mode.\"\"\"\n",
    "    goal = check_win(state)        \n",
    "    if goal == player: return +1 \n",
    "    if goal == 'd': return 0  \n",
    "    if goal == other(player): return -1  # loss is failure\n",
    "    return None # continue\n",
    "\n",
    "print(utility(['x'] * 9))\n",
    "print(utility(['o'] * 9))\n",
    "print(utility(empty_board()))"
   ]
  },
  {
   "cell_type": "code",
   "execution_count": 13,
   "metadata": {},
   "outputs": [
    {
     "name": "stdout",
     "output_type": "stream",
     "text": [
      "[[' ' ' ' ' ']\n",
      " [' ' ' ' ' ']\n",
      " [' ' ' ' ' ']]\n",
      "eval for x: (0, False)\n",
      "eval for o: (0, False)\n",
      "[['x' 'x' 'x']\n",
      " [' ' ' ' ' ']\n",
      " [' ' ' ' ' ']]\n",
      "eval for x: (10, True)\n",
      "eval for o: (-10, True)\n",
      "[['x' 'x' ' ']\n",
      " ['x' 'o' ' ']\n",
      " [' ' ' ' 'o']]\n",
      "eval for x: (2, False)\n",
      "eval for o: (-2, False)\n",
      "[['x' 'o' ' ']\n",
      " ['x' 'o' ' ']\n",
      " [' ' ' ' ' ']]\n",
      "eval for x: (0, False)\n",
      "eval for o: (0, False)\n"
     ]
    }
   ],
   "source": [
    "def eval_fun(state, player = 'x'):\n",
    "    \"\"\"heuristic for utiliy of state. Returns score and if it is a terminal state.\n",
    "    1. For terminal states it is the utility. \n",
    "    2. For non-terminal state it uses a weighted linear function using features of the state. \n",
    "    The features we look at are 2 in a row/col/diagonal where the 3rd square is empty.\n",
    "    We also scale wins and losses to 10, -10 to make sure the heuristic value stays in that range.\"\"\"\n",
    "    \n",
    "    # terminal state?\n",
    "    u = utility(state, player)\n",
    "    if u is not None: return u * 10, True\n",
    "    \n",
    "    \n",
    "    score = 0\n",
    "    board = np.array(state).reshape((3,3))\n",
    "    diagonals = np.array([[board[i][i] for i in range(len(board))], \n",
    "                          [board[i][len(board)-i-1] for i in range(len(board))]])\n",
    "    \n",
    "    for a_board in [board, np.transpose(board), diagonals]:\n",
    "        for row in a_board:\n",
    "            if sum(row == player) == 2 and any(row ==' '): score += 1\n",
    "            if sum(row == other(player)) == 2 and any(row ==' '): score -= 1\n",
    "    \n",
    "    return score, False\n",
    "\n",
    "board = empty_board() \n",
    "show_board(board)\n",
    "print(f\"eval for x: {eval_fun(board)}\")\n",
    "print(f\"eval for o: {eval_fun(board, 'o')}\")\n",
    "\n",
    "board = empty_board() \n",
    "board[0] = 'x'\n",
    "board[1] = 'x'\n",
    "board[2] = 'x' \n",
    "show_board(board)\n",
    "print(f\"eval for x: {eval_fun(board)}\")\n",
    "print(f\"eval for o: {eval_fun(board, 'o')}\")\n",
    "\n",
    "board = empty_board() \n",
    "board[0] = 'x'\n",
    "board[1] = 'x'\n",
    "board[3] = 'x' \n",
    "board[4] = 'o'\n",
    "board[8] = 'o'\n",
    "show_board(board)\n",
    "print(f\"eval for x: {eval_fun(board)}\")\n",
    "print(f\"eval for o: {eval_fun(board, 'o')}\")\n",
    "\n",
    "board = empty_board() \n",
    "board[0] = 'x'\n",
    "board[1] = 'o'\n",
    "board[3] = 'x' \n",
    "board[4] = 'o'\n",
    "show_board(board)\n",
    "print(f\"eval for x: {eval_fun(board)}\")\n",
    "print(f\"eval for o: {eval_fun(board, 'o')}\")"
   ]
  },
  {
   "cell_type": "markdown",
   "metadata": {},
   "source": [
    "We add a cuttoff to the Recursive DFS algorithm for Minimax Search with Alpha-Beta Pruning (see AIMA page 156ff).\n",
    "\n",
    "We cut off minimax search with alpha-beta pruning at depth and use the heuristic evaluation function to determine the next move.\n",
    "\n",
    "The implementation is for player 'x' returns a the next move."
   ]
  },
  {
   "cell_type": "code",
   "execution_count": 14,
   "metadata": {},
   "outputs": [],
   "source": [
    "# global variables\n",
    "DEBUG = 1 # 1 ... count nodes, 2 ... debug each node\n",
    "COUNT = 0\n",
    "\n",
    "def alpha_beta_search(board, cutoff = None, player = 'x'):\n",
    "    \"\"\"start the search.\"\"\"\n",
    "    global DEBUG, COUNT\n",
    "    COUNT = 0\n",
    "\n",
    "    value, move = max_value_ab(board, player, -math.inf, +math.inf, 0, cutoff)\n",
    "    \n",
    "    if DEBUG >= 1: print(f\"Number of nodes searched (cutoff = {cutoff}): {COUNT}\") \n",
    "    \n",
    "    return value, move\n",
    "\n",
    "def max_value_ab(state, player, alpha, beta, depth, cutoff):\n",
    "    \"\"\"player's best move.\"\"\"\n",
    "    global DEBUG, COUNT\n",
    "    COUNT += 1\n",
    "    \n",
    "    # cut off and terminal test\n",
    "    v, terminal = eval_fun(state, player)\n",
    "    if((cutoff is not None and depth >= cutoff) or terminal): \n",
    "        if(terminal): alpha, beta = v, v\n",
    "        if DEBUG >= 2: print(f\"stopped at {depth}: {state} term: {terminal} eval: {v} [{alpha}, {beta}]\" ) \n",
    "        return v, None\n",
    "    \n",
    "    v, move = -math.inf, None\n",
    "\n",
    "    # check all possible actions in the state, update alpha and return move with the largest value\n",
    "    for a in get_actions(state):\n",
    "        v2, a2 = min_value_ab(result(state, player, a), player, alpha, beta, depth + 1, cutoff)\n",
    "        if v2 > v:\n",
    "            v, move = v2, a\n",
    "            alpha = max(alpha, v)\n",
    "        if v >= beta: return v, move\n",
    "    \n",
    "    return v, move\n",
    "\n",
    "def min_value_ab(state, player, alpha, beta, depth, cutoff):\n",
    "    \"\"\"opponent's best response.\"\"\"\n",
    "    global DEBUG, COUNT\n",
    "    COUNT += 1\n",
    "    \n",
    "    # cut off and terminal test\n",
    "    v, terminal = eval_fun(state, player)\n",
    "    #if((cutoff is not None and depth >= cutoff) or terminal): \n",
    "    # always let the opponent make her move\n",
    "    if(terminal): \n",
    "        if(terminal): alpha, beta = v, v\n",
    "        if DEBUG >= 2: print(f\"stopped at {depth}: {state} term: {terminal} eval: {v} [{alpha}, {beta}]\" ) \n",
    "        return v, None\n",
    "    \n",
    "    v, move = +math.inf, None\n",
    "\n",
    "    # check all possible actions in the state, update beta and return move with the smallest value\n",
    "    for a in get_actions(state):\n",
    "        v2, a2 = max_value_ab(result(state, other(player), a), player, alpha, beta, depth + 1, cutoff)\n",
    "        if v2 < v:\n",
    "            v, move = v2, a\n",
    "            beta = min(beta, v)\n",
    "        if v <= alpha: return v, move\n",
    "    \n",
    "    return v, move"
   ]
  },
  {
   "cell_type": "markdown",
   "metadata": {},
   "source": [
    "## Some Tests"
   ]
  },
  {
   "cell_type": "code",
   "execution_count": 15,
   "metadata": {
    "scrolled": false
   },
   "outputs": [
    {
     "name": "stdout",
     "output_type": "stream",
     "text": [
      "Board:\n",
      "[['x' 'o' ' ']\n",
      " ['o' 'x' ' ']\n",
      " [' ' ' ' ' ']]\n",
      "\n",
      "Number of nodes searched (cutoff = 2): 13\n"
     ]
    },
    {
     "data": {
      "text/plain": [
       "(10, 8)"
      ]
     },
     "metadata": {},
     "output_type": "display_data"
    },
    {
     "name": "stdout",
     "output_type": "stream",
     "text": [
      "Number of nodes searched (cutoff = 4): 47\n"
     ]
    },
    {
     "data": {
      "text/plain": [
       "(10, 2)"
      ]
     },
     "metadata": {},
     "output_type": "display_data"
    },
    {
     "name": "stdout",
     "output_type": "stream",
     "text": [
      "Number of nodes searched (cutoff = None): 61\n"
     ]
    },
    {
     "data": {
      "text/plain": [
       "(10, 2)"
      ]
     },
     "metadata": {},
     "output_type": "display_data"
    }
   ],
   "source": [
    "# x is about to win (play 8)\n",
    "\n",
    "board = empty_board() \n",
    "board[0] = 'x'\n",
    "board[1] = 'o'\n",
    "board[3] = 'o'\n",
    "board[4] = 'x'\n",
    "\n",
    "print(\"Board:\")\n",
    "show_board(board)\n",
    "\n",
    "print()\n",
    "display(alpha_beta_search(board, 2))\n",
    "display(alpha_beta_search(board, 4))\n",
    "display(alpha_beta_search(board))"
   ]
  },
  {
   "cell_type": "code",
   "execution_count": 16,
   "metadata": {},
   "outputs": [
    {
     "name": "stdout",
     "output_type": "stream",
     "text": [
      "Board:\n",
      "[['o' 'o' ' ']\n",
      " ['o' 'x' ' ']\n",
      " [' ' ' ' 'x']]\n",
      "\n",
      "Number of nodes searched (cutoff = 2): 11\n"
     ]
    },
    {
     "data": {
      "text/plain": [
       "(-10, 2)"
      ]
     },
     "metadata": {},
     "output_type": "display_data"
    },
    {
     "name": "stdout",
     "output_type": "stream",
     "text": [
      "Number of nodes searched (cutoff = None): 15\n"
     ]
    },
    {
     "data": {
      "text/plain": [
       "(-10, 2)"
      ]
     },
     "metadata": {},
     "output_type": "display_data"
    }
   ],
   "source": [
    "# o is about to win\n",
    "\n",
    "board = empty_board() \n",
    "board[0] = 'o'\n",
    "board[1] = 'o'\n",
    "board[3] = 'o'\n",
    "board[4] = 'x'\n",
    "board[8] = 'x'\n",
    "\n",
    "print(\"Board:\")\n",
    "show_board(board)\n",
    "\n",
    "print()\n",
    "display(alpha_beta_search(board, 2))\n",
    "display(alpha_beta_search(board))"
   ]
  },
  {
   "cell_type": "code",
   "execution_count": 17,
   "metadata": {},
   "outputs": [
    {
     "name": "stdout",
     "output_type": "stream",
     "text": [
      "Board:\n",
      "[['x' 'o' 'x']\n",
      " [' ' 'o' ' ']\n",
      " [' ' ' ' ' ']]\n",
      "\n",
      "Number of nodes searched (cutoff = 2): 21\n"
     ]
    },
    {
     "data": {
      "text/plain": [
       "(-1, 7)"
      ]
     },
     "metadata": {},
     "output_type": "display_data"
    },
    {
     "name": "stdout",
     "output_type": "stream",
     "text": [
      "Number of nodes searched (cutoff = 4): 81\n"
     ]
    },
    {
     "data": {
      "text/plain": [
       "(0, 7)"
      ]
     },
     "metadata": {},
     "output_type": "display_data"
    },
    {
     "name": "stdout",
     "output_type": "stream",
     "text": [
      "Number of nodes searched (cutoff = None): 101\n"
     ]
    },
    {
     "data": {
      "text/plain": [
       "(0, 7)"
      ]
     },
     "metadata": {},
     "output_type": "display_data"
    }
   ],
   "source": [
    "#### x can draw if it chooses 7.\n",
    "\n",
    "board = empty_board() \n",
    "board[0] = 'x'\n",
    "board[1] = 'o'\n",
    "board[2] = 'x'\n",
    "board[4] = 'o'\n",
    "\n",
    "print(\"Board:\")\n",
    "show_board(board)\n",
    "\n",
    "print()\n",
    "display(alpha_beta_search(board, 2))\n",
    "display(alpha_beta_search(board, 4))\n",
    "display(alpha_beta_search(board))"
   ]
  },
  {
   "cell_type": "code",
   "execution_count": 18,
   "metadata": {
    "scrolled": false
   },
   "outputs": [
    {
     "name": "stdout",
     "output_type": "stream",
     "text": [
      "Board:\n",
      "[[' ' ' ' ' ']\n",
      " [' ' 'o' ' ']\n",
      " [' ' ' ' ' ']]\n",
      "\n",
      "Number of nodes searched (cutoff = 2): 24\n"
     ]
    },
    {
     "data": {
      "text/plain": [
       "(-1, 0)"
      ]
     },
     "metadata": {},
     "output_type": "display_data"
    },
    {
     "name": "stdout",
     "output_type": "stream",
     "text": [
      "Number of nodes searched (cutoff = 4): 220\n"
     ]
    },
    {
     "data": {
      "text/plain": [
       "(-1, 0)"
      ]
     },
     "metadata": {},
     "output_type": "display_data"
    },
    {
     "name": "stdout",
     "output_type": "stream",
     "text": [
      "Number of nodes searched (cutoff = None): 2316\n"
     ]
    },
    {
     "data": {
      "text/plain": [
       "(0, 0)"
      ]
     },
     "metadata": {},
     "output_type": "display_data"
    }
   ],
   "source": [
    "# o went first\n",
    "\n",
    "board = empty_board() \n",
    "board[4] = 'o'\n",
    "\n",
    "print(\"Board:\")\n",
    "show_board(board)\n",
    "\n",
    "\n",
    "print()\n",
    "display(alpha_beta_search(board, 2))\n",
    "display(alpha_beta_search(board, 4))\n",
    "display(alpha_beta_search(board))"
   ]
  },
  {
   "cell_type": "code",
   "execution_count": 19,
   "metadata": {
    "scrolled": true
   },
   "outputs": [
    {
     "name": "stdout",
     "output_type": "stream",
     "text": [
      "Board:\n",
      "[[' ' ' ' ' ']\n",
      " [' ' ' ' ' ']\n",
      " [' ' ' ' ' ']]\n",
      "\n",
      "Number of nodes searched (cutoff = 2): 26\n"
     ]
    },
    {
     "data": {
      "text/plain": [
       "(0, 0)"
      ]
     },
     "metadata": {},
     "output_type": "display_data"
    },
    {
     "name": "stdout",
     "output_type": "stream",
     "text": [
      "11.9 ms ± 0 ns per loop (mean ± std. dev. of 1 run, 1 loop each)\n",
      "Number of nodes searched (cutoff = 4): 541\n"
     ]
    },
    {
     "data": {
      "text/plain": [
       "(0, 4)"
      ]
     },
     "metadata": {},
     "output_type": "display_data"
    },
    {
     "name": "stdout",
     "output_type": "stream",
     "text": [
      "299 ms ± 0 ns per loop (mean ± std. dev. of 1 run, 1 loop each)\n",
      "Number of nodes searched (cutoff = None): 18297\n"
     ]
    },
    {
     "data": {
      "text/plain": [
       "(0, 0)"
      ]
     },
     "metadata": {},
     "output_type": "display_data"
    },
    {
     "name": "stdout",
     "output_type": "stream",
     "text": [
      "4.4 s ± 0 ns per loop (mean ± std. dev. of 1 run, 1 loop each)\n"
     ]
    }
   ],
   "source": [
    "# Empty board: Only a draw an be guaranteed\n",
    "\n",
    "board = empty_board() \n",
    "\n",
    "print(\"Board:\")\n",
    "show_board(board)\n",
    "\n",
    "\n",
    "print()\n",
    "%timeit -n 1 -r 1 display(alpha_beta_search(board, 2))\n",
    "%timeit -n 1 -r 1 display(alpha_beta_search(board, 4))\n",
    "%timeit -n 1 -r 1 display(alpha_beta_search(board))"
   ]
  },
  {
   "cell_type": "code",
   "execution_count": 20,
   "metadata": {
    "scrolled": true
   },
   "outputs": [
    {
     "name": "stdout",
     "output_type": "stream",
     "text": [
      "Board:\n",
      "[['o' ' ' 'x']\n",
      " [' ' ' ' ' ']\n",
      " [' ' ' ' 'o']]\n",
      "\n",
      "Number of nodes searched (cutoff = 2): 26\n"
     ]
    },
    {
     "data": {
      "text/plain": [
       "(-2, 4)"
      ]
     },
     "metadata": {},
     "output_type": "display_data"
    },
    {
     "name": "stdout",
     "output_type": "stream",
     "text": [
      "Number of nodes searched (cutoff = 4): 148\n"
     ]
    },
    {
     "data": {
      "text/plain": [
       "(-10, 1)"
      ]
     },
     "metadata": {},
     "output_type": "display_data"
    },
    {
     "name": "stdout",
     "output_type": "stream",
     "text": [
      "Number of nodes searched (cutoff = None): 238\n"
     ]
    },
    {
     "data": {
      "text/plain": [
       "(-10, 1)"
      ]
     },
     "metadata": {},
     "output_type": "display_data"
    }
   ],
   "source": [
    "# A bad situation\n",
    "\n",
    "board = empty_board() \n",
    "board[0] = 'o'\n",
    "board[2] = 'x'\n",
    "board[8] = 'o'\n",
    "\n",
    "print(\"Board:\")\n",
    "show_board(board)\n",
    "\n",
    "\n",
    "print()\n",
    "display(alpha_beta_search(board, 2))\n",
    "display(alpha_beta_search(board, 4))\n",
    "display(alpha_beta_search(board))"
   ]
  },
  {
   "cell_type": "markdown",
   "metadata": {},
   "source": [
    "## Experiments\n",
    "\n",
    "\n",
    "### Baseline: Randomized Player\n",
    "\n",
    "A completely randomized player agent should be a weak baseline."
   ]
  },
  {
   "cell_type": "code",
   "execution_count": 21,
   "metadata": {},
   "outputs": [
    {
     "name": "stdout",
     "output_type": "stream",
     "text": [
      "[['o' ' ' 'x']\n",
      " [' ' ' ' ' ']\n",
      " [' ' ' ' 'o']]\n"
     ]
    },
    {
     "data": {
      "text/plain": [
       "6"
      ]
     },
     "execution_count": 21,
     "metadata": {},
     "output_type": "execute_result"
    }
   ],
   "source": [
    "def random_player(board, player = None):\n",
    "    \"\"\"Simple player that chooses a random empy square. player is unused\"\"\"\n",
    "    return np.random.choice(get_actions(board))\n",
    "\n",
    "show_board(board)\n",
    "random_player(board)"
   ]
  },
  {
   "cell_type": "markdown",
   "metadata": {},
   "source": [
    "### The Environment\n",
    "\n",
    "Implement the environment that calls the agent. The percept is the board and the action is move."
   ]
  },
  {
   "cell_type": "code",
   "execution_count": 22,
   "metadata": {},
   "outputs": [],
   "source": [
    "def switch_player(player, x, o):\n",
    "    if player == 'x':\n",
    "        return 'o', o\n",
    "    else:\n",
    "        return 'x', x\n",
    "\n",
    "def play(x, o, N = 100):\n",
    "    results = {'x': 0, 'o': 0, 'd': 0}\n",
    "    for i in range(N):\n",
    "        board = empty_board()\n",
    "        player, fun = 'x', x\n",
    "        \n",
    "        while True:\n",
    "            a = fun(board, player)\n",
    "            board = result(board, player, a)\n",
    "            \n",
    "            win = check_win(board)\n",
    "            if win != 'n':\n",
    "                if DEBUG >= 1: print(f\"{board} winner: {win}\")\n",
    "                results[win] += 1\n",
    "                break\n",
    "            \n",
    "            player, fun = switch_player(player, x, o)   \n",
    " \n",
    "    return results"
   ]
  },
  {
   "cell_type": "markdown",
   "metadata": {},
   "source": [
    "### Random vs. Random"
   ]
  },
  {
   "cell_type": "code",
   "execution_count": 23,
   "metadata": {},
   "outputs": [
    {
     "name": "stdout",
     "output_type": "stream",
     "text": [
      "['o', 'x', 'o', 'x', 'x', 'o', 'o', 'x', 'x'] winner: x\n",
      "['x', ' ', 'o', ' ', 'x', ' ', 'o', ' ', 'x'] winner: x\n",
      "[' ', 'o', 'o', 'x', 'x', 'o', 'x', 'x', 'o'] winner: o\n",
      "['x', ' ', ' ', 'x', ' ', 'o', 'x', 'o', ' '] winner: x\n",
      "['x', 'o', 'x', 'x', 'x', 'o', 'o', 'x', 'o'] winner: d\n",
      "['o', 'x', 'o', 'x', 'x', 'o', 'x', ' ', 'o'] winner: o\n",
      "['o', 'x', 'x', 'o', ' ', 'x', ' ', 'o', 'x'] winner: x\n",
      "[' ', ' ', 'x', 'x', 'x', 'o', 'x', 'o', 'o'] winner: x\n",
      "[' ', 'o', 'o', 'x', ' ', 'o', 'x', 'x', 'x'] winner: x\n",
      "['o', 'x', ' ', 'o', ' ', ' ', 'o', 'x', 'x'] winner: o\n",
      "['o', ' ', 'x', 'o', 'x', 'x', 'x', 'o', ' '] winner: x\n",
      "['x', 'x', 'o', 'x', 'o', 'x', 'x', 'o', 'o'] winner: x\n",
      "['o', ' ', 'x', 'o', 'x', 'x', 'o', 'x', 'o'] winner: o\n",
      "['x', 'x', 'o', 'o', 'x', 'x', 'x', 'o', 'o'] winner: d\n",
      "[' ', 'x', ' ', 'x', 'x', 'o', 'o', 'x', 'o'] winner: x\n",
      "[' ', 'x', ' ', 'o', 'x', ' ', ' ', 'x', 'o'] winner: x\n",
      "[' ', 'o', ' ', 'x', 'x', 'x', ' ', ' ', 'o'] winner: x\n",
      "[' ', 'x', 'o', 'x', 'x', 'x', 'o', ' ', 'o'] winner: x\n",
      "['o', 'x', 'o', 'x', 'x', 'o', 'x', 'o', 'x'] winner: d\n",
      "['o', 'x', 'o', 'x', 'o', 'x', 'x', 'o', 'x'] winner: d\n",
      "['x', 'x', 'o', 'o', 'x', 'x', 'o', 'o', 'x'] winner: x\n",
      "[' ', ' ', 'o', 'x', 'x', 'x', ' ', ' ', 'o'] winner: x\n",
      "['x', 'x', 'o', 'x', 'o', 'o', 'o', 'x', ' '] winner: o\n",
      "['x', 'o', ' ', 'x', 'o', ' ', 'x', 'x', 'o'] winner: x\n",
      "[' ', 'o', 'o', 'x', 'x', 'x', ' ', 'x', 'o'] winner: x\n",
      "['x', ' ', 'x', 'o', 'x', 'o', ' ', 'o', 'x'] winner: x\n",
      "['x', 'x', ' ', 'o', 'x', 'o', 'o', 'x', ' '] winner: x\n",
      "['x', 'x', ' ', 'o', 'x', 'x', 'o', 'o', 'o'] winner: o\n",
      "['x', 'x', 'o', 'o', 'x', 'o', ' ', ' ', 'x'] winner: x\n",
      "['x', ' ', 'o', 'x', 'o', ' ', 'x', ' ', ' '] winner: x\n",
      "['o', ' ', 'x', ' ', ' ', 'x', 'o', ' ', 'x'] winner: x\n",
      "['o', 'x', 'x', 'x', 'x', 'o', 'o', 'o', 'x'] winner: d\n",
      "['x', 'o', 'o', 'x', 'x', 'o', 'x', 'o', 'x'] winner: x\n",
      "['o', 'x', 'x', ' ', 'o', 'x', ' ', ' ', 'o'] winner: o\n",
      "['o', 'o', 'o', ' ', 'x', 'x', ' ', ' ', 'x'] winner: o\n",
      "['o', 'o', 'x', 'o', 'x', 'x', 'x', 'x', 'o'] winner: x\n",
      "['o', 'x', 'x', 'o', 'o', 'x', 'x', 'o', 'x'] winner: x\n",
      "['o', 'o', 'x', 'x', 'o', 'o', 'x', 'x', 'x'] winner: x\n",
      "['o', 'o', 'o', 'x', ' ', 'x', 'x', 'o', 'x'] winner: o\n",
      "['x', 'o', ' ', 'o', 'x', ' ', 'o', 'x', 'x'] winner: x\n",
      "['x', 'x', 'o', ' ', 'o', 'o', 'x', 'x', 'o'] winner: o\n",
      "['o', 'o', 'x', 'o', 'x', 'x', 'x', 'x', 'o'] winner: x\n",
      "['o', 'o', 'x', 'x', 'x', 'o', 'o', 'x', 'x'] winner: d\n",
      "['x', 'x', 'o', 'x', 'o', 'o', ' ', 'x', 'o'] winner: o\n",
      "['o', ' ', 'x', 'x', 'x', 'x', 'o', ' ', 'o'] winner: x\n",
      "['x', ' ', 'x', 'o', 'o', 'o', ' ', ' ', 'x'] winner: o\n",
      "['o', 'x', 'x', 'o', ' ', 'x', ' ', 'o', 'x'] winner: x\n",
      "['o', 'x', 'x', 'o', 'o', 'x', 'x', 'o', 'x'] winner: x\n",
      "['o', ' ', 'x', 'x', 'o', ' ', ' ', 'x', 'o'] winner: o\n",
      "['o', 'x', 'o', 'x', 'o', ' ', 'o', 'x', 'x'] winner: o\n",
      "['o', 'x', 'o', ' ', 'o', 'x', 'o', 'x', 'x'] winner: o\n",
      "['x', ' ', 'o', 'x', ' ', ' ', 'x', 'o', ' '] winner: x\n",
      "['x', 'x', 'o', 'x', 'o', ' ', 'o', 'o', 'x'] winner: o\n",
      "['o', 'o', 'o', 'x', 'o', 'x', 'x', ' ', 'x'] winner: o\n",
      "['o', 'x', 'x', 'o', 'x', 'o', 'x', 'o', 'x'] winner: x\n",
      "['x', 'x', 'x', 'o', 'o', ' ', 'x', ' ', 'o'] winner: x\n",
      "['x', 'x', 'o', 'o', 'o', 'x', 'x', 'x', 'o'] winner: d\n",
      "['o', 'x', 'x', 'x', ' ', 'x', 'o', 'o', 'o'] winner: o\n",
      "['x', 'o', 'o', ' ', 'x', 'o', 'x', 'x', 'o'] winner: o\n",
      "['o', 'x', 'x', 'x', 'o', 'o', 'x', 'o', 'x'] winner: d\n",
      "['x', 'o', 'o', 'x', 'x', 'o', 'o', 'x', 'x'] winner: x\n",
      "['x', 'o', 'x', ' ', 'x', 'o', 'o', ' ', 'x'] winner: x\n",
      "['x', 'o', ' ', 'x', 'o', ' ', 'x', ' ', ' '] winner: x\n",
      "['o', 'o', 'o', 'x', 'x', ' ', 'x', 'x', 'o'] winner: o\n",
      "[' ', ' ', 'x', 'o', ' ', 'x', ' ', 'o', 'x'] winner: x\n",
      "['x', 'o', 'x', 'x', 'o', 'o', 'x', 'x', 'o'] winner: x\n",
      "['x', 'o', ' ', 'o', 'x', ' ', ' ', ' ', 'x'] winner: x\n",
      "[' ', ' ', 'x', ' ', 'x', 'x', 'o', 'o', 'o'] winner: o\n",
      "['o', 'x', 'x', 'o', 'x', 'o', 'x', ' ', ' '] winner: x\n",
      "['x', 'x', 'x', 'o', 'x', ' ', 'o', 'o', ' '] winner: x\n",
      "['x', ' ', 'x', 'o', 'o', 'o', 'x', 'x', 'o'] winner: o\n",
      "['x', 'o', 'x', 'o', 'o', 'x', 'x', 'x', 'o'] winner: d\n",
      "['x', ' ', 'o', 'x', 'x', 'o', 'o', ' ', 'x'] winner: x\n",
      "['x', ' ', ' ', 'o', 'x', 'o', 'x', 'o', 'x'] winner: x\n",
      "['x', 'x', ' ', 'x', 'o', 'o', 'x', ' ', 'o'] winner: x\n",
      "['x', 'x', 'o', 'o', 'x', 'x', 'o', 'x', 'o'] winner: x\n",
      "['o', 'o', ' ', 'o', 'x', 'x', 'o', 'x', 'x'] winner: o\n",
      "['o', 'x', 'o', 'x', 'o', 'x', 'x', 'o', 'x'] winner: d\n",
      "['x', 'o', 'x', 'o', 'o', 'x', 'x', 'x', 'o'] winner: d\n",
      "['x', 'x', 'o', 'o', 'x', 'x', 'o', 'x', 'o'] winner: x\n",
      "['o', ' ', ' ', ' ', 'o', 'x', 'x', 'x', 'o'] winner: o\n",
      "['o', 'o', 'o', 'x', 'x', 'o', 'x', ' ', 'x'] winner: o\n",
      "['o', 'o', 'x', 'x', 'x', 'o', 'x', 'o', 'x'] winner: x\n",
      "[' ', 'o', 'x', 'x', 'x', 'x', 'o', ' ', 'o'] winner: x\n",
      "['x', 'o', 'x', 'o', 'x', 'x', 'o', 'x', 'o'] winner: d\n",
      "['x', 'o', 'x', 'x', ' ', 'x', 'o', 'o', 'o'] winner: o\n",
      "['o', 'x', 'x', ' ', 'o', 'x', 'x', 'o', 'o'] winner: o\n",
      "['o', 'o', 'x', 'x', 'o', 'o', 'x', 'x', 'x'] winner: x\n",
      "['x', 'x', 'o', 'o', 'x', 'x', 'x', 'o', 'o'] winner: d\n",
      "['o', 'o', 'x', 'x', 'x', 'o', 'x', 'o', 'x'] winner: x\n",
      "['o', 'o', 'x', 'x', 'o', 'x', 'o', 'x', 'x'] winner: x\n",
      "['x', ' ', 'o', 'o', 'x', 'o', 'x', ' ', 'x'] winner: x\n",
      "['x', 'o', 'x', 'x', 'o', 'x', 'o', 'x', 'o'] winner: d\n",
      "[' ', 'o', ' ', 'x', 'o', ' ', 'x', 'o', 'x'] winner: o\n",
      "['x', 'o', 'o', 'x', 'x', 'o', ' ', ' ', 'x'] winner: x\n",
      "[' ', 'o', 'x', 'x', 'x', 'o', 'x', ' ', 'o'] winner: x\n",
      "['x', ' ', 'x', 'o', 'o', 'o', 'x', 'x', 'o'] winner: o\n",
      "['x', 'x', 'x', 'x', 'o', ' ', 'o', 'o', ' '] winner: x\n",
      "['o', 'x', 'o', 'x', 'x', ' ', ' ', 'x', 'o'] winner: x\n",
      "['o', 'o', 'x', 'o', 'x', 'x', 'x', 'x', 'o'] winner: x\n"
     ]
    },
    {
     "data": {
      "text/plain": [
       "{'x': 57, 'o': 29, 'd': 14}"
      ]
     },
     "metadata": {},
     "output_type": "display_data"
    },
    {
     "name": "stdout",
     "output_type": "stream",
     "text": [
      "102 ms ± 0 ns per loop (mean ± std. dev. of 1 run, 1 loop each)\n"
     ]
    }
   ],
   "source": [
    "%timeit -n 1 -r 1 display(play(random_player, random_player))"
   ]
  },
  {
   "cell_type": "markdown",
   "metadata": {},
   "source": [
    "### Minimax with Alpha-Beta Pruning vs. Random"
   ]
  },
  {
   "cell_type": "code",
   "execution_count": 24,
   "metadata": {
    "scrolled": true
   },
   "outputs": [
    {
     "name": "stdout",
     "output_type": "stream",
     "text": [
      "heuristic2 vs. random:\n",
      "Number of nodes searched (cutoff = 2): 26\n",
      "Number of nodes searched (cutoff = 2): 27\n",
      "Number of nodes searched (cutoff = 2): 20\n",
      "Number of nodes searched (cutoff = 2): 6\n",
      "['x', 'o', 'x', 'x', 'o', ' ', 'x', ' ', 'o'] winner: x\n",
      "Number of nodes searched (cutoff = 2): 26\n",
      "Number of nodes searched (cutoff = 2): 37\n",
      "Number of nodes searched (cutoff = 2): 13\n",
      "['x', ' ', 'o', 'x', 'o', ' ', 'x', ' ', ' '] winner: x\n",
      "Number of nodes searched (cutoff = 2): 26\n",
      "Number of nodes searched (cutoff = 2): 27\n",
      "Number of nodes searched (cutoff = 2): 10\n",
      "['x', 'x', 'x', 'o', ' ', ' ', ' ', ' ', 'o'] winner: x\n"
     ]
    },
    {
     "data": {
      "text/plain": [
       "{'x': 3, 'o': 0, 'd': 0}"
      ]
     },
     "metadata": {},
     "output_type": "display_data"
    }
   ],
   "source": [
    "def heuristic2_player(board, player = 'x'):\n",
    "    value, action = alpha_beta_search(board, cutoff = 2, player = player)\n",
    "    return action\n",
    "\n",
    "def heuristic4_player(board, player = 'x'):\n",
    "    value, action = alpha_beta_search(board, cutoff = 4, player = player)\n",
    "    return action\n",
    "\n",
    "def alpha_beta_player(board, player = 'x'):\n",
    "    value, action = alpha_beta_search(board, cutoff = None, player = player)\n",
    "    return action\n",
    "\n",
    "DEBUG = 1\n",
    "print(\"heuristic2 vs. random:\")\n",
    "display(play(heuristic2_player, random_player, N = 3))"
   ]
  },
  {
   "cell_type": "code",
   "execution_count": 25,
   "metadata": {},
   "outputs": [
    {
     "name": "stdout",
     "output_type": "stream",
     "text": [
      "heuristic2 vs. random:\n"
     ]
    },
    {
     "data": {
      "text/plain": [
       "{'x': 94, 'o': 0, 'd': 6}"
      ]
     },
     "metadata": {},
     "output_type": "display_data"
    },
    {
     "name": "stdout",
     "output_type": "stream",
     "text": [
      "2.29 s ± 0 ns per loop (mean ± std. dev. of 1 run, 1 loop each)\n",
      "\n",
      "random vs. heuristic2\n"
     ]
    },
    {
     "data": {
      "text/plain": [
       "{'x': 1, 'o': 80, 'd': 19}"
      ]
     },
     "metadata": {},
     "output_type": "display_data"
    },
    {
     "name": "stdout",
     "output_type": "stream",
     "text": [
      "2.27 s ± 0 ns per loop (mean ± std. dev. of 1 run, 1 loop each)\n"
     ]
    }
   ],
   "source": [
    "DEBUG = 0\n",
    "print(\"heuristic2 vs. random:\")\n",
    "%timeit -n 1 -r 1 display(play(heuristic2_player, random_player))\n",
    "\n",
    "print()\n",
    "print(\"random vs. heuristic2\")\n",
    "%timeit -n 1 -r 1 display(play(random_player, heuristic2_player))"
   ]
  },
  {
   "cell_type": "code",
   "execution_count": 26,
   "metadata": {},
   "outputs": [
    {
     "name": "stdout",
     "output_type": "stream",
     "text": [
      "heuristic4 vs. random:\n"
     ]
    },
    {
     "data": {
      "text/plain": [
       "{'x': 99, 'o': 0, 'd': 1}"
      ]
     },
     "metadata": {},
     "output_type": "display_data"
    },
    {
     "name": "stdout",
     "output_type": "stream",
     "text": [
      "29.9 s ± 0 ns per loop (mean ± std. dev. of 1 run, 1 loop each)\n",
      "\n",
      "random vs. heuristic4\n"
     ]
    },
    {
     "data": {
      "text/plain": [
       "{'x': 0, 'o': 78, 'd': 22}"
      ]
     },
     "metadata": {},
     "output_type": "display_data"
    },
    {
     "name": "stdout",
     "output_type": "stream",
     "text": [
      "17.5 s ± 0 ns per loop (mean ± std. dev. of 1 run, 1 loop each)\n"
     ]
    }
   ],
   "source": [
    "DEBUG = 0\n",
    "\n",
    "print(\"heuristic4 vs. random:\")\n",
    "%timeit -n 1 -r 1 display(play(heuristic4_player, random_player))\n",
    "\n",
    "print()\n",
    "print(\"random vs. heuristic4\")\n",
    "%timeit -n 1 -r 1 display(play(random_player, heuristic4_player))"
   ]
  },
  {
   "cell_type": "markdown",
   "metadata": {},
   "source": [
    "### Heuristic vs. Minimax with Alpha-Beta Pruning"
   ]
  },
  {
   "cell_type": "code",
   "execution_count": 27,
   "metadata": {},
   "outputs": [
    {
     "name": "stdout",
     "output_type": "stream",
     "text": [
      "heuristic2 vs. alpha_beta\n"
     ]
    },
    {
     "data": {
      "text/plain": [
       "{'x': 0, 'o': 0, 'd': 1}"
      ]
     },
     "metadata": {},
     "output_type": "display_data"
    },
    {
     "name": "stdout",
     "output_type": "stream",
     "text": [
      "600 ms ± 0 ns per loop (mean ± std. dev. of 1 run, 1 loop each)\n",
      "\n",
      "alpha_beta vs. heuristic2\n"
     ]
    },
    {
     "data": {
      "text/plain": [
       "{'x': 1, 'o': 0, 'd': 0}"
      ]
     },
     "metadata": {},
     "output_type": "display_data"
    },
    {
     "name": "stdout",
     "output_type": "stream",
     "text": [
      "4.3 s ± 0 ns per loop (mean ± std. dev. of 1 run, 1 loop each)\n",
      "\n",
      "heuristic4 vs alpha_beta\n"
     ]
    },
    {
     "data": {
      "text/plain": [
       "{'x': 0, 'o': 0, 'd': 1}"
      ]
     },
     "metadata": {},
     "output_type": "display_data"
    },
    {
     "name": "stdout",
     "output_type": "stream",
     "text": [
      "821 ms ± 0 ns per loop (mean ± std. dev. of 1 run, 1 loop each)\n",
      "\n",
      "alpha_beta vs. heuristic4\n"
     ]
    },
    {
     "data": {
      "text/plain": [
       "{'x': 0, 'o': 0, 'd': 1}"
      ]
     },
     "metadata": {},
     "output_type": "display_data"
    },
    {
     "name": "stdout",
     "output_type": "stream",
     "text": [
      "4.44 s ± 0 ns per loop (mean ± std. dev. of 1 run, 1 loop each)\n"
     ]
    }
   ],
   "source": [
    "DEBUG = 0\n",
    "\n",
    "# Note: No randomness -> play only once\n",
    "\n",
    "print(\"heuristic2 vs. alpha_beta\")\n",
    "%timeit -n 1 -r 1 display(play(heuristic2_player, alpha_beta_player, N = 1))\n",
    "\n",
    "print()\n",
    "print(\"alpha_beta vs. heuristic2\")\n",
    "%timeit -n 1 -r 1 display(play(alpha_beta_player, heuristic2_player, N = 1))\n",
    "\n",
    "print()\n",
    "print(\"heuristic4 vs alpha_beta\")\n",
    "%timeit -n 1 -r 1 display(play(heuristic4_player, alpha_beta_player, N = 1))\n",
    "\n",
    "print()\n",
    "print(\"alpha_beta vs. heuristic4\")\n",
    "%timeit -n 1 -r 1 display(play(alpha_beta_player, heuristic4_player, N = 1))"
   ]
  },
  {
   "cell_type": "markdown",
   "metadata": {},
   "source": [
    "### Heuristic vs. Heuristic"
   ]
  },
  {
   "cell_type": "code",
   "execution_count": 28,
   "metadata": {
    "scrolled": true
   },
   "outputs": [
    {
     "name": "stdout",
     "output_type": "stream",
     "text": [
      "heuristic2 vs. heuristic4\n",
      "Number of nodes searched (cutoff = 2): 26\n",
      "Number of nodes searched (cutoff = 4): 350\n",
      "Number of nodes searched (cutoff = 2): 26\n",
      "Number of nodes searched (cutoff = 4): 49\n",
      "Number of nodes searched (cutoff = 2): 18\n",
      "Number of nodes searched (cutoff = 4): 17\n",
      "Number of nodes searched (cutoff = 2): 8\n",
      "Number of nodes searched (cutoff = 4): 5\n",
      "Number of nodes searched (cutoff = 2): 2\n",
      "['x', 'x', 'o', 'o', 'o', 'x', 'x', 'o', 'x'] winner: d\n"
     ]
    },
    {
     "data": {
      "text/plain": [
       "{'x': 0, 'o': 0, 'd': 1}"
      ]
     },
     "metadata": {},
     "output_type": "display_data"
    },
    {
     "name": "stdout",
     "output_type": "stream",
     "text": [
      "165 ms ± 0 ns per loop (mean ± std. dev. of 1 run, 1 loop each)\n",
      "\n",
      "heuristic4 vs. heuristic2\n",
      "Number of nodes searched (cutoff = 4): 541\n",
      "Number of nodes searched (cutoff = 2): 24\n",
      "Number of nodes searched (cutoff = 4): 238\n",
      "Number of nodes searched (cutoff = 2): 30\n",
      "Number of nodes searched (cutoff = 4): 82\n",
      "Number of nodes searched (cutoff = 2): 14\n",
      "Number of nodes searched (cutoff = 4): 12\n",
      "Number of nodes searched (cutoff = 2): 5\n",
      "Number of nodes searched (cutoff = 4): 2\n",
      "['o', 'x', 'x', 'x', 'x', 'o', 'o', 'o', 'x'] winner: d\n"
     ]
    },
    {
     "data": {
      "text/plain": [
       "{'x': 0, 'o': 0, 'd': 1}"
      ]
     },
     "metadata": {},
     "output_type": "display_data"
    },
    {
     "name": "stdout",
     "output_type": "stream",
     "text": [
      "320 ms ± 0 ns per loop (mean ± std. dev. of 1 run, 1 loop each)\n"
     ]
    }
   ],
   "source": [
    "DEBUG = 0\n",
    "\n",
    "# Note: No randomness -> play only once\n",
    "\n",
    "print(\"heuristic2 vs. heuristic4\")\n",
    "%timeit -n 1 -r 1 display(play(heuristic2_player, heuristic4_player, N = 1))\n",
    "\n",
    "print()\n",
    "print(\"heuristic4 vs. heuristic2\")\n",
    "%timeit -n 1 -r 1 display(play(heuristic4_player, heuristic2_player, N = 1))"
   ]
  },
  {
   "cell_type": "markdown",
   "metadata": {},
   "source": [
    "__Idea:__ Start experiments with different boards that already have a few x's and o's randomly placed on them."
   ]
  }
 ],
 "metadata": {
  "kernelspec": {
   "display_name": "Python 3",
   "language": "python",
   "name": "python3"
  },
  "language_info": {
   "codemirror_mode": {
    "name": "ipython",
    "version": 3
   },
   "file_extension": ".py",
   "mimetype": "text/x-python",
   "name": "python",
   "nbconvert_exporter": "python",
   "pygments_lexer": "ipython3",
   "version": "3.8.5"
  }
 },
 "nbformat": 4,
 "nbformat_minor": 4
}
